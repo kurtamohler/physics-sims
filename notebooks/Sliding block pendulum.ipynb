{
 "cells": [
  {
   "cell_type": "markdown",
   "id": "f6c7dc3c",
   "metadata": {},
   "source": [
    "# Sliding block pendulum\n",
    "\n",
    "There is a block of mass $m_1$ attached to a frictionless railing so that it can only move horizontally. There is a pendulum of length $R$ attached to the block's center of mass. The mass at the end of the pendulum is $m_2$."
   ]
  },
  {
   "cell_type": "markdown",
   "id": "19e23f53",
   "metadata": {},
   "source": [
    "<!-- Google Drawings link: https://docs.google.com/drawings/d/1uEyKH3mmG1xqkCfuvIhD5DVL40ZH4euZn_RG9O0bImA/edit?usp=sharing -->\n",
    "<img src=\"images/sliding-block-pendulum.png\" />"
   ]
  },
  {
   "cell_type": "markdown",
   "id": "801ae332",
   "metadata": {},
   "source": [
    "There is more than one choice of coordinate system that we could use to describe the state of this system. But here's how I chose to do it:\n",
    "\n",
    "There are two degrees of freedom. One of them is the position of the block along the railing and the other is the angle of the pendulum. We'll use the coordinate $x$ as the distance of the block from some fixed point on the railing. $\\theta$ will be the coordinate for the pendulum's angle away from a vertical line drawn through the block, so $\\theta=0$ means that the pendulum is hanging directly under the block.\n",
    "\n",
    "One more detail is that this system is on the surface of Earth, so there is a downward acceleration of 9.8 $m/s^2$ acting on the objects. The block is held up by the railing, so it doesn't move vertically. But the pendulum is affected by gravity.\n",
    "\n",
    "Now let's construct a Lagrangian for this system. First, let's look at the kinetic and potential energy of the block. Since it can't move vertically, and there is no potential energy acting in the $x$ axis, we can set its potential energy to 0."
   ]
  },
  {
   "cell_type": "markdown",
   "id": "641bb33e",
   "metadata": {},
   "source": [
    "$$V_{block} = 0$$"
   ]
  },
  {
   "cell_type": "markdown",
   "id": "73a249b7",
   "metadata": {},
   "source": [
    "As for its kinetic energy, it's just the familiar equation:"
   ]
  },
  {
   "cell_type": "markdown",
   "id": "9e551d83",
   "metadata": {},
   "source": [
    "$$ T_{block} = \\frac{1}{2}m_1 \\dot{x}^2 $$"
   ]
  },
  {
   "cell_type": "markdown",
   "id": "b5e02694",
   "metadata": {},
   "source": [
    "The pendulum is affected by the gravitational potential, which has the form $V_{grav} = mgh$, where $g = 9.8 m/s^2$, and $h$ is its height above the lowest position. The pendulum's lowest position is $h=0$, when $\\theta=0$. The highest position is $h=2R$, when $\\theta=\\pi$. The pendulum follows a circular path between these points, so if you're familiar with trigonometry, hopefully you can see that $h = (R - R\\cos{\\theta})$. So the potential is:"
   ]
  },
  {
   "cell_type": "markdown",
   "id": "5134003a",
   "metadata": {},
   "source": [
    "$$ V = m_2 g (R - R\\cos{\\theta})$$"
   ]
  },
  {
   "cell_type": "markdown",
   "id": "9619053d",
   "metadata": {},
   "source": [
    "$$ V = m_2 g R - m_2 g R \\cos{\\theta}$$"
   ]
  },
  {
   "cell_type": "markdown",
   "id": "e7448972",
   "metadata": {},
   "source": [
    "But wait, we can simplify that. Remember earlier I mentioned that we can add or subtract a constant from a potential energy function without affecting the force? The above function has a constant term $m_2 g R$ that we can remove. That leaves us with:"
   ]
  },
  {
   "cell_type": "markdown",
   "id": "7b26056f",
   "metadata": {},
   "source": [
    "$$V_{pendulum} = -m_2 g R cos{\\theta}$$"
   ]
  },
  {
   "cell_type": "markdown",
   "id": "380a6a95",
   "metadata": {},
   "source": [
    "The kinetic energy of the pendulum is a little complicated. We need to find the pendulum's velocity in both spatial dimensions, $\\textbf{v} = (v_x, v_y)$, and then plug that into:\n"
   ]
  },
  {
   "cell_type": "markdown",
   "id": "ddebef17",
   "metadata": {},
   "source": [
    "$$T_{pendulum} = \\frac{1}{2} m_2 \\textbf{v}^2 = \\frac{1}{2} m_2 (v_x^2 + v_y^2)$$"
   ]
  },
  {
   "cell_type": "markdown",
   "id": "ac50e4f9",
   "metadata": {},
   "source": [
    "First of all, we have to recognize that if $\\theta$ is not changing, $\\dot{\\theta}=0$, then the pendulum's velocity will have a horizontal component equal to $\\dot{x}$, since it is attached to the block. It doesn't have a vertical component, since the block can't move vertically. So we have:"
   ]
  },
  {
   "cell_type": "markdown",
   "id": "59c3f746",
   "metadata": {},
   "source": [
    "$$v_x(\\dot{\\theta}=0) = \\dot{x}$$\n",
    "\n",
    "$$v_y(\\dot{\\theta}=0) = 0$$"
   ]
  },
  {
   "cell_type": "markdown",
   "id": "c08d6f09",
   "metadata": {},
   "source": [
    "Next, if $\\dot{x} = 0$, the pendulum's velocity can be found by using some more trigonometry. The tangential speed of the pendulum is $v = |\\textbf{v}(\\dot{x}=0)|$. Recognize that if the angular speed $\\dot{\\theta}$ was constant, the pendulum would trace the entire circumference $2\\pi R$ of the circular path over a time period of $\\frac{2\\pi \\text{ radians}}{\\dot{\\theta} \\text{ radians per second}} = 2\\pi / \\dot{\\theta}$ seconds. That gives a tangential speed of $v = \\frac{\\text{distance}}{\\text{time}} = \\frac{2\\pi R}{2\\pi / \\dot{\\theta}} = R \\dot{\\theta}$."
   ]
  },
  {
   "cell_type": "markdown",
   "id": "8655cccc",
   "metadata": {},
   "source": [
    "But the horizontal and vertical components of the tangential velocity don't just depend on the tangential speed $v$, they also depend on the current angular position $\\theta$. With $\\theta=0$, all of the tangential velocity will be horizontal, $v_x(\\dot{x}=0, \\theta=0)=R\\dot{\\theta}$, $v_y(\\dot{x}=0, \\theta=0)=0$. With $\\theta=\\pi/2$, all of the tangential velocity will be vertical, $v_x(\\dot{x}=0, \\theta=\\pi/2)=0$, $v_y(\\dot{x}=0, \\theta=\\pi/2)=R\\dot{\\theta}$. So hopefully you can see that the tangential velocity is:"
   ]
  },
  {
   "cell_type": "markdown",
   "id": "420b9899",
   "metadata": {},
   "source": [
    "$$v_x(\\dot{x}=0)=R\\dot{\\theta}\\cos{\\theta}$$\n",
    "$$v_y(\\dot{x}=0)=R\\dot{\\theta}\\sin{\\theta}$$"
   ]
  },
  {
   "cell_type": "markdown",
   "id": "412c6a8a",
   "metadata": {},
   "source": [
    "Now we can add the tangential velocity to the velocity of the pendulum due to the motion of the block to obtain the total velocity of the pendulum:"
   ]
  },
  {
   "cell_type": "markdown",
   "id": "a389ee2f",
   "metadata": {},
   "source": [
    "$$ v_x = R\\dot{\\theta}cos{\\theta} + \\dot{x} $$\n",
    "$$ v_y = R\\dot{\\theta}sin{\\theta} $$"
   ]
  },
  {
   "cell_type": "markdown",
   "id": "e0a14ae0",
   "metadata": {},
   "source": [
    "And the kinetic energy of the pendulum is:"
   ]
  },
  {
   "cell_type": "markdown",
   "id": "43f85269",
   "metadata": {},
   "source": [
    "$$T_{pendulum} = \\frac{1}{2} m_2 ((R\\dot{\\theta}cos{\\theta} + \\dot{x})^2 + (R\\dot{\\theta}sin{\\theta})^2)$$"
   ]
  },
  {
   "cell_type": "markdown",
   "id": "16d64adf",
   "metadata": {},
   "source": [
    "$$T_{pendulum} = \\frac{1}{2} m_2 (R^2\\dot{\\theta}^2cos^2{\\theta} + 2R\\dot{x}\\dot{\\theta}cos{\\theta} + \\dot{x}^2 + R^2\\dot{\\theta}^2sin^2{\\theta})$$"
   ]
  },
  {
   "cell_type": "markdown",
   "id": "971a2d44",
   "metadata": {},
   "source": [
    "$$T_{pendulum} = \\frac{1}{2} m_2 (R^2\\dot{\\theta}^2(cos^2{\\theta} + sin^2{\\theta}) + 2R\\dot{x}\\dot{\\theta}cos{\\theta} + \\dot{x}^2)$$"
   ]
  },
  {
   "cell_type": "markdown",
   "id": "02d9160f",
   "metadata": {},
   "source": [
    "$$cos^2{\\theta} + sin^2{\\theta} = 1$$"
   ]
  },
  {
   "cell_type": "markdown",
   "id": "8bc446dd",
   "metadata": {},
   "source": [
    "$$T_{pendulum} = \\frac{1}{2} m_2 (R^2\\dot{\\theta}^2 + 2R\\dot{x}\\dot{\\theta}cos{\\theta} + \\dot{x}^2)$$"
   ]
  },
  {
   "cell_type": "markdown",
   "id": "cd37232c",
   "metadata": {},
   "source": [
    "Now that we have equations for the kinetic and potential energies of both the pendulum and the block, we can construct the Lagrangian:"
   ]
  },
  {
   "cell_type": "markdown",
   "id": "8c9cf7e2",
   "metadata": {},
   "source": [
    "$$ L = T - V = T_{block} + T_{pendulum} - V_{block} - V_{pendulum} $$\n",
    "$$ L = \\frac{1}{2}m_1 \\dot{x}^2 + \\frac{1}{2} m_2 (R^2\\dot{\\theta}^2 + 2R\\dot{x}\\dot{\\theta}cos{\\theta} + \\dot{x}^2) + m_2 g R cos{\\theta} $$"
   ]
  },
  {
   "cell_type": "markdown",
   "id": "11cfe2e7",
   "metadata": {},
   "source": [
    "Now we'll derive the E-L equations. There will be two of them, one for the $x$ coordinate and one for the $\\theta$ coordinate. Let's do $x$ first."
   ]
  },
  {
   "cell_type": "markdown",
   "id": "0229d463",
   "metadata": {},
   "source": [
    "$$ \\frac{d}{dt}\\frac{\\partial L}{\\partial \\dot{x}} = \\frac{\\partial L}{\\partial x} $$"
   ]
  },
  {
   "cell_type": "markdown",
   "id": "4c348c38",
   "metadata": {},
   "source": [
    "There are no terms in $L$ which depend directly on $x$, so:"
   ]
  },
  {
   "cell_type": "markdown",
   "id": "e7a7d6fb",
   "metadata": {},
   "source": [
    "$$ \\frac{\\partial{L}}{\\partial x} = 0 $$"
   ]
  },
  {
   "cell_type": "markdown",
   "id": "89fd6e17",
   "metadata": {},
   "source": [
    "Now the left side:"
   ]
  },
  {
   "cell_type": "markdown",
   "id": "581bf0b3",
   "metadata": {},
   "source": [
    "$$ \\frac{\\partial L}{\\partial \\dot{x}} = \\frac{\\partial}{\\partial \\dot{x}} ( \\frac{1}{2}m_1 \\dot{x}^2 + \\frac{1}{2} m_2 (2R\\dot{x}\\dot{\\theta}cos{\\theta} + \\dot{x}^2)) $$"
   ]
  },
  {
   "cell_type": "markdown",
   "id": "52068ed4",
   "metadata": {},
   "source": [
    "$$ \\frac{\\partial L}{\\partial \\dot{x}} = m_1 \\dot{x} + m_2 R \\dot{\\theta} \\cos{\\theta} + m_2 \\dot{x} $$"
   ]
  },
  {
   "cell_type": "markdown",
   "id": "e766ee58",
   "metadata": {},
   "source": [
    "$$ \\frac{\\partial L}{\\partial \\dot{x}} = (m_1 + m_2) \\dot{x} + m_2 R \\dot{\\theta}\\cos{\\theta} $$"
   ]
  },
  {
   "cell_type": "markdown",
   "id": "29764a88",
   "metadata": {},
   "source": [
    "$$ \\frac{d}{dt}\\frac{\\partial L}{\\partial \\dot{x}} = \\frac{d}{dt}((m_1 + m_2) \\dot{x} + m_2 R \\dot{\\theta}\\cos{\\theta})$$"
   ]
  },
  {
   "cell_type": "markdown",
   "id": "ee572542",
   "metadata": {},
   "source": [
    "$$ \\frac{d}{dt}\\frac{\\partial L}{\\partial \\dot{x}} = (m_1 + m_2) \\ddot{x} + m_2 R \\frac{d}{dt}\\dot{\\theta}\\cos{\\theta} $$"
   ]
  },
  {
   "cell_type": "markdown",
   "id": "fffb8ec1",
   "metadata": {},
   "source": [
    "To simplify $\\frac{d}{dt}\\dot{\\theta}\\cos{\\theta}$, I'll use the product rule, which says:"
   ]
  },
  {
   "cell_type": "markdown",
   "id": "98f4ea1f",
   "metadata": {},
   "source": [
    "$$\\frac{d}{dC}(A B) = A \\frac{dA}{dC} + B \\frac{dB}{dC} $$"
   ]
  },
  {
   "cell_type": "markdown",
   "id": "5fe89683",
   "metadata": {},
   "source": [
    "$$ \\frac{d}{dt}\\dot{\\theta}\\cos{\\theta} = \\dot{\\theta}\\frac{d}{dt}\\cos{\\theta} + \\cos{\\theta}\\frac{d}{dt}\\dot{\\theta} $$"
   ]
  },
  {
   "cell_type": "markdown",
   "id": "d1222bba",
   "metadata": {},
   "source": [
    "$$ \\frac{d}{dt}\\dot{\\theta}\\cos{\\theta} = \\dot{\\theta}\\frac{d}{dt}\\cos{\\theta} + \\ddot{\\theta}\\cos{\\theta} $$"
   ]
  },
  {
   "cell_type": "markdown",
   "id": "1be5adf1",
   "metadata": {},
   "source": [
    "And then to simplify $\\frac{d}{dt}\\cos{\\theta}$, I'll use the chain rule, which says:"
   ]
  },
  {
   "cell_type": "markdown",
   "id": "bff8d6de",
   "metadata": {},
   "source": [
    "$$ \\frac{dA}{dC} = \\frac{dA}{dB} \\frac{dB}{dC} $$"
   ]
  },
  {
   "cell_type": "markdown",
   "id": "7c8321fa",
   "metadata": {},
   "source": [
    "To use this rule, we'll substitute these:"
   ]
  },
  {
   "cell_type": "markdown",
   "id": "dfb7fd4e",
   "metadata": {},
   "source": [
    "$$ A = \\cos{\\theta} $$\n",
    "$$ B = \\theta $$\n",
    "$$ C = t $$"
   ]
  },
  {
   "cell_type": "markdown",
   "id": "154af1fe",
   "metadata": {},
   "source": [
    "$$ \\frac{d}{dt}\\cos{\\theta} = \\frac{d}{d\\theta}(\\cos{\\theta}) \\frac{d\\theta}{dt} $$"
   ]
  },
  {
   "cell_type": "markdown",
   "id": "001e77e7",
   "metadata": {},
   "source": [
    "$$ \\frac{d}{dt}\\cos{\\theta} = -\\dot{\\theta}\\sin{\\theta} $$"
   ]
  },
  {
   "cell_type": "markdown",
   "id": "288f4f5f",
   "metadata": {},
   "source": [
    "Do some substitutions:"
   ]
  },
  {
   "cell_type": "markdown",
   "id": "1d54856e",
   "metadata": {},
   "source": [
    "$$ \\frac{d}{dt}\\dot{\\theta}\\cos{\\theta} = \\dot{\\theta}\\frac{d}{dt}\\cos{\\theta} + \\ddot{\\theta}\\cos{\\theta} $$"
   ]
  },
  {
   "cell_type": "markdown",
   "id": "f688c506",
   "metadata": {},
   "source": [
    "$$ \\frac{d}{dt}\\dot{\\theta}\\cos{\\theta} = -\\dot{\\theta}^2\\sin{\\theta} + \\ddot{\\theta}\\cos{\\theta} $$"
   ]
  },
  {
   "cell_type": "markdown",
   "id": "6b138aa7",
   "metadata": {},
   "source": [
    "$$ \\frac{d}{dt}\\frac{\\partial L}{\\partial \\dot{x}} = (m_1 + m_2) \\ddot{x} + m_2 R \\frac{d}{dt}\\dot{\\theta}\\cos{\\theta}$$"
   ]
  },
  {
   "cell_type": "markdown",
   "id": "8e69ae53",
   "metadata": {},
   "source": [
    "$$ \\frac{d}{dt}\\frac{\\partial L}{\\partial \\dot{x}} = (m_1 + m_2) \\ddot{x} + m_2 R  (\\ddot{\\theta}\\cos{\\theta} - \\dot{\\theta}^2\\sin{\\theta})$$"
   ]
  },
  {
   "cell_type": "markdown",
   "id": "fa619af4",
   "metadata": {},
   "source": [
    "Now we have both sides of the E-L equation for $x$. Combine them to get:"
   ]
  },
  {
   "cell_type": "markdown",
   "id": "671e82dd",
   "metadata": {},
   "source": [
    "$$(m_1 + m_2) \\ddot{x} + m_2 R  (\\ddot{\\theta}\\cos{\\theta} - \\dot{\\theta}^2\\sin{\\theta}) = 0$$"
   ]
  },
  {
   "cell_type": "markdown",
   "id": "a5848907",
   "metadata": {},
   "source": [
    "And solve for $\\ddot{x}$."
   ]
  },
  {
   "cell_type": "markdown",
   "id": "6ad47364",
   "metadata": {},
   "source": [
    "$$\\ddot{x} = \\frac{m_2 R}{m_1 + m_2} (\\dot{\\theta}^2\\sin{\\theta} - \\ddot{\\theta}\\cos{\\theta})$$"
   ]
  },
  {
   "cell_type": "markdown",
   "id": "12d5ba68",
   "metadata": {},
   "source": [
    "Now let's get the E-L equation for $\\theta$."
   ]
  },
  {
   "cell_type": "markdown",
   "id": "7a551562",
   "metadata": {},
   "source": [
    "$$ L = \\frac{1}{2}m_1 \\dot{x}^2 + \\frac{1}{2} m_2 (R^2\\dot{\\theta}^2 + 2R\\dot{x}\\dot{\\theta}cos{\\theta} + \\dot{x}^2) + m_2 g R cos{\\theta} $$"
   ]
  },
  {
   "cell_type": "markdown",
   "id": "13219dac",
   "metadata": {},
   "source": [
    "$$ \\frac{d}{dt}\\frac{\\partial L}{\\partial \\dot{\\theta}} = \\frac{\\partial L}{\\partial \\theta} $$"
   ]
  },
  {
   "cell_type": "markdown",
   "id": "d0d174ec",
   "metadata": {},
   "source": [
    "$$ \\frac{\\partial L}{\\partial \\theta} = \\frac{\\partial}{\\partial \\theta}(\\frac{1}{2}m_2(2R\\dot{x}\\dot{\\theta}cos{\\theta}) + m_2 g R cos{\\theta})$$ "
   ]
  },
  {
   "cell_type": "markdown",
   "id": "ac9a0b0e",
   "metadata": {},
   "source": [
    "$$ \\frac{\\partial L}{\\partial \\theta} = \\frac{\\partial}{\\partial \\theta}(m_2R\\dot{x}\\dot{\\theta}cos{\\theta} + m_2 g R cos{\\theta})$$ "
   ]
  },
  {
   "cell_type": "markdown",
   "id": "31b53f8b",
   "metadata": {},
   "source": [
    "$$ \\frac{\\partial L}{\\partial \\theta} = m_2 R (\\dot{x}\\dot{\\theta} + g) \\frac{\\partial}{\\partial \\theta}\\cos{\\theta}$$ "
   ]
  },
  {
   "cell_type": "markdown",
   "id": "1146a7dd",
   "metadata": {},
   "source": [
    "$$ \\frac{\\partial L}{\\partial \\theta} = - m_2 R (\\dot{x}\\dot{\\theta} + g) \\sin{\\theta}$$ "
   ]
  },
  {
   "cell_type": "markdown",
   "id": "745171cc",
   "metadata": {},
   "source": [
    "Now the left side."
   ]
  },
  {
   "cell_type": "markdown",
   "id": "35ef2ba2",
   "metadata": {},
   "source": [
    "$$ \\frac{\\partial L}{\\partial \\dot{\\theta}} = \\frac{\\partial}{\\partial \\dot{\\theta}}(\\frac{1}{2} m_2 (R^2\\dot{\\theta}^2 + 2R\\dot{x}\\dot{\\theta}cos{\\theta}))$$"
   ]
  },
  {
   "cell_type": "markdown",
   "id": "733ee0c7",
   "metadata": {},
   "source": [
    "$$ \\frac{\\partial L}{\\partial \\dot{\\theta}} = m_2 R^2 \\dot\\theta + m_2 R \\dot{x}\\cos{\\theta} $$"
   ]
  },
  {
   "cell_type": "markdown",
   "id": "44cbb181",
   "metadata": {},
   "source": [
    "$$ \\frac{d}{dt}\\frac{\\partial L}{\\partial \\dot{\\theta}} = \\frac{d}{dt}(m_2 R^2 \\dot\\theta + m_2 R \\dot{x}\\cos{\\theta} )$$"
   ]
  },
  {
   "cell_type": "markdown",
   "id": "85e39899",
   "metadata": {},
   "source": [
    "$$ \\frac{d}{dt}\\frac{\\partial L}{\\partial \\dot{\\theta}} = m_2 R^2 \\ddot\\theta + m_2 R \\frac{d}{dt}(\\dot{x}\\cos{\\theta})$$"
   ]
  },
  {
   "cell_type": "markdown",
   "id": "98bdcb6d",
   "metadata": {},
   "source": [
    "Use the product rule again."
   ]
  },
  {
   "cell_type": "markdown",
   "id": "748b1714",
   "metadata": {},
   "source": [
    "$$ \\frac{d}{dt}\\frac{\\partial L}{\\partial \\dot{\\theta}} = m_2 R^2 \\ddot\\theta + m_2 R (\\cos{\\theta}\\frac{d}{dt}\\dot{x} + \\dot{x}\\frac{d}{dt}\\cos{\\theta})$$"
   ]
  },
  {
   "cell_type": "markdown",
   "id": "f84f3e85",
   "metadata": {},
   "source": [
    "Remember we saw this earlier:"
   ]
  },
  {
   "cell_type": "markdown",
   "id": "0d7dd0cb",
   "metadata": {},
   "source": [
    "$$ \\frac{d}{dt}\\cos{\\theta} = -\\dot{\\theta}\\sin{\\theta} $$"
   ]
  },
  {
   "cell_type": "markdown",
   "id": "15403432",
   "metadata": {},
   "source": [
    "$$ \\frac{d}{dt}\\frac{\\partial L}{\\partial \\dot{\\theta}} = m_2 R^2 \\ddot\\theta + m_2 R (\\ddot{x}\\cos{\\theta} - \\dot{x}\\dot{\\theta}\\sin{\\theta})$$"
   ]
  },
  {
   "cell_type": "markdown",
   "id": "0aedc695",
   "metadata": {},
   "source": [
    "So the E-L equation for $\\theta$ is:"
   ]
  },
  {
   "cell_type": "markdown",
   "id": "b7548996",
   "metadata": {},
   "source": [
    "$$ m_2 R^2 \\ddot\\theta + m_2 R (\\ddot{x}\\cos{\\theta} - \\dot{x}\\dot{\\theta}\\sin{\\theta}) = - m_2 R (\\dot{x}\\dot{\\theta} + g) \\sin{\\theta}$$ "
   ]
  },
  {
   "cell_type": "markdown",
   "id": "0547b66d",
   "metadata": {},
   "source": [
    "We can simplify this quite a bit."
   ]
  },
  {
   "cell_type": "markdown",
   "id": "d882b164",
   "metadata": {},
   "source": [
    "$$ R \\ddot\\theta + \\ddot{x}\\cos{\\theta} - \\dot{x}\\dot{\\theta}\\sin{\\theta} = - \\dot{x}\\dot{\\theta}\\sin\\theta - g\\sin{\\theta}$$ "
   ]
  },
  {
   "cell_type": "markdown",
   "id": "1145d4d9",
   "metadata": {},
   "source": [
    "$$ R \\ddot\\theta + \\ddot{x}\\cos{\\theta} = - g\\sin{\\theta}$$ "
   ]
  },
  {
   "cell_type": "markdown",
   "id": "a5c60ed2",
   "metadata": {},
   "source": [
    "$$ \\ddot\\theta = - \\frac{1}{R} (\\ddot{x}\\cos{\\theta} + g\\sin{\\theta})$$ "
   ]
  },
  {
   "cell_type": "markdown",
   "id": "00ec5c8c",
   "metadata": {},
   "source": [
    "Now we finally have two equations of motion for the sliding block pendulum. I'll repeat them for clarity."
   ]
  },
  {
   "cell_type": "markdown",
   "id": "fda35091",
   "metadata": {},
   "source": [
    "$$\\ddot{x} = \\frac{m_2 R}{m_1 + m_2} (\\dot{\\theta}^2\\sin{\\theta} - \\ddot{\\theta}\\cos{\\theta})$$"
   ]
  },
  {
   "cell_type": "markdown",
   "id": "cde40221",
   "metadata": {},
   "source": [
    "$$ \\ddot\\theta = - \\frac{1}{R} (\\ddot{x}\\cos{\\theta} + g\\sin{\\theta})$$ "
   ]
  },
  {
   "cell_type": "markdown",
   "id": "bbed6b2d",
   "metadata": {},
   "source": [
    "But the equation for $\\ddot{x}$ contains $\\ddot{\\theta}$ and vice versa, so we should fix that."
   ]
  },
  {
   "cell_type": "markdown",
   "id": "e7767ce9",
   "metadata": {},
   "source": [
    "$$\\frac{m_1 + m_2}{m_2}\\ddot{x} = R \\dot{\\theta}^2\\sin{\\theta} - R\\ddot{\\theta}\\cos{\\theta}$$"
   ]
  },
  {
   "cell_type": "markdown",
   "id": "28aac67f",
   "metadata": {},
   "source": [
    "$$\\frac{m_1 + m_2}{m_2}\\ddot{x} = R \\dot{\\theta}^2\\sin{\\theta} + \\ddot{x}\\cos^2\\theta + g\\sin\\theta\\cos\\theta$$"
   ]
  },
  {
   "cell_type": "markdown",
   "id": "3986b54f",
   "metadata": {},
   "source": [
    "$$(\\frac{m_1 + m_2}{m_2} - \\cos^2\\theta)\\ddot{x} = \\sin\\theta(R\\dot{\\theta}^2 + g\\cos\\theta)$$"
   ]
  },
  {
   "cell_type": "markdown",
   "id": "9d65f3a0",
   "metadata": {},
   "source": [
    "$$\\ddot{x} = \\frac{\\sin\\theta(R\\dot{\\theta}^2 + g\\cos\\theta)}{(\\frac{m_1 + m_2}{m_2} - \\cos^2\\theta)}$$"
   ]
  },
  {
   "cell_type": "markdown",
   "id": "4b001fe9",
   "metadata": {},
   "source": [
    "$$ \\ddot\\theta = - \\frac{1}{R} (\\ddot{x}\\cos{\\theta} + g\\sin{\\theta})$$ "
   ]
  },
  {
   "cell_type": "markdown",
   "id": "b9482589",
   "metadata": {},
   "source": [
    "$$ \\ddot\\theta = - (\\frac{m_2}{m_1 + m_2} (\\dot{\\theta}^2\\sin{\\theta} - \\ddot{\\theta}\\cos{\\theta}))\\cos{\\theta} - \\frac{g}{R}\\sin{\\theta}$$ "
   ]
  },
  {
   "cell_type": "markdown",
   "id": "62e76abd",
   "metadata": {},
   "source": [
    "$$ \\ddot\\theta = - \\frac{m_2}{m_1 + m_2}\\dot{\\theta}^2\\sin{\\theta}\\cos{\\theta} + \\frac{m_2}{m_1 + m_2}\\ddot{\\theta}\\cos^2{\\theta} - \\frac{g}{R}\\sin{\\theta}$$ "
   ]
  },
  {
   "cell_type": "markdown",
   "id": "c035967b",
   "metadata": {},
   "source": [
    "$$ \\ddot\\theta (1 - \\frac{m_2}{m_1 + m_2}\\cos^2{\\theta}) = - \\frac{m_2}{m_1 + m_2}\\dot{\\theta}^2\\sin{\\theta}\\cos{\\theta} - \\frac{g}{R}\\sin{\\theta}$$ "
   ]
  },
  {
   "cell_type": "markdown",
   "id": "b66da4f7",
   "metadata": {},
   "source": [
    "$$ \\ddot\\theta (\\frac{m_2}{m_1 + m_2}\\cos^2{\\theta} - 1) = (\\frac{m_2}{m_1 + m_2}\\dot{\\theta}^2\\cos{\\theta} + \\frac{g}{R})\\sin{\\theta}$$ "
   ]
  },
  {
   "cell_type": "markdown",
   "id": "1d431449",
   "metadata": {},
   "source": [
    "$$ \\ddot\\theta (m_2\\cos^2{\\theta} - m_1 - m_2) = (m_2\\dot{\\theta}^2\\cos{\\theta} + \\frac{g}{R}(m_1 + m_2))\\sin{\\theta}$$ "
   ]
  },
  {
   "cell_type": "markdown",
   "id": "5b836bf6",
   "metadata": {},
   "source": [
    "$$ \\ddot\\theta = \\frac{(m_2\\dot{\\theta}^2\\cos{\\theta} + \\frac{g}{R}(m_1 + m_2))\\sin{\\theta}}{ (m_2\\cos^2{\\theta} - m_1 - m_2)}$$ "
   ]
  },
  {
   "cell_type": "markdown",
   "id": "00bf837d",
   "metadata": {},
   "source": [
    "Let's go ahead and make a simulation of this."
   ]
  },
  {
   "cell_type": "code",
   "execution_count": 1,
   "id": "c9d7b000",
   "metadata": {},
   "outputs": [],
   "source": [
    "import matplotlib.pyplot as plt\n",
    "import numpy as np\n",
    "import physics_sims\n",
    "\n",
    "class SlidingBlockPendulum(physics_sims.Sim):\n",
    "    def __init__(self):\n",
    "        self.t = 0\n",
    "\n",
    "        self.x = 0\n",
    "        self.xd = 0\n",
    "        self.xdd = 0\n",
    "\n",
    "        self.th = np.pi / 2\n",
    "        self.thd = 0\n",
    "        self.thdd = 0\n",
    "\n",
    "        self.m1 = 1\n",
    "        self.m2 = 1\n",
    "        self.R = 4\n",
    "        self.g = 9.80\n",
    "\n",
    "    \n",
    "    def calc_xdd(self, th, thd):\n",
    "        #return (self.m2 * self.R / (self.m1 + self.m2)) * (thd**2 * np.sin(th) - thdd * np.cos(th))\n",
    "        return np.sin(th) * (self.R * thd**2 + self.g * np.cos(th)) / ((self.m1 + self.m2) / self.m2 - np.cos(th)**2)\n",
    "\n",
    "    def calc_thdd(self, th, thd):\n",
    "        #return -(xdd * np.cos(th) + self.g * np.sin(th)) / self.R\n",
    "        return (self.m2 * thd**2 * np.cos(th) + self.g * (self.m1 + self.m2) / self.R) * np.sin(th) / (self.m2 * np.cos(th)**2 - self.m1 - self.m2)\n",
    "    \n",
    "    def update(self, sim_runner, dt):\n",
    "        self.xdd = self.calc_xdd(self.th, self.thd)\n",
    "        self.thdd = self.calc_thdd(self.th, self.thd)\n",
    "\n",
    "        self.xd = self.xd + self.xdd * dt\n",
    "        self.thd = self.thd + self.thdd * dt\n",
    "\n",
    "        self.x = self.x + self.xd * dt\n",
    "        self.th = self.th + self.thd * dt\n",
    "\n",
    "        self.t = self.t + dt\n",
    "\n",
    "    def state(self):\n",
    "        return [self.t, self.x, self.th]\n",
    "\n",
    "    def draw(self, sim_runner):\n",
    "        x_block = self.x\n",
    "        y_block = 2\n",
    "        x_pendulum = x_block + self.R * np.sin(self.th)\n",
    "        y_pendulum = y_block - self.R * np.cos(self.th)\n",
    "\n",
    "        sim_runner.draw_dot([x_block, y_block])\n",
    "        sim_runner.draw_dot([x_pendulum, y_pendulum])\n",
    "\n",
    "trajectory = physics_sims.SimRunner().run_headless(SlidingBlockPendulum(), 10)"
   ]
  },
  {
   "cell_type": "code",
   "execution_count": 2,
   "id": "df40882d",
   "metadata": {},
   "outputs": [
    {
     "data": {
      "image/png": "[encoded data removed]",
      "text/plain": [
       "<Figure size 640x480 with 1 Axes>"
      ]
     },
     "metadata": {},
     "output_type": "display_data"
    }
   ],
   "source": [
    "plt.plot(trajectory[:, 1], trajectory[:, 0], label='x(t)')\n",
    "plt.plot(trajectory[:, 2], trajectory[:, 0], label='θ(t)')\n",
    "\n",
    "plt.xlabel('x or θ')\n",
    "plt.ylabel('t')\n",
    "plt.axis('equal')\n",
    "plt.legend()\n",
    "plt.show()"
   ]
  }
 ],
 "metadata": {
  "kernelspec": {
   "display_name": "Python 3 (ipykernel)",
   "language": "python",
   "name": "python3"
  },
  "language_info": {
   "codemirror_mode": {
    "name": "ipython",
    "version": 3
   },
   "file_extension": ".py",
   "mimetype": "text/x-python",
   "name": "python",
   "nbconvert_exporter": "python",
   "pygments_lexer": "ipython3",
   "version": "3.11.3"
  }
 },
 "nbformat": 4,
 "nbformat_minor": 5
}
