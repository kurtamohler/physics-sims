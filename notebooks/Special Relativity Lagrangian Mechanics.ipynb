{
 "cells": [
  {
   "cell_type": "markdown",
   "metadata": {},
   "source": [
    "# Special Relativity Lagrangian Mechanics"
   ]
  },
  {
   "cell_type": "markdown",
   "metadata": {},
   "source": [
    "These are my notes on Lagrangian mechanics using special relativity theory.\n",
    "\n",
    "I've written notes on [special relativity here](Special%20Relativity.ipynb) and on [Lagrangian mechanics here](Lagrangian%20and%20Hamiltonian%20Mechanics.ipynb). The ideas in those notebooks will be used heavily here.\n",
    "\n",
    "How do particles move in a spacetime where light travels the same speed in all reference frames? That is the question that we'll work toward answering, and we'll make some simulations."
   ]
  },
  {
   "cell_type": "markdown",
   "metadata": {},
   "source": [
    "### Lagrangian of a free particle\n",
    "\n",
    "I don't know the derivation, but Leonard Susskind's book series [The Theoretical Minimum](https://en.wikipedia.org/wiki/The_Theoretical_Minimum) says that, in special relativity, the action of a free particle without forces acting on it is the negative of the particle's mass times the square of the speed of light, integrated over proper time."
   ]
  },
  {
   "cell_type": "markdown",
   "metadata": {},
   "source": [
    "$$ A = \\int_{\\tau_a}^{\\tau_b}{(-m c^2) d\\tau} $$"
   ]
  },
  {
   "cell_type": "markdown",
   "metadata": {},
   "source": [
    "This formula for the action of a free particle is supposed to satisfy the stationary action principle $\\delta A = 0$.\n",
    "\n",
    "The proper time $\\tau$ can be thought of as a time coordinate in some frame of reference that is moving along the same path in space that the particle takes--the particle's \"proper\" frame of reference.\n",
    "\n",
    "We can use the chain rule and the proper time formula to convert this into an integral over coordinate time $t$ in any inertial reference frame that is not moving along the same path as the particle."
   ]
  },
  {
   "cell_type": "markdown",
   "metadata": {},
   "source": [
    "$$ d\\tau = \\frac{d\\tau}{dt} dt = \\sqrt{1 - (\\dot{X}/c)^2} dt $$"
   ]
  },
  {
   "cell_type": "markdown",
   "metadata": {},
   "source": [
    "Then the action integral becomes:"
   ]
  },
  {
   "cell_type": "markdown",
   "metadata": {},
   "source": [
    "$$ A = \\int_{t_a}^{t_b}{(-m c^2 \\sqrt{1 - (\\dot X / c)^2}) dt}"
   ]
  },
  {
   "cell_type": "markdown",
   "metadata": {},
   "source": [
    "So the Lagrangian of the particle in an inertial reference frame is:"
   ]
  },
  {
   "cell_type": "markdown",
   "metadata": {},
   "source": [
    "$$ L = -m c^2 \\sqrt{1 - (\\dot{X}/c)^2} $$"
   ]
  },
  {
   "cell_type": "markdown",
   "metadata": {},
   "source": [
    "Let's use the Euler-Lagrange equation to find the equation of motion for the particle."
   ]
  },
  {
   "cell_type": "markdown",
   "metadata": {},
   "source": [
    "$$ \\frac{\\partial L}{\\partial X} = 0 $$\n",
    "$$ \\frac{\\partial L}{\\partial \\dot X} = \\frac{\\partial}{\\partial \\dot X}(-m c^2 \\sqrt{1 - (\\dot X/ c)^2}) $$\n",
    "$$ \\frac{\\partial L}{\\partial \\dot X} = -m c^2 \\frac{\\partial}{\\partial \\dot X}\\sqrt{1 - \\dot{X}^2 / c^2} $$"
   ]
  },
  {
   "cell_type": "markdown",
   "metadata": {},
   "source": [
    "To find this partial derivative, we'll use the chain rule."
   ]
  },
  {
   "cell_type": "markdown",
   "metadata": {},
   "source": [
    "$$ \\frac{\\partial A}{\\partial \\dot X} = \\frac{\\partial A}{\\partial B} \\frac{\\partial B}{\\partial \\dot X} $$\n",
    "$$ A = \\sqrt{B} $$\n",
    "$$ \\frac{\\partial A}{\\partial B} = \\frac{1}{2\\sqrt{B}} $$\n",
    "$$ B = 1 - \\dot{X}^2/c^2 $$\n",
    "$$ \\frac{\\partial B}{\\partial \\dot X} = -\\frac{2}{c^2} \\dot X $$\n",
    "$$ \\frac{\\partial A}{\\partial \\dot X} = (\\frac{1}{2\\sqrt{B}})(-\\frac{2}{c^2} \\dot X) = - \\frac{\\dot X}{c^2 \\sqrt{1 - \\dot{X}^2/c^2}} $$\n",
    "$$ \\frac{\\partial L}{\\partial \\dot X} = \\frac{m \\dot X}{\\sqrt{1 - \\dot{X}^2/c^2}} $$"
   ]
  },
  {
   "cell_type": "markdown",
   "metadata": {},
   "source": [
    "The continuing to take the time derivative:"
   ]
  },
  {
   "cell_type": "markdown",
   "metadata": {},
   "source": [
    "$$ \\frac{d}{dt}\\frac{\\partial L}{\\partial \\dot X} = \\frac{d}{dt}(\\frac{m \\dot X}{\\sqrt{1 - \\dot{X}^2/c^2}}) $$"
   ]
  },
  {
   "cell_type": "markdown",
   "metadata": {},
   "source": [
    "We'll have to use the product rule for this."
   ]
  },
  {
   "cell_type": "markdown",
   "metadata": {},
   "source": [
    "$$ \\frac{d}{dt}\\frac{\\partial L}{\\partial \\dot X} = \\frac{d}{dt}(\\frac{m \\dot X}{\\sqrt{1 - \\dot{X}^2/c^2}}) = \\frac{d}{dt}(A B) = \\frac{dA}{dt}B + \\frac{dB}{dt}A$$\n",
    "$$ A = m \\dot X $$\n",
    "$$ \\frac{dA}{dt} = m \\ddot X $$\n",
    "$$ B = \\frac{1}{\\sqrt{1 - \\dot{X}^2 / c^2}} $$\n",
    "$$ \\frac{dB}{dt} = \\frac{d}{dt}\\frac{1}{\\sqrt{1 - \\dot{X}^2 / c^2}} $$"
   ]
  },
  {
   "cell_type": "markdown",
   "metadata": {},
   "source": [
    "And to find $\\frac{dB}{dt}$, we have to use the chain rule again."
   ]
  },
  {
   "cell_type": "markdown",
   "metadata": {},
   "source": [
    "$$ \\frac{dB}{dt} = \\frac{dB}{dC}\\frac{dC}{dD} \\frac{dD}{dt}$$\n",
    "$$ B = \\frac{1}{\\sqrt{C}} $$\n",
    "$$ \\frac{dB}{dC} = -\\frac{1}{2 C^{3/2}} $$\n",
    "$$ C = 1-\\dot{X}^2/c^2 = 1 - D^2/c^2 $$\n",
    "$$ \\frac{dC}{dD} = -\\frac{2}{c^2}D $$\n",
    "$$ D = \\dot X $$\n",
    "$$ \\frac{dD}{dt} = \\ddot X $$\n",
    "$$ \\frac{dB}{dt} = (-\\frac{1}{2 C^{3/2}})(-\\frac{2}{c^2}D)\\ddot X $$\n",
    "$$ \\frac{dB}{dt} = (-\\frac{1}{2 (1 - \\dot{X}^2/c^2)^{3/2}})(-\\frac{2}{c^2}\\dot X)\\ddot X $$\n",
    "$$ \\frac{dB}{dt} = \\frac{\\dot X \\ddot X}{c^2 (1 - \\dot{X}^2/c^2)^{3/2}}$$"
   ]
  },
  {
   "cell_type": "markdown",
   "metadata": {},
   "source": [
    "Now we can plug everything into the product rule equation we had ealier:"
   ]
  },
  {
   "cell_type": "markdown",
   "metadata": {},
   "source": [
    "$$ \\frac{d}{dt}\\frac{\\partial L}{\\partial \\dot X} = \\frac{dA}{dt}B + \\frac{dB}{dt}A$$\n",
    "$$ \\frac{d}{dt}\\frac{\\partial L}{\\partial \\dot X} = (m \\ddot X)(\\frac{1}{\\sqrt{1 - \\dot{X}^2 / c^2}}) + (\\frac{\\dot X \\ddot X}{c^2 (1 - \\dot{X}^2/c^2)^{3/2}})(m \\dot X) $$\n",
    "$$ \\frac{d}{dt}\\frac{\\partial L}{\\partial \\dot X} = \\frac{m \\ddot X}{\\sqrt{1 - \\dot{X}^2 / c^2}} + \\frac{m \\dot{X}^2 \\ddot X}{c^2 (1 - \\dot{X}^2/c^2)^{3/2}} $$\n",
    "$$ \\frac{d}{dt}\\frac{\\partial L}{\\partial \\dot X} = \\frac{m c^2 \\ddot X(1 - \\dot{X}^2/c^2)}{c^2(1 - \\dot{X}^2 / c^2)^{3/2}} + \\frac{m \\dot{X}^2 \\ddot X}{c^2 (1 - \\dot{X}^2/c^2)^{3/2}} $$\n",
    "$$ \\frac{d}{dt}\\frac{\\partial L}{\\partial \\dot X} = \\frac{m c^2 \\ddot X(1 - \\dot{X}^2/c^2) + m \\dot{X}^2 \\ddot X}{c^2 (1 - \\dot{X}^2/c^2)^{3/2}} $$\n",
    "$$ \\frac{d}{dt}\\frac{\\partial L}{\\partial \\dot X} = \\frac{m c^2 \\ddot X - m \\dot{X}^2 \\ddot X + m \\dot{X}^2 \\ddot X}{c^2 (1 - \\dot{X}^2/c^2)^{3/2}} $$\n",
    "$$ \\frac{d}{dt}\\frac{\\partial L}{\\partial \\dot X} = \\frac{m \\ddot X}{(1 - \\dot{X}^2/c^2)^{3/2}} $$"
   ]
  },
  {
   "cell_type": "markdown",
   "metadata": {},
   "source": [
    "So now let's put the E-L equation all together."
   ]
  },
  {
   "cell_type": "markdown",
   "metadata": {},
   "source": [
    "$$\\frac{d}{dt}\\frac{\\partial L}{\\partial \\dot X} = \\frac{\\partial L}{\\partial X} $$\n",
    "$$ \\frac{m \\ddot X}{(1 - \\dot{X}^2/c^2)^{3/2}} = 0 $$\n",
    "$$ \\ddot X = 0 $$"
   ]
  },
  {
   "cell_type": "markdown",
   "metadata": {},
   "source": [
    "The solution to this E-L equation is $\\ddot X = 0$, meaning that the particle does not accelerate, it just moves in a straight line at a constant velocity $\\dot X$. That's exactly what we would have expected, since we're talking about a free particle with no forces acting on it. If there are no forces, there is no acceleration.\n",
    "\n",
    "Let's make a simulation of this equation of motion in two different frames of reference. For frame $S$, the particle will be initially at event $(t=-2, x=3)$, and we'll give it a velocity of $\\dot{x}=-0.5$ at that event."
   ]
  },
  {
   "cell_type": "code",
   "execution_count": 12,
   "metadata": {},
   "outputs": [
    {
     "data": {
      "image/png": "[encoded data removed]",
      "text/plain": [
       "<Figure size 640x480 with 1 Axes>"
      ]
     },
     "metadata": {},
     "output_type": "display_data"
    }
   ],
   "source": [
    "import physics_sims\n",
    "import matplotlib.pyplot as plt\n",
    "import numpy as np\n",
    "\n",
    "class FreeParticle(physics_sims.Sim):\n",
    "    def __init__(self, event0, v0):\n",
    "        self.t = event0[0]\n",
    "        self.x = event0[1]\n",
    "        self.v = v0\n",
    "    \n",
    "    def update(self, sim_runner, dt):\n",
    "        self.t, self.x, self.v = physics_sims.integrators.runge_kutta_4th_order(\n",
    "            dt,\n",
    "            self.t,\n",
    "            self.x,\n",
    "            self.v,\n",
    "            lambda t, x, v: 0\n",
    "        )\n",
    "    \n",
    "    def state(self):\n",
    "        return [self.t, self.x]\n",
    "\n",
    "event0 = [-10, 3]\n",
    "v0 = -0.5\n",
    "traj = physics_sims.SimRunner().run_headless(FreeParticle(event0, v0), 10)\n",
    "\n",
    "plt.plot(traj.T[1], traj.T[0], label='x(t)')\n",
    "plt.scatter(event0[1], event0[0], label='initial event', color='black')\n",
    "plt.legend()\n",
    "plt.axis('square')\n",
    "plt.ylabel('t')\n",
    "plt.xlabel('x')\n",
    "plt.grid()\n",
    "plt.title('Frame S')\n",
    "plt.xlim(traj[-1][1] - 2)\n",
    "plt.show()"
   ]
  },
  {
   "cell_type": "markdown",
   "metadata": {},
   "source": [
    "Now let's use the Lorentz transformation to find the initial conditions in another frame $S'$. We'll use a transformation velocity of $v=-0.6$ to transform the initial event and the 4-velocity for the initial velocity. Then we'll run the simulation again using the transformed initial conditions. We'll also transform the trajectory that we calculated for frame $S$ into $S'$ and plot it on top of the new simulated trajectory, just to make sure that they match.\n",
    "\n",
    "One last thing--we ran the previous simulation for a total time $\\Delta t = 10$. If we want to run for the same amount of time, we have to recognize that $\\Delta t' \\neq \\Delta t$. In order to find $\\Delta t'$, I'll just take the difference between the first and last events in the trajectory transformed to $S'$."
   ]
  },
  {
   "cell_type": "code",
   "execution_count": 14,
   "metadata": {},
   "outputs": [
    {
     "data": {
      "image/png": "[encoded data removed]",
      "text/plain": [
       "<Figure size 640x480 with 1 Axes>"
      ]
     },
     "metadata": {},
     "output_type": "display_data"
    }
   ],
   "source": [
    "def B(v, c):\n",
    "    return np.array([\n",
    "        [1, -v/c**2],\n",
    "        [-v, 1],\n",
    "    ]) / (1 - (v / c)**2)**0.5\n",
    "\n",
    "def four_velocity(v_three, c):\n",
    "    return np.array([\n",
    "        1,\n",
    "        v_three\n",
    "    ]) / (1 - (v_three / c)**2)**0.5\n",
    "\n",
    "def three_velocity(v_four, c):\n",
    "    return v_four[1] / v_four[0]\n",
    "\n",
    "v_transform = -0.6\n",
    "c = 1\n",
    "\n",
    "traj_prime_check = np.matmul(traj, B(v_transform, c))\n",
    "\n",
    "event0_prime = np.matmul(event0, B(v_transform, c))\n",
    "v0_four = four_velocity(v0, c)\n",
    "v0_prime_four = np.matmul(v0_four, B(v_transform, c))\n",
    "v0_prime = three_velocity(v0_prime_four, c)\n",
    "\n",
    "run_time = traj_prime_check[-1][0] - event0_prime[0]\n",
    "traj_prime = physics_sims.SimRunner().run_headless(FreeParticle(event0_prime, v0_prime), run_time)\n",
    "\n",
    "plt.plot(traj_prime_check.T[1], traj_prime_check.T[0], label=\"x(t) transformed\", marker='.')\n",
    "plt.plot(traj_prime.T[1], traj_prime.T[0], label=\"x'(t')\", marker='')\n",
    "plt.scatter(event0_prime[1], event0_prime[0], label='initial event', color='black')\n",
    "plt.legend()\n",
    "plt.axis('square')\n",
    "plt.ylabel(\"t'\")\n",
    "plt.xlabel(\"x'\")\n",
    "plt.xlim(traj_prime[0][1] - 2)\n",
    "plt.grid()\n",
    "plt.title(\"Frame S'\")\n",
    "plt.show()\n",
    "\n"
   ]
  },
  {
   "cell_type": "markdown",
   "metadata": {},
   "source": [
    "This isn't a very exciting simulation, but I think it is instructive for showing that we can simulate a system in any reference frame that we want, as long as we take care to transform the inital conditions correctly. Running a simulation in frame $S'$ is equivalent to running it in frame $S$ and then transforming the result into $S'$."
   ]
  },
  {
   "cell_type": "markdown",
   "metadata": {},
   "source": [
    "### Nonrelativistic limit of the free particle Lagrangian\n",
    "\n"
   ]
  },
  {
   "cell_type": "markdown",
   "metadata": {},
   "source": [
    "### Lagrangian of a particle in a potential\n",
    "\n",
    "In order to put a particle in a potential $V(t, X, \\dot X)$, we can do it essentially the same exact way that we did it for the nonrelativistic case. We just subtract the potential from the Lagrangian of the free particle."
   ]
  },
  {
   "cell_type": "markdown",
   "metadata": {},
   "source": [
    "$$ L = - m c^2 \\sqrt{1 - \\dot{X}^2/c^2} - V(t, X, \\dot X) $$"
   ]
  },
  {
   "cell_type": "markdown",
   "metadata": {},
   "source": [
    "This is the same formula shown in [this Wikipedia article on relativistic Lagrangian mechanics](https://en.wikipedia.org/wiki/Relativistic_Lagrangian_mechanics), aside from a few differences in variable names."
   ]
  },
  {
   "cell_type": "markdown",
   "metadata": {},
   "source": [
    "### Constant force\n",
    "\n",
    "We can apply a constant force to a particle using a potential defined by:"
   ]
  },
  {
   "cell_type": "markdown",
   "metadata": {},
   "source": [
    "$$ F = - \\frac{\\partial V(x)}{\\partial x} = m k $$\n",
    "$$ V(x) = -\\int F dx = -\\int mk dx  = -mkx + \\text{constant}$$"
   ]
  },
  {
   "cell_type": "markdown",
   "metadata": {},
   "source": [
    "As mentioned in the notes on Lagrangian mechanics, we can use any of the infinite solutions for $V(x)$, as long as its spatial derivative is equal to the force. So I'll set the constant in the expression above to 0."
   ]
  },
  {
   "cell_type": "markdown",
   "metadata": {},
   "source": [
    "$$ V(x) = -mkx $$\n",
    "$$ L = - m c^2 \\sqrt{1 - \\dot{x}^2 / c^2} + mkx $$"
   ]
  },
  {
   "cell_type": "markdown",
   "metadata": {},
   "source": []
  }
 ],
 "metadata": {
  "kernelspec": {
   "display_name": "main",
   "language": "python",
   "name": "python3"
  },
  "language_info": {
   "codemirror_mode": {
    "name": "ipython",
    "version": 3
   },
   "file_extension": ".py",
   "mimetype": "text/x-python",
   "name": "python",
   "nbconvert_exporter": "python",
   "pygments_lexer": "ipython3",
   "version": "3.11.3"
  }
 },
 "nbformat": 4,
 "nbformat_minor": 2
}
