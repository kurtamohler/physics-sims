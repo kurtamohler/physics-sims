{
 "cells": [
  {
   "cell_type": "markdown",
   "id": "558313ef",
   "metadata": {},
   "source": [
    "These are my notes on Lagrangian and Hamiltonian mechanics, including some example simulations of simple physical systems."
   ]
  },
  {
   "cell_type": "markdown",
   "id": "4743bd9c",
   "metadata": {},
   "source": [
    "## Prerequisites\n",
    "\n",
    "I'm not going to say that you absolutely need to know a particular set of topics before going into this. But it would certainly make things easier if you know these:\n",
    "\n",
    "* Some basic calculus. Do you know what the difference between a partial derivative and a total derivative is? Do you know what $\\int_{a}^{b} \\frac{d^2 x}{d t^2} dt $ means?\n",
    "\n",
    "* Some basic physics. Do you know  what $F = ma$ means? Do you know what an inertial reference frame is?\n",
    "\n",
    "* Dimensional analysis. Do you know that force is given in units of ${mass} \\cdot {distance} \\:/\\: {time}^{2}$ ? Do you know that energy is ${mass} \\cdot {distance}^2 \\:/\\: {time}^{2}$ ?\n",
    "\n",
    "* Python. Do you know what `a = [x for x in y if x > 0]` means?"
   ]
  },
  {
   "cell_type": "markdown",
   "id": "0a5f2be6",
   "metadata": {},
   "source": [
    "## Resources\n",
    "\n",
    "Basically all of the physics concepts we'll use here are explained in more detail in the first volume of Leonard Susskind's book [The Theoretical Minimum](https://en.wikipedia.org/wiki/The_Theoretical_Minimum). Also check out his free [Classical Mechanics](https://www.youtube.com/watch?v=ApUFtLCrU90&list=PL47F408D36D4CF129) lecture series which covers the same content as the book."
   ]
  },
  {
   "cell_type": "markdown",
   "id": "238dec98",
   "metadata": {},
   "source": [
    "# Force-based Physics\n",
    "\n",
    "In this section I'll describe a very common way of approaching physics, which you are probably familiar with. But we won't be using this approach exactly. I just bring it up to explain why we'll use a different approach.\n",
    "\n",
    "It's very common to start physics problems by writing down equations to describe all the forces acting on each object. For each object, you sum up all the forces acting on it to get the total force on that object, $ \\textbf{F}(t, \\{\\textbf{x}\\}, \\{\\dot{\\textbf{x}}\\}) $, where $t$ is time, $\\{\\textbf{x}\\}$ is the set of positions of all objects, and $\\{\\dot{\\textbf{x}}\\}$ is the set of velocities of all objects. Then you use Newton's equation of motion $\\textbf{F} = m \\textbf{a} = m \\frac{d^2 \\textbf{x}}{d t^2} = m \\ddot{\\textbf{x}}$ to get an equation that describes the acceleration of the particle, parameterized by the particle's mass $m$ and the state of the system, $t$, $\\{\\textbf{x}\\}$, $\\{\\dot{\\textbf{x}}\\}$.\n",
    "\n",
    "At the end, you get a set of second order differential equations that describes the motion of all the objects in the system. You can choose an initial condition $t_0$, $\\{\\textbf{x}(t_0)\\}$, $\\{\\dot{\\textbf{x}}(t_0)\\}$ and then integrate forward in time using one of many different methods.\n",
    "\n",
    "This force-based approach works for a lot of problems. But it doesn't generalize to all physics problems. By itself, it doesn't account for things like the electromagnetic field, rotating objects, or relativity theory.\n",
    "\n",
    "Also, this approach can become very difficult if we want to use a mixture of different types of coordinates to keep track of the state of the system.\n",
    "\n",
    "There is also an issue of numerical accuracy. If our method of integration introduces a lot of error over time, how do we detect that? One reliable way is to calculate the total energy of the system at each step and make sure that it remains relatively constant. Or if the energy is expected to change over time, check that it changes in the expected way. But how do we even know what to expect the energy to be?\n",
    "\n",
    "There is a more general approach to physics which applies to all known physical systems. It can actually be simpler to think about than the force-based approach, once you get the hang of it. It's an energy-based approach. So instead of starting with equations of force and deriving the equations of motion from those, we will instead derive the equations of motion from equations of energy. Since we'll start with equations of energy, we'll be able to figure out how the energy is supposed to behave over time."
   ]
  },
  {
   "cell_type": "markdown",
   "id": "083a0979",
   "metadata": {},
   "source": [
    "# Energy\n",
    "\n",
    "In classical non-relativistic physics, there are equations for the kinetic energy and the potential energy for each object in the system."
   ]
  },
  {
   "cell_type": "markdown",
   "id": "322ce36f",
   "metadata": {},
   "source": [
    "### Kinetic Energy\n",
    "\n",
    "\n",
    "Kinetic energy $T$ is purely based on an object's mass and velocity:"
   ]
  },
  {
   "cell_type": "markdown",
   "id": "0eafd53f",
   "metadata": {},
   "source": [
    "$$ T = \\frac{1}{2} m \\dot{\\textbf{x}}^2 $$"
   ]
  },
  {
   "cell_type": "markdown",
   "id": "e97b8657",
   "metadata": {},
   "source": [
    "If the object is not moving in a particular frame of reference, it has zero kenetic energy in that frame. The faster the object is moving, in any direction, the more kinetic energy it has. In two different frames, the same object will have a different amount of kinetic energy, as long as the speed $|\\dot{\\textbf{x}}|$ of the object is different in the two frames."
   ]
  },
  {
   "cell_type": "markdown",
   "id": "4cd8ccaa",
   "metadata": {},
   "source": [
    "### Potential Energy\n",
    "\n",
    "Next is potential energy $V(\\textbf{x}, t)$ which can depend on the position of the object and on time. So there can be a different number at each point in time and space.\n",
    "\n",
    "Potential energy is more complicated than kinetic. That's because the form of the kinetic energy equation can be different for different kinds of interactions that do work on an object.\n",
    "\n",
    "For instance, an object attached to a spring has a different potential energy equation than a planet in the solar system.\n",
    "\n",
    "But there is a relationship between the force on an object and the potential energy:"
   ]
  },
  {
   "cell_type": "markdown",
   "id": "470d57fe",
   "metadata": {},
   "source": [
    "$$ F^i = -\\frac{\\partial V(\\textbf{x}, t)}{\\partial x^i} $$"
   ]
  },
  {
   "cell_type": "markdown",
   "id": "d1d82618",
   "metadata": {},
   "source": [
    "$F^i$ is the component of the force on the object in the $i$-th dimension. $i$ here is just an index into the vector $\\textbf{F}$, it is not an exponent. $i$ runs from 1 to N, for each spatial dimension. $x^i$ is just the $i$-th dimension component of the position vector $\\textbf{x}$.\n",
    "\n",
    "We can also write this as a vector equation without indices:"
   ]
  },
  {
   "cell_type": "markdown",
   "id": "108b77bc",
   "metadata": {},
   "source": [
    "$$ \\textbf{F} = -\\nabla V(\\textbf{x}, t)$$"
   ]
  },
  {
   "cell_type": "markdown",
   "id": "4e5b999c",
   "metadata": {},
   "source": [
    "Notice that the relationship between the potential and the force only involves partial derivatives of $V$ with respect to spatial coordinates. That means that if there is a term in $V$ that depends only on time, it won't show up in the force equation and thus won't affect the motion.\n",
    "\n",
    "For now, I'll simplify the force equation to a case where there's only motion in one dimension and the potential doesn't change over time. We'll use $x$ (not bolded and without an index) to be the position in just one dimension--the $x$-dimension."
   ]
  },
  {
   "cell_type": "markdown",
   "id": "c8f3233a",
   "metadata": {},
   "source": [
    "$$ F = - \\frac{d V(x)}{d x} $$"
   ]
  },
  {
   "cell_type": "markdown",
   "id": "9f42c4b0",
   "metadata": {},
   "source": [
    "In plain English, the force is the negative slope of the potential energy function. So the force points towards the direction in which the potential energy instantaneously decreases, like a ball rolling down a hill."
   ]
  },
  {
   "cell_type": "markdown",
   "id": "e57087aa",
   "metadata": {},
   "source": [
    "### Harmonic Oscillator potential\n",
    "\n",
    "Let's see an example of a potential energy.\n",
    "\n",
    "We'll choose the potential energy to be $V(x) = \\frac{1}{2} k x^2$. $k$ is a constant that sets the scale of the potential. The force equation is $F = -\\frac{d}{dx} (\\frac{1}{2} k x^2) = -kx$. Let's make a diagram showing this potential energy function and draw arrows in a few places indicating the strength and direction of the force. We'll set $k=1$.\n",
    "\n",
    "(The code here isn't very important. Skip it unless you want to read it.)"
   ]
  },
  {
   "cell_type": "code",
   "execution_count": 1,
   "id": "02ab8172",
   "metadata": {},
   "outputs": [
    {
     "data": {
      "text/plain": [
       "<matplotlib.legend.Legend at 0x7f8bc0569f50>"
      ]
     },
     "execution_count": 1,
     "metadata": {},
     "output_type": "execute_result"
    },
    {
     "data": {
      "image/png": "[encoded data removed]",
      "text/plain": [
       "<Figure size 640x480 with 1 Axes>"
      ]
     },
     "metadata": {},
     "output_type": "display_data"
    }
   ],
   "source": [
    "import matplotlib.pyplot as plt\n",
    "import numpy as np\n",
    "\n",
    "k = 1\n",
    "\n",
    "def V(x):\n",
    "    return 0.5 * k * x**2\n",
    "\n",
    "def F(x):\n",
    "    return -k * x\n",
    "\n",
    "x_list = np.linspace(-3, 3, 100)\n",
    "V_list = V(x_list)\n",
    "\n",
    "plt.plot(x_list, V_list, label='V(x)')\n",
    "\n",
    "for idx, x in enumerate(np.linspace(-3, 3, 31)):\n",
    "    Fx = F(x)\n",
    "    Vx = V(x)\n",
    "    plt.arrow(\n",
    "        x, Vx, 0.2*Fx, 0,\n",
    "        width=0.01*abs(Fx),\n",
    "        head_width=0.05*abs(Fx),\n",
    "        label=None if idx!=0 else 'F(x)',\n",
    "        color='tab:orange')\n",
    "\n",
    "plt.xlabel('x')\n",
    "plt.ylabel('V(x)')\n",
    "plt.legend()"
   ]
  },
  {
   "cell_type": "markdown",
   "id": "995290f6",
   "metadata": {},
   "source": [
    "The arrows indicate the magnitude and direction of the force at the $x$ value where its tail is located. The size of an arrow corresponds to the magnitude of the force.\n",
    "\n",
    "The equation of motion is $F = m \\ddot{x}$. Solving for acceleration, we get $\\ddot{x} = \\frac{F}{m}$, so the acceleration is directly proportional to the force.\n",
    "\n",
    "Let's think about how an object in this potential will act. We'll create a simulation of it later, but for now I just want to try to show how we can think about this intuitively.\n",
    "\n",
    "Think of $V(x)$ as a valley made of a frictionless material. If we place a ball at the lowest point, x=0, with no velocity, it just stays there. If we place it at $x=-2$, it will fall down the slope towards the right, reach its maximum speed when it's at $x=0$, slow down until it reaches $x=2$, and then it will continue to oscillate back and forth like that.\n",
    "\n",
    "Hopefully it's not too difficult for you to see this. But if it is, don't worry, we'll come back to this example."
   ]
  },
  {
   "cell_type": "markdown",
   "id": "5c6f8004",
   "metadata": {},
   "source": [
    "# The Stationary Action Principle\n",
    "\n",
    "The stationary action principle is one of the most general principles of physics. It's true for all known systems in nature.\n",
    "\n",
    "Before I say what the stationary action principle is exactly, I need to give some definitions.\n",
    "\n",
    "The idea is centered around a term $L$, which is a quantity in units of energy that can depend on time and the state of the system. $L$ is known as the Lagrangian of the system. Where does $L$ come from? We'll get to that. If we integrate $L$ between two points in time, we get a quantity known as the action $A$ of the system between those two points. We can write that as:"
   ]
  },
  {
   "cell_type": "markdown",
   "id": "c7b3b62d",
   "metadata": {},
   "source": [
    "$$ A = \\int_{a}^{b} Ldt $$"
   ]
  },
  {
   "cell_type": "markdown",
   "id": "7b9f4ca1",
   "metadata": {},
   "source": [
    "The entire positional state of a system can be written as a vector $\\textbf{q}$. An individual element of this is $q^i$. $\\textbf{q}$ has as many elements as there are degrees of freedom in the system. For instance, if we have four particles in a 3-dimensional space, there are twelve degrees of freedom and $\\textbf{q}$ has twelve elements. The reason we use $q$ instead of $x$ here is because it can be any kind of positional coordinate, not just a Cartesian coordinate. It could be a polar coordinate if we want. $\\textbf{q}$ could contain a mixture of different types of coordinates. Later I'll show examples of this.\n",
    "\n",
    "There is also the state of the velocities in the system, which we call $\\frac{d \\textbf{q}}{d t}$ or $\\dot{\\textbf{q}}$.\n",
    "\n",
    "$\\textbf{q}$ and $\\dot{\\textbf{q}}$ can be thought of as terms that depend on time. At a particular time $t$, there is one state, $\\textbf{q}(t)$ and $\\dot{\\textbf{q}}(t)$. $\\textbf{q}(t)$ is the trajectory or \"path\" that the system takes over time. \n",
    "\n",
    "So we can write $L$ with all its possible explicit dependencies as $L(\\textbf{q}(t), \\dot{\\textbf{q}}(t), t)$. The action integral with all these explicit dependencies is:"
   ]
  },
  {
   "cell_type": "markdown",
   "id": "bf40a565",
   "metadata": {},
   "source": [
    "$$ A = \\int_{a}^{b} L(\\textbf{q}(t), \\dot{\\textbf{q}}(t), t)dt $$"
   ]
  },
  {
   "cell_type": "markdown",
   "id": "987e6e18",
   "metadata": {},
   "source": [
    "Now imagine that we know the state $\\textbf{q}$ and $\\dot{\\textbf{q}}$ of a system at two different times $t_a$ and $t_b$, and we know what $L$ is for the system. We want to somehow calculate the trajectory $\\textbf{q}(t)$ that the system took between those two points.\n",
    "\n",
    "There are an infinite number of different trajectories that we could draw between the initial and final state. The stationary action principle says that the trajectory that the system actually takes is the one that makes the action stationary.\n",
    "\n",
    "What does it mean for the action to be stationary? It means that compared to all the other possible paths, the one that the system actually takes will either minimize or maximize the action $A$. (To be completely correct, we should also say that it could be a saddle point, not just a minimum or maximum.)\n",
    "\n",
    "\n",
    "The stationary action principle can be written as:"
   ]
  },
  {
   "cell_type": "markdown",
   "id": "fd39a8a3",
   "metadata": {},
   "source": [
    "$$ \\delta A = \\delta \\int_{a}^{b} L(\\textbf{q}(t), \\dot{\\textbf{q}}(t), t)dt = 0 $$"
   ]
  },
  {
   "cell_type": "markdown",
   "id": "79a29c1b",
   "metadata": {},
   "source": [
    "This just means that, given the correct trajectory $\\textbf{q}(t)$, if we add some tiny change $\\delta\\textbf{q}(t)$ to the trajectory, the action will not change--because it is at a maximum, minimum, or saddle point. The change in action is $\\delta A$.\n",
    "\n",
    "Given the trajectory of any physical system, there exists some equation for a quantity $L$ which makes the action stationary.\n",
    "\n",
    "Just one last note for this section. A particular Lagrangian fundamentally comes from experimentation, just like how force equations come from experimentation. For example, a scientist could measure the trajectory of a certain kind of system and then try to find some equation for $L$ that satisfies $\\delta A = 0$. If she thinks she found the right one, she can try to use it to predict what will happen in the future. If the predictions are right, that gives more evidence that the equation for $L$ is right."
   ]
  },
  {
   "cell_type": "markdown",
   "id": "4aea24ef",
   "metadata": {},
   "source": [
    "# Euler-Lagrange equations of motion\n",
    "\n",
    "Given a particular Lagrangian, how do we find the trajectory that makes the action stationary? We use what are called the Euler-Lagrange equations of motion. I'll call these the E-L equations for now on. The E-L equations are:"
   ]
  },
  {
   "cell_type": "markdown",
   "id": "bb1f0fb8",
   "metadata": {},
   "source": [
    "$$ \\frac{d}{dt}\\frac{\\partial L(\\textbf{q}, \\dot{\\textbf{q}}, t)}{\\partial \\dot{q}^i} = \\frac{\\partial L(\\textbf{q}, \\dot{\\textbf{q}}, t)}{\\partial q^i} $$"
   ]
  },
  {
   "cell_type": "markdown",
   "id": "79fbce0f",
   "metadata": {},
   "source": [
    "Or more concisely:"
   ]
  },
  {
   "cell_type": "markdown",
   "id": "4fe962eb",
   "metadata": {},
   "source": [
    "$$ \\frac{d}{dt}\\frac{\\partial L}{\\partial \\dot{q}^i} = \\frac{\\partial L}{\\partial q^i} $$"
   ]
  },
  {
   "cell_type": "markdown",
   "id": "babb673b",
   "metadata": {},
   "source": [
    "Remember that $q^i$ is the $i$-th component of $\\textbf{q}$, and $\\dot{q}^i$ is the $i$-th component of $\\dot{\\textbf{q}}$. So each degree of freedom in the system has its own equation of motion.\n",
    "\n",
    "I won't go into why the E-L equations work. The Theoretical Minimum book explains it well if you are curious.\n",
    "\n",
    "Given a Lagrangian for a system, you just use the above formula to find the equations of motion. They'll be second-order equations and you can use some method of integration to simulate the system.\n",
    "\n",
    "Notice that the E-L equations involve partial derivatives of $L$ with respect to spatial coordinates and velocities. If we had some Lagrangian of the form $L = L_0 + f(t)$, where $f(t)$ depends only on time, then $f(t)$ won't show up at all in the equations of motion."
   ]
  },
  {
   "cell_type": "markdown",
   "id": "87147ec2",
   "metadata": {},
   "source": [
    "# Classical Lagrangian\n",
    "\n",
    "Let's finally start looking at Lagrangians for specific types of systems. In classical non-relativistic physics, experimentation has shown that a single point mass in a potential is described by the Lagrangian:"
   ]
  },
  {
   "cell_type": "markdown",
   "id": "5ea28b5b",
   "metadata": {},
   "source": [
    "$$ L = T - V(\\textbf{x}, t) $$"
   ]
  },
  {
   "cell_type": "markdown",
   "id": "298d0555",
   "metadata": {},
   "source": [
    "This means that if we wanted to calculate the action over a section of the particle's trajectory, we integrate the difference between kinetic and potential energy over time.\n",
    "\n",
    "If we have multiple particles, we have to add terms for each of their kinetic energies, and the potential can depend on the positions of all particles:"
   ]
  },
  {
   "cell_type": "markdown",
   "id": "abc9d965",
   "metadata": {},
   "source": [
    "$$ L = \\sum_i{T_i} - V(\\{\\textbf{x}\\}, t) $$"
   ]
  },
  {
   "cell_type": "markdown",
   "id": "0b2f8263",
   "metadata": {},
   "source": [
    "### Harmonic Oscillator Lagrangian\n",
    "\n",
    "Let's revisit the example from earlier of a particle in one dimension with $V(x) = \\frac{1}{2}kx^2$. Also, as I mentioned earlier, kinetic energy is $T=\\frac{1}{2}m \\dot{x}^2$. This gives:"
   ]
  },
  {
   "cell_type": "markdown",
   "id": "ec400fa0",
   "metadata": {},
   "source": [
    "$$ L = \\frac{1}{2}m \\dot{x}^2 - \\frac{1}{2}kx^2 $$"
   ]
  },
  {
   "cell_type": "markdown",
   "id": "47cf69f6",
   "metadata": {},
   "source": [
    "There's going to be just one E-L equation, since we only have one degree of freedom. So we can drop the index $i$ from the E-L equation. Also, $x$ is the positional coordinate, so we'll use $q = x$. That gives us the E-L equation:"
   ]
  },
  {
   "cell_type": "markdown",
   "id": "bf32865f",
   "metadata": {},
   "source": [
    "$$ \\frac{d}{dt}\\frac{\\partial L}{\\partial \\dot{x}} = \\frac{\\partial L}{\\partial x} $$"
   ]
  },
  {
   "cell_type": "markdown",
   "id": "b4f8277e",
   "metadata": {},
   "source": [
    "Now let's plug in $L$ and simplify. First, the left side of the E-L equation."
   ]
  },
  {
   "cell_type": "markdown",
   "id": "1682971d",
   "metadata": {},
   "source": [
    "$$\\frac{\\partial L}{\\partial \\dot{x}} = \\frac{\\partial}{\\partial \\dot{x}}(\\frac{1}{2}m \\dot{x}^2 - \\frac{1}{2}kx^2) = m \\dot{x}$$"
   ]
  },
  {
   "cell_type": "markdown",
   "id": "c184a516",
   "metadata": {},
   "source": [
    "$$\\frac{d}{dt}\\frac{\\partial L}{\\partial \\dot{x}} = m\\ddot{x}$$"
   ]
  },
  {
   "cell_type": "markdown",
   "id": "441648d4",
   "metadata": {},
   "source": [
    "Next, the right side."
   ]
  },
  {
   "cell_type": "markdown",
   "id": "4be599c0",
   "metadata": {},
   "source": [
    "$$ \\frac{\\partial L}{\\partial x} = \\frac{\\partial}{\\partial x}(\\frac{1}{2}m \\dot{x}^2 - \\frac{1}{2}kx^2) = -kx $$"
   ]
  },
  {
   "cell_type": "markdown",
   "id": "7ade28b4",
   "metadata": {},
   "source": [
    "Putting them together, we have the equation of motion:"
   ]
  },
  {
   "cell_type": "markdown",
   "id": "80a768b2",
   "metadata": {},
   "source": [
    "$$m \\ddot{x} = -kx$$\n",
    "$$\\ddot{x} = -\\frac{k}{m}x $$"
   ]
  },
  {
   "cell_type": "markdown",
   "id": "4b1c51b2",
   "metadata": {},
   "source": [
    "This is the same equation as what we obtained earlier by using $F=ma$ and $F=-\\frac{\\partial V(x)}{\\partial x}$. So you could say that for this particular problem, it may have been overkill to use Lagrangian mechanics. But the point is that Lagrangian mechanics is very standardized and will work for a huge range of different kinds of problems.\n",
    "\n",
    "Let's make a simulation of this system. It doesn't require very much code if we use the `physics_sims` module.\n",
    "\n",
    "In the code below, I create a subclass of `Sim` which defines how the system behaves. Then I instantiate it and pass it to a `SimRunner` object to run the simulation, which produces a time series containing the trajectory of the system. At each step of the simulation, the `SimRunner` calls the `Sim.update` method, which in this case first calculates the current acceleration using the $\\ddot{x}=-\\frac{k}{m}x$ formula we derived above and then integrates the velocity and position of the particle over a small time step `dt`. Here I use simple [Euler integration](https://en.wikipedia.org/wiki/Euler_method). Also, at each step the `SimRunner` calls the `Sim.state` method to obtain the current state of the system and appends it to the trajectory that it builds. I chose to just record the time and position, but we could have added the velocity or whatever else we want."
   ]
  },
  {
   "cell_type": "code",
   "execution_count": 2,
   "id": "8888952f",
   "metadata": {},
   "outputs": [
    {
     "data": {
      "text/plain": [
       "array([[ 0.00000000e+00, -2.00000000e+00],\n",
       "       [ 1.00000000e-03, -1.99999200e+00],\n",
       "       [ 2.00000000e-03, -1.99997600e+00],\n",
       "       ...,\n",
       "       [ 5.99800000e+00, -1.68448389e+00],\n",
       "       [ 5.99900000e+00, -1.68663692e+00],\n",
       "       [ 6.00000000e+00, -1.68878321e+00]])"
      ]
     },
     "execution_count": 2,
     "metadata": {},
     "output_type": "execute_result"
    }
   ],
   "source": [
    "import physics_sims\n",
    "\n",
    "class HarmonicOscillator(physics_sims.Sim):\n",
    "    def __init__(self):\n",
    "        self.t = 0\n",
    "        self.x = -2\n",
    "        self.v = 0\n",
    "        self.m = 0.25\n",
    "        self.k = 1\n",
    "    \n",
    "    def update(self, _, dt):\n",
    "        a = -(self.k / self.m) * self.x\n",
    "        self.v = self.v + a * dt\n",
    "        self.x = self.x + self.v * dt\n",
    "        self.t = self.t + dt\n",
    "    \n",
    "    def state(self):\n",
    "        return [self.t, self.x]\n",
    "\n",
    "trajectory = physics_sims.SimRunner().run_headless(\n",
    "    HarmonicOscillator(),\n",
    "    run_time=6)\n",
    "\n",
    "trajectory"
   ]
  },
  {
   "cell_type": "code",
   "execution_count": 3,
   "id": "2d7356f1",
   "metadata": {},
   "outputs": [
    {
     "data": {
      "image/png": "[encoded data removed]",
      "text/plain": [
       "<Figure size 640x480 with 1 Axes>"
      ]
     },
     "metadata": {},
     "output_type": "display_data"
    }
   ],
   "source": [
    "plt.plot(trajectory[:, 1], trajectory[:, 0], label='x(t)')\n",
    "plt.xlabel('x')\n",
    "plt.ylabel('t')\n",
    "plt.axis('equal')\n",
    "plt.legend()\n",
    "plt.show()"
   ]
  },
  {
   "cell_type": "markdown",
   "id": "68d0fc44",
   "metadata": {},
   "source": [
    "Above is a plot of the trajectory of the harmonic oscillator with the initial condition $x=-2$, $\\dot{x}=0$. As you can see, it oscillates back and forth between $x=-2$ and $x=2$, just like we said it should ealier when we studied the relationship between potential and force."
   ]
  },
  {
   "cell_type": "markdown",
   "id": "2e59e738",
   "metadata": {},
   "source": [
    "What happens to the energy of this simulation over time? Let's tweak the simulation a little bit to find out. We know the equations for kinetic and potential energy. To find the total energy of this system, we just add kinetic and potential energy together."
   ]
  },
  {
   "cell_type": "code",
   "execution_count": 4,
   "id": "63c77cc5",
   "metadata": {},
   "outputs": [
    {
     "data": {
      "image/png": "[encoded data removed]",
      "text/plain": [
       "<Figure size 640x480 with 1 Axes>"
      ]
     },
     "metadata": {},
     "output_type": "display_data"
    }
   ],
   "source": [
    "class HarmonicOscillatorEnergy(HarmonicOscillator):\n",
    "    def state(self):\n",
    "        kinetic = 0.5 * self.m * self.v**2\n",
    "        potential = 0.5 * self.k * self.x**2\n",
    "        total = kinetic + potential\n",
    "        return [self.t, kinetic, potential, total]\n",
    "\n",
    "trajectory = physics_sims.SimRunner().run_headless(\n",
    "    HarmonicOscillatorEnergy(),\n",
    "    run_time=6)\n",
    "\n",
    "plt.plot(trajectory[:, 1], trajectory[:, 0], label='kinetic')\n",
    "plt.plot(trajectory[:, 2], trajectory[:, 0], label='potential')\n",
    "plt.plot(trajectory[:, 3], trajectory[:, 0], label='total')\n",
    "plt.xlabel('energy')\n",
    "plt.ylabel('t')\n",
    "plt.axis('equal')\n",
    "plt.legend()\n",
    "plt.show()"
   ]
  },
  {
   "cell_type": "markdown",
   "id": "c946db58",
   "metadata": {},
   "source": [
    "If you refer back at the plot of $x(t)$, you'll see that the potential energy is at its maximum any time either $x=-2$ or $x=2$, and kinetic energy is at its maximum any time $x=0$. The kinetic and potential smoothly interchange back and forth. All the while, the total energy stays the same."
   ]
  },
  {
   "cell_type": "markdown",
   "id": "f6c7dc3c",
   "metadata": {},
   "source": [
    "### Sliding block pendulum\n",
    "\n",
    "Now let's look at a more complicated example. We have a block of mass $m_1$ attached to a frictionless railing so that it can only move horizontally. There is a pendulum of length $R$ attached to the block's center of mass. The mass at the end of the pendulum is $m_2$."
   ]
  },
  {
   "cell_type": "markdown",
   "id": "19e23f53",
   "metadata": {},
   "source": [
    "<!-- Google Drawings link: https://docs.google.com/drawings/d/1uEyKH3mmG1xqkCfuvIhD5DVL40ZH4euZn_RG9O0bImA/edit?usp=sharing -->\n",
    "<img src=\"images/sliding-block-pendulum.png\" />"
   ]
  },
  {
   "cell_type": "markdown",
   "id": "801ae332",
   "metadata": {},
   "source": [
    "There is more than one choice of coordinate system that we could use to describe the state of this system. But here's how I chose to do it:\n",
    "\n",
    "There are two degrees of freedom. One of them is the position of the block along the railing and the other is the angle of the pendulum. We'll use the coordinate $x$ as the distance of the block from some fixed point on the railing. $\\theta$ will be the coordinate for the pendulum's angle away from a vertical line drawn through the block, so $\\theta=0$ means that the pendulum is hanging directly under the block.\n",
    "\n",
    "One more detail is that this system is on the surface of Earth, so there is a downward acceleration of 9.8 $m/s^2$ acting on the objects. The block is held up by the railing, so it doesn't move vertically. But the pendulum is affected by gravity.\n",
    "\n",
    "Now let's construct a Lagrangian for this system. First, let's look at the kinetic and potential energy of the block. Since it can't move vertically, and there is no potential energy acting in the $x$ axis, we can set its potential energy to 0."
   ]
  },
  {
   "cell_type": "markdown",
   "id": "641bb33e",
   "metadata": {},
   "source": [
    "$$V_{block} = 0$$"
   ]
  },
  {
   "cell_type": "markdown",
   "id": "73a249b7",
   "metadata": {},
   "source": [
    "As for its kinetic energy, it's just the familiar equation:"
   ]
  },
  {
   "cell_type": "markdown",
   "id": "9e551d83",
   "metadata": {},
   "source": [
    "$$ T_{block} = \\frac{1}{2}m_1 \\dot{x}^2 $$"
   ]
  },
  {
   "cell_type": "markdown",
   "id": "b5e02694",
   "metadata": {},
   "source": [
    "The pendulum is affected by the gravitational potential, which has the form $V_{grav} = mgh$, where $g = 9.8 m/s^2$, and $h$ is its height above the lowest position. The pendulum's lowest position is $h=0$, when $\\theta=0$. The highest position is $h=2R$, when $\\theta=\\pi$. The pendulum follows a circular path between these points, so if you're familiar with trigonometry, hopefully you can see that $h = (R - R\\cos{\\theta})$. So the potential is:"
   ]
  },
  {
   "cell_type": "markdown",
   "id": "5134003a",
   "metadata": {},
   "source": [
    "$$ V = m_2 g (R - R\\cos{\\theta})$$"
   ]
  },
  {
   "cell_type": "markdown",
   "id": "9619053d",
   "metadata": {},
   "source": [
    "$$ V = m_2 g R - m_2 g R \\cos{\\theta}$$"
   ]
  },
  {
   "cell_type": "markdown",
   "id": "e7448972",
   "metadata": {},
   "source": [
    "But wait, we can simplify that. Remember earlier I mentioned that we can add or subtract a constant from a potential energy function without affecting the force? The above function has a constant term $m_2 g R$ that we can remove. That leaves us with:"
   ]
  },
  {
   "cell_type": "markdown",
   "id": "7b26056f",
   "metadata": {},
   "source": [
    "$$V_{pendulum} = -m_2 g R cos{\\theta}$$"
   ]
  },
  {
   "cell_type": "markdown",
   "id": "380a6a95",
   "metadata": {},
   "source": [
    "The kinetic energy of the pendulum is a little complicated. We need to find the pendulum's velocity in both spatial dimensions, $\\textbf{v} = (v_x, v_y)$, and then plug that into:\n"
   ]
  },
  {
   "cell_type": "markdown",
   "id": "ddebef17",
   "metadata": {},
   "source": [
    "$$T_{pendulum} = \\frac{1}{2} m_2 \\textbf{v}^2 = \\frac{1}{2} m_2 (v_x^2 + v_y^2)$$"
   ]
  },
  {
   "cell_type": "markdown",
   "id": "ac50e4f9",
   "metadata": {},
   "source": [
    "First of all, we have to recognize that if $\\theta$ is not changing, $\\dot{\\theta}=0$, then the pendulum's velocity will have a horizontal component equal to $\\dot{x}$, since it is attached to the block. It doesn't have a vertical component, since the block can't move vertically. So we have:"
   ]
  },
  {
   "cell_type": "markdown",
   "id": "59c3f746",
   "metadata": {},
   "source": [
    "$$v_x(\\dot{\\theta}=0) = \\dot{x}$$\n",
    "\n",
    "$$v_y(\\dot{\\theta}=0) = 0$$"
   ]
  },
  {
   "cell_type": "markdown",
   "id": "c08d6f09",
   "metadata": {},
   "source": [
    "Next, if $\\dot{x} = 0$, the pendulum's velocity can be found by using some more trigonometry. The tangential speed of the pendulum is $v = |\\textbf{v}(\\dot{x}=0)|$. Recognize that if the angular speed $\\dot{\\theta}$ was constant, the pendulum would trace the entire circumference $2\\pi R$ of the circular path over a time period of $\\frac{2\\pi \\text{ radians}}{\\dot{\\theta} \\text{ radians per second}} = 2\\pi / \\dot{\\theta}$ seconds. That gives a tangential speed of $v = \\frac{\\text{distance}}{\\text{time}} = \\frac{2\\pi R}{2\\pi / \\dot{\\theta}} = R \\dot{\\theta}$."
   ]
  },
  {
   "cell_type": "markdown",
   "id": "8655cccc",
   "metadata": {},
   "source": [
    "But the horizontal and vertical components of the tangential velocity don't just depend on the tangential speed $v$, they also depend on the current angular position $\\theta$. With $\\theta=0$, all of the tangential velocity will be horizontal, $v_x(\\dot{x}=0, \\theta=0)=R\\dot{\\theta}$, $v_y(\\dot{x}=0, \\theta=0)=0$. With $\\theta=\\pi/2$, all of the tangential velocity will be vertical, $v_x(\\dot{x}=0, \\theta=\\pi/2)=0$, $v_y(\\dot{x}=0, \\theta=\\pi/2)=R\\dot{\\theta}$. So hopefully you can see that the tangential velocity is:"
   ]
  },
  {
   "cell_type": "markdown",
   "id": "420b9899",
   "metadata": {},
   "source": [
    "$$v_x(\\dot{x}=0)=R\\dot{\\theta}\\cos{\\theta}$$\n",
    "$$v_y(\\dot{x}=0)=R\\dot{\\theta}\\sin{\\theta}$$"
   ]
  },
  {
   "cell_type": "markdown",
   "id": "412c6a8a",
   "metadata": {},
   "source": [
    "Now we can add the tangential velocity to the velocity of the pendulum due to the motion of the block to obtain the total velocity of the pendulum:"
   ]
  },
  {
   "cell_type": "markdown",
   "id": "a389ee2f",
   "metadata": {},
   "source": [
    "$$ v_x = R\\dot{\\theta}cos{\\theta} + \\dot{x} $$\n",
    "$$ v_y = R\\dot{\\theta}sin{\\theta} $$"
   ]
  },
  {
   "cell_type": "markdown",
   "id": "e0a14ae0",
   "metadata": {},
   "source": [
    "And the kinetic energy of the pendulum is:"
   ]
  },
  {
   "cell_type": "markdown",
   "id": "43f85269",
   "metadata": {},
   "source": [
    "$$T_{pendulum} = \\frac{1}{2} m_2 ((R\\dot{\\theta}cos{\\theta} + \\dot{x})^2 + (R\\dot{\\theta}sin{\\theta})^2)$$"
   ]
  },
  {
   "cell_type": "markdown",
   "id": "16d64adf",
   "metadata": {},
   "source": [
    "$$T_{pendulum} = \\frac{1}{2} m_2 (R^2\\dot{\\theta}^2cos^2{\\theta} + 2R\\dot{x}\\dot{\\theta}cos{\\theta} + \\dot{x}^2 + R^2\\dot{\\theta}^2sin^2{\\theta})$$"
   ]
  },
  {
   "cell_type": "markdown",
   "id": "971a2d44",
   "metadata": {},
   "source": [
    "$$T_{pendulum} = \\frac{1}{2} m_2 (R^2\\dot{\\theta}^2(cos^2{\\theta} + sin^2{\\theta}) + 2R\\dot{x}\\dot{\\theta}cos{\\theta} + \\dot{x}^2)$$"
   ]
  },
  {
   "cell_type": "markdown",
   "id": "02d9160f",
   "metadata": {},
   "source": [
    "$$cos^2{\\theta} + sin^2{\\theta} = 1$$"
   ]
  },
  {
   "cell_type": "markdown",
   "id": "8bc446dd",
   "metadata": {},
   "source": [
    "$$T_{pendulum} = \\frac{1}{2} m_2 (R^2\\dot{\\theta}^2 + 2R\\dot{x}\\dot{\\theta}cos{\\theta} + \\dot{x}^2)$$"
   ]
  },
  {
   "cell_type": "markdown",
   "id": "cd37232c",
   "metadata": {},
   "source": [
    "Now that we have equations for the kinetic and potential energies of both the pendulum and the block, we can construct the Lagrangian:"
   ]
  },
  {
   "cell_type": "markdown",
   "id": "8c9cf7e2",
   "metadata": {},
   "source": [
    "$$ L = T - V = T_{block} + T_{pendulum} - V_{block} - V_{pendulum} $$\n",
    "$$ L = \\frac{1}{2}m_1 \\dot{x}^2 + \\frac{1}{2} m_2 (R^2\\dot{\\theta}^2 + 2R\\dot{x}\\dot{\\theta}cos{\\theta} + \\dot{x}^2) + m_2 g R cos{\\theta} $$"
   ]
  },
  {
   "cell_type": "markdown",
   "id": "11cfe2e7",
   "metadata": {},
   "source": [
    "Now we'll derive the E-L equations. There will be two of them, one for the $x$ coordinate and one for the $\\theta$ coordinate. Let's do $x$ first."
   ]
  },
  {
   "cell_type": "markdown",
   "id": "0229d463",
   "metadata": {},
   "source": [
    "$$ \\frac{d}{dt}\\frac{\\partial L}{\\partial \\dot{x}} = \\frac{\\partial L}{\\partial x} $$"
   ]
  },
  {
   "cell_type": "markdown",
   "id": "4c348c38",
   "metadata": {},
   "source": [
    "There are no terms in $L$ which depend directly on $x$, so:"
   ]
  },
  {
   "cell_type": "markdown",
   "id": "e7a7d6fb",
   "metadata": {},
   "source": [
    "$$ \\frac{\\partial{L}}{\\partial x} = 0 $$"
   ]
  },
  {
   "cell_type": "markdown",
   "id": "89fd6e17",
   "metadata": {},
   "source": [
    "Now the left side:"
   ]
  },
  {
   "cell_type": "markdown",
   "id": "581bf0b3",
   "metadata": {},
   "source": [
    "$$ \\frac{\\partial L}{\\partial \\dot{x}} = \\frac{\\partial}{\\partial \\dot{x}} ( \\frac{1}{2}m_1 \\dot{x}^2 + \\frac{1}{2} m_2 (2R\\dot{x}\\dot{\\theta}cos{\\theta} + \\dot{x}^2)) $$"
   ]
  },
  {
   "cell_type": "markdown",
   "id": "52068ed4",
   "metadata": {},
   "source": [
    "$$ \\frac{\\partial L}{\\partial \\dot{x}} = m_1 \\dot{x} + m_2 R \\dot{\\theta} \\cos{\\theta} + m_2 \\dot{x} $$"
   ]
  },
  {
   "cell_type": "markdown",
   "id": "e766ee58",
   "metadata": {},
   "source": [
    "$$ \\frac{\\partial L}{\\partial \\dot{x}} = (m_1 + m_2) \\dot{x} + m_2 R \\dot{\\theta}\\cos{\\theta} $$"
   ]
  },
  {
   "cell_type": "markdown",
   "id": "29764a88",
   "metadata": {},
   "source": [
    "$$ \\frac{d}{dt}\\frac{\\partial L}{\\partial \\dot{x}} = \\frac{d}{dt}((m_1 + m_2) \\dot{x} + m_2 R \\dot{\\theta}\\cos{\\theta})$$"
   ]
  },
  {
   "cell_type": "markdown",
   "id": "ee572542",
   "metadata": {},
   "source": [
    "$$ \\frac{d}{dt}\\frac{\\partial L}{\\partial \\dot{x}} = (m_1 + m_2) \\ddot{x} + m_2 R \\frac{d}{dt}\\dot{\\theta}\\cos{\\theta} $$"
   ]
  },
  {
   "cell_type": "markdown",
   "id": "fffb8ec1",
   "metadata": {},
   "source": [
    "To simplify $\\frac{d}{dt}\\dot{\\theta}\\cos{\\theta}$, I'll use the product rule, which says:"
   ]
  },
  {
   "cell_type": "markdown",
   "id": "98f4ea1f",
   "metadata": {},
   "source": [
    "$$\\frac{d}{dC}(A B) = A \\frac{dA}{dC} + B \\frac{dB}{dC} $$"
   ]
  },
  {
   "cell_type": "markdown",
   "id": "5fe89683",
   "metadata": {},
   "source": [
    "$$ \\frac{d}{dt}\\dot{\\theta}\\cos{\\theta} = \\dot{\\theta}\\frac{d}{dt}\\cos{\\theta} + \\cos{\\theta}\\frac{d}{dt}\\dot{\\theta} $$"
   ]
  },
  {
   "cell_type": "markdown",
   "id": "d1222bba",
   "metadata": {},
   "source": [
    "$$ \\frac{d}{dt}\\dot{\\theta}\\cos{\\theta} = \\dot{\\theta}\\frac{d}{dt}\\cos{\\theta} + \\ddot{\\theta}\\cos{\\theta} $$"
   ]
  },
  {
   "cell_type": "markdown",
   "id": "1be5adf1",
   "metadata": {},
   "source": [
    "And then to simplify $\\frac{d}{dt}\\cos{\\theta}$, I'll use the chain rule, which says:"
   ]
  },
  {
   "cell_type": "markdown",
   "id": "bff8d6de",
   "metadata": {},
   "source": [
    "$$ \\frac{dA}{dC} = \\frac{dA}{dB} \\frac{dB}{dC} $$"
   ]
  },
  {
   "cell_type": "markdown",
   "id": "7c8321fa",
   "metadata": {},
   "source": [
    "To use this rule, we'll substitute these:"
   ]
  },
  {
   "cell_type": "markdown",
   "id": "dfb7fd4e",
   "metadata": {},
   "source": [
    "$$ A = \\cos{\\theta} $$\n",
    "$$ B = \\theta $$\n",
    "$$ C = t $$"
   ]
  },
  {
   "cell_type": "markdown",
   "id": "154af1fe",
   "metadata": {},
   "source": [
    "$$ \\frac{d}{dt}\\cos{\\theta} = \\frac{d}{d\\theta}(\\cos{\\theta}) \\frac{d\\theta}{dt} $$"
   ]
  },
  {
   "cell_type": "markdown",
   "id": "001e77e7",
   "metadata": {},
   "source": [
    "$$ \\frac{d}{dt}\\cos{\\theta} = -\\dot{\\theta}\\sin{\\theta} $$"
   ]
  },
  {
   "cell_type": "markdown",
   "id": "288f4f5f",
   "metadata": {},
   "source": [
    "Do some substitutions:"
   ]
  },
  {
   "cell_type": "markdown",
   "id": "1d54856e",
   "metadata": {},
   "source": [
    "$$ \\frac{d}{dt}\\dot{\\theta}\\cos{\\theta} = \\dot{\\theta}\\frac{d}{dt}\\cos{\\theta} + \\ddot{\\theta}\\cos{\\theta} $$"
   ]
  },
  {
   "cell_type": "markdown",
   "id": "f688c506",
   "metadata": {},
   "source": [
    "$$ \\frac{d}{dt}\\dot{\\theta}\\cos{\\theta} = -\\dot{\\theta}^2\\sin{\\theta} + \\ddot{\\theta}\\cos{\\theta} $$"
   ]
  },
  {
   "cell_type": "markdown",
   "id": "6b138aa7",
   "metadata": {},
   "source": [
    "$$ \\frac{d}{dt}\\frac{\\partial L}{\\partial \\dot{x}} = (m_1 + m_2) \\ddot{x} + m_2 R \\frac{d}{dt}\\dot{\\theta}\\cos{\\theta}$$"
   ]
  },
  {
   "cell_type": "markdown",
   "id": "8e69ae53",
   "metadata": {},
   "source": [
    "$$ \\frac{d}{dt}\\frac{\\partial L}{\\partial \\dot{x}} = (m_1 + m_2) \\ddot{x} + m_2 R  (\\ddot{\\theta}\\cos{\\theta} - \\dot{\\theta}^2\\sin{\\theta})$$"
   ]
  },
  {
   "cell_type": "markdown",
   "id": "fa619af4",
   "metadata": {},
   "source": [
    "Now we have both sides of the E-L equation for $x$. Combine them to get:"
   ]
  },
  {
   "cell_type": "markdown",
   "id": "671e82dd",
   "metadata": {},
   "source": [
    "$$(m_1 + m_2) \\ddot{x} + m_2 R  (\\ddot{\\theta}\\cos{\\theta} - \\dot{\\theta}^2\\sin{\\theta}) = 0$$"
   ]
  },
  {
   "cell_type": "markdown",
   "id": "a5848907",
   "metadata": {},
   "source": [
    "And solve for $\\ddot{x}$."
   ]
  },
  {
   "cell_type": "markdown",
   "id": "6ad47364",
   "metadata": {},
   "source": [
    "$$\\ddot{x} = \\frac{m_2 R}{m_1 + m_2} (\\dot{\\theta}^2\\sin{\\theta} - \\ddot{\\theta}\\cos{\\theta})$$"
   ]
  },
  {
   "cell_type": "markdown",
   "id": "12d5ba68",
   "metadata": {},
   "source": [
    "Now let's get the E-L equation for $\\theta$."
   ]
  },
  {
   "cell_type": "markdown",
   "id": "7a551562",
   "metadata": {},
   "source": [
    "$$ L = \\frac{1}{2}m_1 \\dot{x}^2 + \\frac{1}{2} m_2 (R^2\\dot{\\theta}^2 + 2R\\dot{x}\\dot{\\theta}cos{\\theta} + \\dot{x}^2) + m_2 g R cos{\\theta} $$"
   ]
  },
  {
   "cell_type": "markdown",
   "id": "13219dac",
   "metadata": {},
   "source": [
    "$$ \\frac{d}{dt}\\frac{\\partial L}{\\partial \\dot{\\theta}} = \\frac{\\partial L}{\\partial \\theta} $$"
   ]
  },
  {
   "cell_type": "markdown",
   "id": "d0d174ec",
   "metadata": {},
   "source": [
    "$$ \\frac{\\partial L}{\\partial \\theta} = \\frac{\\partial}{\\partial \\theta}(\\frac{1}{2}m_2(2R\\dot{x}\\dot{\\theta}cos{\\theta}) + m_2 g R cos{\\theta})$$ "
   ]
  },
  {
   "cell_type": "markdown",
   "id": "ac9a0b0e",
   "metadata": {},
   "source": [
    "$$ \\frac{\\partial L}{\\partial \\theta} = \\frac{\\partial}{\\partial \\theta}(m_2R\\dot{x}\\dot{\\theta}cos{\\theta} + m_2 g R cos{\\theta})$$ "
   ]
  },
  {
   "cell_type": "markdown",
   "id": "31b53f8b",
   "metadata": {},
   "source": [
    "$$ \\frac{\\partial L}{\\partial \\theta} = m_2 R (\\dot{x}\\dot{\\theta} + g) \\frac{\\partial}{\\partial \\theta}\\cos{\\theta}$$ "
   ]
  },
  {
   "cell_type": "markdown",
   "id": "1146a7dd",
   "metadata": {},
   "source": [
    "$$ \\frac{\\partial L}{\\partial \\theta} = - m_2 R (\\dot{x}\\dot{\\theta} + g) \\sin{\\theta}$$ "
   ]
  },
  {
   "cell_type": "markdown",
   "id": "745171cc",
   "metadata": {},
   "source": [
    "Now the left side."
   ]
  },
  {
   "cell_type": "markdown",
   "id": "35ef2ba2",
   "metadata": {},
   "source": [
    "$$ \\frac{\\partial L}{\\partial \\dot{\\theta}} = \\frac{\\partial}{\\partial \\dot{\\theta}}(\\frac{1}{2} m_2 (R^2\\dot{\\theta}^2 + 2R\\dot{x}\\dot{\\theta}cos{\\theta}))$$"
   ]
  },
  {
   "cell_type": "markdown",
   "id": "733ee0c7",
   "metadata": {},
   "source": [
    "$$ \\frac{\\partial L}{\\partial \\dot{\\theta}} = m_2 R^2 \\dot\\theta + m_2 R \\dot{x}\\cos{\\theta} $$"
   ]
  },
  {
   "cell_type": "markdown",
   "id": "44cbb181",
   "metadata": {},
   "source": [
    "$$ \\frac{d}{dt}\\frac{\\partial L}{\\partial \\dot{\\theta}} = \\frac{d}{dt}(m_2 R^2 \\dot\\theta + m_2 R \\dot{x}\\cos{\\theta} )$$"
   ]
  },
  {
   "cell_type": "markdown",
   "id": "85e39899",
   "metadata": {},
   "source": [
    "$$ \\frac{d}{dt}\\frac{\\partial L}{\\partial \\dot{\\theta}} = m_2 R^2 \\ddot\\theta + m_2 R \\frac{d}{dt}(\\dot{x}\\cos{\\theta})$$"
   ]
  },
  {
   "cell_type": "markdown",
   "id": "98bdcb6d",
   "metadata": {},
   "source": [
    "Use the product rule again."
   ]
  },
  {
   "cell_type": "markdown",
   "id": "748b1714",
   "metadata": {},
   "source": [
    "$$ \\frac{d}{dt}\\frac{\\partial L}{\\partial \\dot{\\theta}} = m_2 R^2 \\ddot\\theta + m_2 R (\\cos{\\theta}\\frac{d}{dt}\\dot{x} + \\dot{x}\\frac{d}{dt}\\cos{\\theta})$$"
   ]
  },
  {
   "cell_type": "markdown",
   "id": "f84f3e85",
   "metadata": {},
   "source": [
    "Remember we saw this earlier:"
   ]
  },
  {
   "cell_type": "markdown",
   "id": "0d7dd0cb",
   "metadata": {},
   "source": [
    "$$ \\frac{d}{dt}\\cos{\\theta} = -\\dot{\\theta}\\sin{\\theta} $$"
   ]
  },
  {
   "cell_type": "markdown",
   "id": "15403432",
   "metadata": {},
   "source": [
    "$$ \\frac{d}{dt}\\frac{\\partial L}{\\partial \\dot{\\theta}} = m_2 R^2 \\ddot\\theta + m_2 R (\\ddot{x}\\cos{\\theta} - \\dot{x}\\dot{\\theta}\\sin{\\theta})$$"
   ]
  },
  {
   "cell_type": "markdown",
   "id": "0aedc695",
   "metadata": {},
   "source": [
    "So the E-L equation for $\\theta$ is:"
   ]
  },
  {
   "cell_type": "markdown",
   "id": "b7548996",
   "metadata": {},
   "source": [
    "$$ m_2 R^2 \\ddot\\theta + m_2 R (\\ddot{x}\\cos{\\theta} - \\dot{x}\\dot{\\theta}\\sin{\\theta}) = - m_2 R (\\dot{x}\\dot{\\theta} + g) \\sin{\\theta}$$ "
   ]
  },
  {
   "cell_type": "markdown",
   "id": "0547b66d",
   "metadata": {},
   "source": [
    "We can simplify this quite a bit."
   ]
  },
  {
   "cell_type": "markdown",
   "id": "d882b164",
   "metadata": {},
   "source": [
    "$$ R \\ddot\\theta + \\ddot{x}\\cos{\\theta} - \\dot{x}\\dot{\\theta}\\sin{\\theta} = - \\dot{x}\\dot{\\theta}\\sin\\theta - g\\sin{\\theta}$$ "
   ]
  },
  {
   "cell_type": "markdown",
   "id": "1145d4d9",
   "metadata": {},
   "source": [
    "$$ R \\ddot\\theta + \\ddot{x}\\cos{\\theta} = - g\\sin{\\theta}$$ "
   ]
  },
  {
   "cell_type": "markdown",
   "id": "a5c60ed2",
   "metadata": {},
   "source": [
    "$$ \\ddot\\theta = - \\frac{1}{R} (\\ddot{x}\\cos{\\theta} + g\\sin{\\theta})$$ "
   ]
  },
  {
   "cell_type": "markdown",
   "id": "00ec5c8c",
   "metadata": {},
   "source": [
    "Now we finally have two equations of motion for the sliding block pendulum. I'll repeat them for clarity."
   ]
  },
  {
   "cell_type": "markdown",
   "id": "fda35091",
   "metadata": {},
   "source": [
    "$$\\ddot{x} = \\frac{m_2 R}{m_1 + m_2} (\\dot{\\theta}^2\\sin{\\theta} - \\ddot{\\theta}\\cos{\\theta})$$"
   ]
  },
  {
   "cell_type": "markdown",
   "id": "cde40221",
   "metadata": {},
   "source": [
    "$$ \\ddot\\theta = - \\frac{1}{R} (\\ddot{x}\\cos{\\theta} + g\\sin{\\theta})$$ "
   ]
  },
  {
   "cell_type": "markdown",
   "id": "00bf837d",
   "metadata": {},
   "source": [
    "Let's go ahead and make a simulation of this."
   ]
  },
  {
   "cell_type": "code",
   "execution_count": 5,
   "id": "c9d7b000",
   "metadata": {},
   "outputs": [],
   "source": [
    "class SlidingBlockPendulum(physics_sims.Sim):\n",
    "    def __init__(self):\n",
    "        self.t = 0\n",
    "\n",
    "        self.x = 0\n",
    "        self.xd = 0\n",
    "        self.xdd = 0\n",
    "\n",
    "        self.th = np.pi / 2\n",
    "        self.thd = 0\n",
    "        self.thdd = 0\n",
    "\n",
    "        self.m1 = 1\n",
    "        self.m2 = 1\n",
    "        self.R = 4\n",
    "        self.g = 9.80\n",
    "\n",
    "    \n",
    "    def calc_xdd(self, th, thd, thdd):\n",
    "        return (self.m2 * self.R / (self.m1 + self.m2)) * (thd**2 * np.sin(th) - thdd * np.cos(th))\n",
    "\n",
    "    def calc_thdd(self, th, xdd):\n",
    "        return -(xdd * np.cos(th) + self.g * np.sin(th)) / self.R\n",
    "    \n",
    "    def update(self, sim_runner, dt):\n",
    "        self.xdd = self.calc_xdd(self.th, self.thd, self.thdd)\n",
    "        self.thdd = self.calc_thdd(self.th, self.xdd)\n",
    "\n",
    "        self.xd = self.xd + self.xdd * dt\n",
    "        self.thd = self.thd + self.thdd * dt\n",
    "\n",
    "        self.x = self.x + self.xd * dt\n",
    "        self.th = self.th + self.thd * dt\n",
    "\n",
    "        self.t = self.t + dt\n",
    "\n",
    "    def state(self):\n",
    "        return [self.t, self.x, self.th]\n",
    "\n",
    "    def draw(self, sim_runner):\n",
    "        x_block = self.x\n",
    "        y_block = 2\n",
    "        x_pendulum = x_block + self.R * np.sin(self.th)\n",
    "        y_pendulum = y_block - self.R * np.cos(self.th)\n",
    "\n",
    "        sim_runner.draw_dot([x_block, y_block])\n",
    "        sim_runner.draw_dot([x_pendulum, y_pendulum])\n",
    "\n",
    "trajectory = physics_sims.SimRunner().run_headless(SlidingBlockPendulum(), 10)"
   ]
  },
  {
   "cell_type": "code",
   "execution_count": 6,
   "id": "df40882d",
   "metadata": {},
   "outputs": [
    {
     "data": {
      "image/png": "[encoded data removed]",
      "text/plain": [
       "<Figure size 640x480 with 1 Axes>"
      ]
     },
     "metadata": {},
     "output_type": "display_data"
    }
   ],
   "source": [
    "plt.plot(trajectory[:, 1], trajectory[:, 0], label='x(t)')\n",
    "plt.plot(trajectory[:, 2], trajectory[:, 0], label='θ(t)')\n",
    "\n",
    "plt.xlabel('x or θ')\n",
    "plt.ylabel('t')\n",
    "plt.axis('equal')\n",
    "plt.legend()\n",
    "plt.show()"
   ]
  },
  {
   "cell_type": "code",
   "execution_count": null,
   "id": "f15f94ca",
   "metadata": {},
   "outputs": [],
   "source": []
  }
 ],
 "metadata": {
  "kernelspec": {
   "display_name": "Python 3 (ipykernel)",
   "language": "python",
   "name": "python3"
  },
  "language_info": {
   "codemirror_mode": {
    "name": "ipython",
    "version": 3
   },
   "file_extension": ".py",
   "mimetype": "text/x-python",
   "name": "python",
   "nbconvert_exporter": "python",
   "pygments_lexer": "ipython3",
   "version": "3.11.3"
  }
 },
 "nbformat": 4,
 "nbformat_minor": 5
}
