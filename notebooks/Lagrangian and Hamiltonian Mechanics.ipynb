{
 "cells": [
  {
   "cell_type": "markdown",
   "id": "558313ef",
   "metadata": {},
   "source": [
    "These are my notes on Lagrangian and Hamiltonian mechanics, including some example simulations of simple physical systems."
   ]
  },
  {
   "cell_type": "markdown",
   "id": "4743bd9c",
   "metadata": {},
   "source": [
    "## Prerequisites\n",
    "\n",
    "I'm not going to say that you absolutely need to know a particular set of topics before going into this. But it would certainly make things easier if you know these:\n",
    "\n",
    "* Some basic calculus. Do you know what the difference between a partial derivative and a total derivative is? Do you know what $\\int_{a}^{b} \\frac{d^2 x}{d t^2} dt $ means?\n",
    "\n",
    "* Some basic physics. Do you know  what $F = ma$ means? Do you know what an inertial reference frame is?\n",
    "\n",
    "* Dimensional analysis. Do you know that force is given in units of ${mass} \\cdot {distance} \\:/\\: {time}^{2}$ ? Do you know that energy is ${mass} \\cdot {distance}^2 \\:/\\: {time}^{2}$ ?\n",
    "\n",
    "* Python. Do you know what `a = [x for x in y if x > 0]` means?"
   ]
  },
  {
   "cell_type": "markdown",
   "id": "0a5f2be6",
   "metadata": {},
   "source": [
    "## Sources\n",
    "\n",
    "Basically all of the physics concepts we'll use here are explained in more detail in the first volume of Leonard Susskind's book [The Theoretical Minimum](https://en.wikipedia.org/wiki/The_Theoretical_Minimum). Also check out his free [Classical Mechanics](https://www.youtube.com/watch?v=ApUFtLCrU90&list=PL47F408D36D4CF129) lecture series which covers the same content as the book."
   ]
  },
  {
   "cell_type": "markdown",
   "id": "238dec98",
   "metadata": {},
   "source": [
    "# Force-based Physics\n",
    "\n",
    "In this section I'll describe a very common way of approaching physics, which you are probably familiar with. But we won't be using this approach exactly. I just bring it up to explain why we'll use a different approach.\n",
    "\n",
    "It's very common to start physics problems by writing down equations to describe all the forces acting on each object. For each object, you sum up all the forces acting on it to get the total force on that object, $ \\textbf{F}(t, \\{\\textbf{x}\\}, \\{\\dot{\\textbf{x}}\\}) $, where $t$ is time, $\\{\\textbf{x}\\}$ is the set of positions of all objects, and $\\{\\dot{\\textbf{x}}\\}$ is the set of velocities of all objects. Then you use Newton's equation of motion $\\textbf{F} = m \\textbf{a} = m \\frac{d^2 \\textbf{x}}{d t^2} = m \\ddot{\\textbf{x}}$ to get an equation that describes the acceleration of the particle, parameterized by the particle's mass $m$ and the state of the system, $t$, $\\{\\textbf{x}\\}$, $\\{\\dot{\\textbf{x}}\\}$.\n",
    "\n",
    "At the end, you get a set of second order differential equations that describes the motion of all the objects in the system. You can choose an initial condition $t_0$, $\\{\\textbf{x}(t_0)\\}$, $\\{\\dot{\\textbf{x}}(t_0)\\}$ and then integrate forward in time using one of many different methods.\n",
    "\n",
    "This force-based approach works for a lot of problems. But it doesn't generalize to all physics problems. By itself, it doesn't account for things like the electromagnetic field, rotating objects, or relativity theory.\n",
    "\n",
    "Also, this approach can become very difficult if we want to use a mixture of different types of coordinates to keep track of the state of the system.\n",
    "\n",
    "There is also an issue of numerical accuracy. If our method of integration introduces a lot of error over time, how do we detect that? One reliable way is to calculate the total energy of the system at each step and make sure that it remains relatively constant. Or if the energy is expected to change over time, check that it changes in the expected way. But how do we even know what to expect the energy to be?\n",
    "\n",
    "There is a more general approach to physics which applies to all known physical systems. It can actually be simpler to think about than the force-based approach, once you get the hang of it. It's an energy-based approach. So instead of starting with equations of force and deriving the equations of motion from those, we will instead derive the equations of motion from equations of energy. Since we'll start with equations of energy, we'll be able to figure out how the energy is supposed to behave over time."
   ]
  },
  {
   "cell_type": "markdown",
   "id": "083a0979",
   "metadata": {},
   "source": [
    "# Energy\n",
    "\n",
    "In classical non-relativistic physics, there are equations for the kinetic energy and the potential energy for each object in the system."
   ]
  },
  {
   "cell_type": "markdown",
   "id": "322ce36f",
   "metadata": {},
   "source": [
    "### Kinetic Energy\n",
    "\n",
    "\n",
    "Kinetic energy $T$ is purely based on an object's mass and velocity:"
   ]
  },
  {
   "cell_type": "markdown",
   "id": "0eafd53f",
   "metadata": {},
   "source": [
    "$$ T = \\frac{1}{2} m \\dot{\\textbf{x}}^2 $$"
   ]
  },
  {
   "cell_type": "markdown",
   "id": "e97b8657",
   "metadata": {},
   "source": [
    "If the object is not moving in a particular frame of reference, it has zero kenetic energy in that frame. The faster the object is moving, in any direction, the more kinetic energy it has. In two different frames, the same object will have a different amount of kinetic energy, as long as the speed $|\\dot{\\textbf{x}}|$ of the object is different in the two frames."
   ]
  },
  {
   "cell_type": "markdown",
   "id": "4cd8ccaa",
   "metadata": {},
   "source": [
    "### Potential Energy\n",
    "\n",
    "Next is potential energy $V(\\textbf{x}, t)$ which can depend on the position of the object and on time. So there can be a different number at each point in time and space.\n",
    "\n",
    "Potential energy is more complicated than kinetic. That's because the form of the kinetic energy equation can be different for different kinds of interactions that do work on an object.\n",
    "\n",
    "For instance, an object attached to a spring has a different potential energy equation than a planet in the solar system.\n",
    "\n",
    "But there is a relationship between the force on an object and the potential energy:"
   ]
  },
  {
   "cell_type": "markdown",
   "id": "470d57fe",
   "metadata": {},
   "source": [
    "$$ F^i = -\\frac{\\partial V(\\textbf{x}, t)}{\\partial x^i} $$"
   ]
  },
  {
   "cell_type": "markdown",
   "id": "d1d82618",
   "metadata": {},
   "source": [
    "$F^i$ is the component of the force on the object in the $i$-th dimension. $i$ here is just an index into the vector $\\textbf{F}$, it is not an exponent. $i$ runs from 1 to N, for each spatial dimension. $x^i$ is just the $i$-th dimension component of the position vector $\\textbf{x}$.\n",
    "\n",
    "We can also write this as a vector equation without indices:"
   ]
  },
  {
   "cell_type": "markdown",
   "id": "108b77bc",
   "metadata": {},
   "source": [
    "$$ \\textbf{F} = -\\nabla V(\\textbf{x}, t)$$"
   ]
  },
  {
   "cell_type": "markdown",
   "id": "4e5b999c",
   "metadata": {},
   "source": [
    "Notice that the relationship between the potential and the force only involves partial derivatives of $V$ with respect to spatial coordinates. That means that if there is a term in $V$ that depends only on time, it won't show up in the force equation and thus won't affect the motion.\n",
    "\n",
    "For now, I'll simplify the force equation to a case where there's only motion in one dimension and the potential doesn't change over time. We'll use $x$ (not bolded and without an index) to be the position in just one dimension--the $x$-dimension."
   ]
  },
  {
   "cell_type": "markdown",
   "id": "c8f3233a",
   "metadata": {},
   "source": [
    "$$ F = - \\frac{d V(x)}{d x} $$"
   ]
  },
  {
   "cell_type": "markdown",
   "id": "9f42c4b0",
   "metadata": {},
   "source": [
    "In plain English, the force is the negative slope of the potential energy function. So the force points towards the direction in which the potential energy instantaneously decreases, like a ball rolling down a hill."
   ]
  },
  {
   "cell_type": "markdown",
   "id": "e57087aa",
   "metadata": {},
   "source": [
    "### Harmonic Oscillator potential\n",
    "\n",
    "Let's see an example of a potential energy.\n",
    "\n",
    "We'll choose the potential energy to be $V(x) = \\frac{1}{2} k x^2$. $k$ is a constant that sets the scale of the potential. The force equation is $F = -\\frac{d}{dx} (\\frac{1}{2} k x^2) = -kx$. Let's make a diagram showing this potential energy function and draw arrows in a few places indicating the strength and direction of the force. We'll set $k=1$.\n",
    "\n",
    "(The code here isn't very important. Skip it unless you want to read it.)"
   ]
  },
  {
   "cell_type": "code",
   "execution_count": 1,
   "id": "02ab8172",
   "metadata": {},
   "outputs": [
    {
     "data": {
      "text/plain": [
       "<matplotlib.legend.Legend at 0x72cd1988b090>"
      ]
     },
     "execution_count": 1,
     "metadata": {},
     "output_type": "execute_result"
    },
    {
     "data": {
      "image/png": "[encoded data removed]",
      "text/plain": [
       "<Figure size 640x480 with 1 Axes>"
      ]
     },
     "metadata": {},
     "output_type": "display_data"
    }
   ],
   "source": [
    "import matplotlib.pyplot as plt\n",
    "import numpy as np\n",
    "\n",
    "k = 1\n",
    "\n",
    "def V(x):\n",
    "    return 0.5 * k * x**2\n",
    "\n",
    "def F(x):\n",
    "    return -k * x\n",
    "\n",
    "x_list = np.linspace(-3, 3, 100)\n",
    "V_list = V(x_list)\n",
    "\n",
    "plt.plot(x_list, V_list, label='V(x)')\n",
    "\n",
    "for idx, x in enumerate(np.linspace(-3, 3, 31)):\n",
    "    Fx = F(x)\n",
    "    Vx = V(x)\n",
    "    plt.arrow(\n",
    "        x, Vx, 0.2*Fx, 0,\n",
    "        width=0.01*abs(Fx),\n",
    "        head_width=0.05*abs(Fx),\n",
    "        label=None if idx!=0 else 'F(x)',\n",
    "        color='tab:orange')\n",
    "\n",
    "plt.xlabel('x')\n",
    "plt.ylabel('V(x)')\n",
    "plt.legend()"
   ]
  },
  {
   "cell_type": "markdown",
   "id": "995290f6",
   "metadata": {},
   "source": [
    "The arrows indicate the magnitude and direction of the force at the $x$ value where its tail is located. The size of an arrow corresponds to the magnitude of the force.\n",
    "\n",
    "The equation of motion is $F = m \\ddot{x}$. Solving for acceleration, we get $\\ddot{x} = \\frac{F}{m}$, so the acceleration is directly proportional to the force.\n",
    "\n",
    "Let's think about how an object in this potential will act. We'll create a simulation of it later, but for now I just want to try to show how we can think about this intuitively.\n",
    "\n",
    "Think of $V(x)$ as a valley made of a frictionless material. If we place a ball at the lowest point, x=0, with no velocity, it just stays there. If we place it at $x=-2$, it will fall down the slope towards the right, reach its maximum speed when it's at $x=0$, slow down until it reaches $x=2$, and then it will continue to oscillate back and forth like that.\n",
    "\n",
    "Hopefully it's not too difficult for you to see this. But if it is, don't worry, we'll come back to this example."
   ]
  },
  {
   "cell_type": "markdown",
   "id": "5c6f8004",
   "metadata": {},
   "source": [
    "# The Stationary Action Principle\n",
    "\n",
    "The stationary action principle is one of the most general principles of physics. It's true for all known systems in nature.\n",
    "\n",
    "Before I say what the stationary action principle is exactly, I need to give some definitions.\n",
    "\n",
    "The idea is centered around a term $L$, which is a quantity in units of energy that can depend on time and the state of the system. $L$ is known as the Lagrangian of the system. Where does $L$ come from? We'll get to that. If we integrate $L$ between two points in time, we get a quantity known as the action $A$ of the system between those two points. We can write that as:"
   ]
  },
  {
   "cell_type": "markdown",
   "id": "c7b3b62d",
   "metadata": {},
   "source": [
    "$$ A = \\int_{a}^{b} Ldt $$"
   ]
  },
  {
   "cell_type": "markdown",
   "id": "7b9f4ca1",
   "metadata": {},
   "source": [
    "The entire positional state of a system can be written as a vector $\\textbf{q}$. An individual element of this is $q^i$. $\\textbf{q}$ has as many elements as there are degrees of freedom in the system. For instance, if we have four particles in a 3-dimensional space, there are twelve degrees of freedom and $\\textbf{q}$ has twelve elements. The reason we use $q$ instead of $x$ here is because it can be any kind of positional coordinate, not just a Cartesian coordinate. It could be a polar coordinate if we want. $\\textbf{q}$ could contain a mixture of different types of coordinates. Later I'll show examples of this.\n",
    "\n",
    "There is also the state of the velocities in the system, which we call $\\frac{d \\textbf{q}}{d t}$ or $\\dot{\\textbf{q}}$.\n",
    "\n",
    "$\\textbf{q}$ and $\\dot{\\textbf{q}}$ can be thought of as terms that depend on time. At a particular time $t$, there is one state, $\\textbf{q}(t)$ and $\\dot{\\textbf{q}}(t)$. $\\textbf{q}(t)$ is the trajectory or \"path\" that the system takes over time. \n",
    "\n",
    "So we can write $L$ with all its possible explicit dependencies as $L(\\textbf{q}(t), \\dot{\\textbf{q}}(t), t)$. The action integral with all these explicit dependencies is:"
   ]
  },
  {
   "cell_type": "markdown",
   "id": "bf40a565",
   "metadata": {},
   "source": [
    "$$ A = \\int_{a}^{b} L(\\textbf{q}(t), \\dot{\\textbf{q}}(t), t)dt $$"
   ]
  },
  {
   "cell_type": "markdown",
   "id": "987e6e18",
   "metadata": {},
   "source": [
    "Now imagine that we know the state $\\textbf{q}$ and $\\dot{\\textbf{q}}$ of a system at two different times $t_a$ and $t_b$, and we know what $L$ is for the system. We want to somehow calculate the trajectory $\\textbf{q}(t)$ that the system took between those two points.\n",
    "\n",
    "There are an infinite number of different trajectories that we could draw between the initial and final state. The stationary action principle says that the trajectory that the system actually takes is the one that makes the action stationary.\n",
    "\n",
    "What does it mean for the action to be stationary? It means that compared to all the other possible paths, the one that the system actually takes will either minimize or maximize the action $A$. (To be completely correct, we should also say that it could be a saddle point, not just a minimum or maximum.)\n",
    "\n",
    "\n",
    "The stationary action principle can be written as:"
   ]
  },
  {
   "cell_type": "markdown",
   "id": "fd39a8a3",
   "metadata": {},
   "source": [
    "$$ \\delta A = \\delta \\int_{a}^{b} L(\\textbf{q}(t), \\dot{\\textbf{q}}(t), t)dt = 0 $$"
   ]
  },
  {
   "cell_type": "markdown",
   "id": "79a29c1b",
   "metadata": {},
   "source": [
    "This just means that, given the correct trajectory $\\textbf{q}(t)$, if we add some tiny change $\\delta\\textbf{q}(t)$ to the trajectory, the action will not change--because it is at a maximum, minimum, or saddle point. The change in action is $\\delta A$.\n",
    "\n",
    "Given the trajectory of any physical system, there exists some equation for a quantity $L$ which makes the action stationary.\n",
    "\n",
    "Just one last note for this section. A particular Lagrangian fundamentally comes from experimentation, just like how force equations come from experimentation. For example, a scientist could measure the trajectory of a certain kind of system and then try to find some equation for $L$ that satisfies $\\delta A = 0$. If she thinks she found the right one, she can try to use it to predict what will happen in the future. If the predictions are right, that gives more evidence that the equation for $L$ is right."
   ]
  },
  {
   "cell_type": "markdown",
   "id": "4aea24ef",
   "metadata": {},
   "source": [
    "# Euler-Lagrange equations of motion\n",
    "\n",
    "Given a particular Lagrangian, how do we find the trajectory that makes the action stationary? We use what are called the Euler-Lagrange equations of motion. I'll call these the E-L equations for now on. The E-L equations are:"
   ]
  },
  {
   "cell_type": "markdown",
   "id": "bb1f0fb8",
   "metadata": {},
   "source": [
    "$$ \\frac{d}{dt}\\frac{\\partial L(\\textbf{q}, \\dot{\\textbf{q}}, t)}{\\partial \\dot{q}^i} = \\frac{\\partial L(\\textbf{q}, \\dot{\\textbf{q}}, t)}{\\partial q^i} $$"
   ]
  },
  {
   "cell_type": "markdown",
   "id": "79fbce0f",
   "metadata": {},
   "source": [
    "Or more concisely:"
   ]
  },
  {
   "cell_type": "markdown",
   "id": "4fe962eb",
   "metadata": {},
   "source": [
    "$$ \\frac{d}{dt}\\frac{\\partial L}{\\partial \\dot{q}^i} = \\frac{\\partial L}{\\partial q^i} $$"
   ]
  },
  {
   "cell_type": "markdown",
   "id": "babb673b",
   "metadata": {},
   "source": [
    "Remember that $q^i$ is the $i$-th component of $\\textbf{q}$, and $\\dot{q}^i$ is the $i$-th component of $\\dot{\\textbf{q}}$. So each degree of freedom in the system has its own equation of motion.\n",
    "\n",
    "I won't go into why the E-L equations work. The Theoretical Minimum book explains it well if you are curious.\n",
    "\n",
    "Given a Lagrangian for a system, you just use the above formula to find the equations of motion. They'll be second-order equations and you can use some method of integration to simulate the system.\n",
    "\n",
    "Notice that the E-L equations involve partial derivatives of $L$ with respect to spatial coordinates and velocities. If we had some Lagrangian of the form $L = L_0 + f(t)$, where $f(t)$ depends only on time, then $f(t)$ won't show up at all in the equations of motion."
   ]
  },
  {
   "cell_type": "markdown",
   "id": "87147ec2",
   "metadata": {},
   "source": [
    "# Classical Lagrangian\n",
    "\n",
    "Let's finally start looking at Lagrangians for specific types of systems. In classical non-relativistic physics, experimentation has shown that a single point mass in a potential is described by the Lagrangian:"
   ]
  },
  {
   "cell_type": "markdown",
   "id": "5ea28b5b",
   "metadata": {},
   "source": [
    "$$ L = T - V(\\textbf{x}, t) $$"
   ]
  },
  {
   "cell_type": "markdown",
   "id": "298d0555",
   "metadata": {},
   "source": [
    "This means that if we wanted to calculate the action over a section of the particle's trajectory, we integrate the difference between kinetic and potential energy over time.\n",
    "\n",
    "If we have multiple particles, we have to add terms for each of their kinetic energies, and the potential can depend on the positions of all particles:"
   ]
  },
  {
   "cell_type": "markdown",
   "id": "abc9d965",
   "metadata": {},
   "source": [
    "$$ L = \\sum_i{T_i} - V(\\{\\textbf{x}\\}, t) $$"
   ]
  },
  {
   "cell_type": "markdown",
   "id": "0b2f8263",
   "metadata": {},
   "source": [
    "### Harmonic Oscillator Lagrangian\n",
    "\n",
    "Let's revisit the example from earlier of a particle in one dimension with $V(x) = \\frac{1}{2}kx^2$. Also, as I mentioned earlier, kinetic energy is $T=\\frac{1}{2}m \\dot{x}^2$. This gives:"
   ]
  },
  {
   "cell_type": "markdown",
   "id": "ec400fa0",
   "metadata": {},
   "source": [
    "$$ L = \\frac{1}{2}m \\dot{x}^2 - \\frac{1}{2}kx^2 $$"
   ]
  },
  {
   "cell_type": "markdown",
   "id": "47cf69f6",
   "metadata": {},
   "source": [
    "There's going to be just one E-L equation, since we only have one degree of freedom. So we can drop the index $i$ from the E-L equation. Also, $x$ is the positional coordinate, so we'll use $q = x$. That gives us the E-L equation:"
   ]
  },
  {
   "cell_type": "markdown",
   "id": "bf32865f",
   "metadata": {},
   "source": [
    "$$ \\frac{d}{dt}\\frac{\\partial L}{\\partial \\dot{x}} = \\frac{\\partial L}{\\partial x} $$"
   ]
  },
  {
   "cell_type": "markdown",
   "id": "b4f8277e",
   "metadata": {},
   "source": [
    "Now let's plug in $L$ and simplify. First, the left side of the E-L equation."
   ]
  },
  {
   "cell_type": "markdown",
   "id": "1682971d",
   "metadata": {},
   "source": [
    "$$\\frac{\\partial L}{\\partial \\dot{x}} = \\frac{\\partial}{\\partial \\dot{x}}(\\frac{1}{2}m \\dot{x}^2 - \\frac{1}{2}kx^2) = m \\dot{x}$$"
   ]
  },
  {
   "cell_type": "markdown",
   "id": "c184a516",
   "metadata": {},
   "source": [
    "$$\\frac{d}{dt}\\frac{\\partial L}{\\partial \\dot{x}} = m\\ddot{x}$$"
   ]
  },
  {
   "cell_type": "markdown",
   "id": "441648d4",
   "metadata": {},
   "source": [
    "Next, the right side."
   ]
  },
  {
   "cell_type": "markdown",
   "id": "4be599c0",
   "metadata": {},
   "source": [
    "$$ \\frac{\\partial L}{\\partial x} = \\frac{\\partial}{\\partial x}(\\frac{1}{2}m \\dot{x}^2 - \\frac{1}{2}kx^2) = -kx $$"
   ]
  },
  {
   "cell_type": "markdown",
   "id": "7ade28b4",
   "metadata": {},
   "source": [
    "Putting them together, we have the equation of motion:"
   ]
  },
  {
   "cell_type": "markdown",
   "id": "80a768b2",
   "metadata": {},
   "source": [
    "$$m \\ddot{x} = -kx$$\n",
    "$$\\ddot{x} = -\\frac{k}{m}x $$"
   ]
  },
  {
   "cell_type": "markdown",
   "id": "4b1c51b2",
   "metadata": {},
   "source": [
    "This is the same equation as what we obtained earlier by using $F=ma$ and $F=-\\frac{\\partial V(x)}{\\partial x}$. So you could say that for this particular problem, it may have been overkill to use Lagrangian mechanics. But the point is that Lagrangian mechanics is very standardized and will work for a huge range of different kinds of problems.\n",
    "\n",
    "Let's make a simulation of this system. It doesn't require very much code if we use the `physics_sims` module.\n",
    "\n",
    "In the code below, I create a subclass of `Sim` which defines how the system behaves. Then I instantiate it and pass it to a `SimRunner` object to run the simulation, which produces a time series containing the trajectory of the system. At each step of the simulation, the `SimRunner` calls the `Sim.update` method, which in this case first calculates the current acceleration using the $\\ddot{x}=-\\frac{k}{m}x$ formula we derived above and then integrates the velocity and position of the particle over a small time step `dt`. Here I use simple [Euler integration](https://en.wikipedia.org/wiki/Euler_method). Also, at each step the `SimRunner` calls the `Sim.state` method to obtain the current state of the system and appends it to the trajectory that it builds. I chose to just record the time and position, but we could have added the velocity or whatever else we want."
   ]
  },
  {
   "cell_type": "code",
   "execution_count": 2,
   "id": "8888952f",
   "metadata": {},
   "outputs": [
    {
     "data": {
      "text/plain": [
       "array([[ 0.00000000e+00, -2.00000000e+00],\n",
       "       [ 1.00000000e-03, -1.99999200e+00],\n",
       "       [ 2.00000000e-03, -1.99997600e+00],\n",
       "       ...,\n",
       "       [ 5.99800000e+00, -1.68448389e+00],\n",
       "       [ 5.99900000e+00, -1.68663692e+00],\n",
       "       [ 6.00000000e+00, -1.68878321e+00]])"
      ]
     },
     "execution_count": 2,
     "metadata": {},
     "output_type": "execute_result"
    }
   ],
   "source": [
    "import physics_sims\n",
    "\n",
    "class HarmonicOscillator(physics_sims.Sim):\n",
    "    def __init__(self):\n",
    "        self.t = 0\n",
    "        self.x = -2\n",
    "        self.v = 0\n",
    "        self.m = 0.25\n",
    "        self.k = 1\n",
    "    \n",
    "    def update(self, _, dt):\n",
    "        a = -(self.k / self.m) * self.x\n",
    "        self.v = self.v + a * dt\n",
    "        self.x = self.x + self.v * dt\n",
    "        self.t = self.t + dt\n",
    "    \n",
    "    def state(self):\n",
    "        return [self.t, self.x]\n",
    "\n",
    "trajectory = physics_sims.SimRunner().run_headless(\n",
    "    HarmonicOscillator(),\n",
    "    run_time=6)\n",
    "\n",
    "trajectory"
   ]
  },
  {
   "cell_type": "code",
   "execution_count": 3,
   "id": "2d7356f1",
   "metadata": {},
   "outputs": [
    {
     "data": {
      "image/png": "[encoded data removed]",
      "text/plain": [
       "<Figure size 640x480 with 1 Axes>"
      ]
     },
     "metadata": {},
     "output_type": "display_data"
    }
   ],
   "source": [
    "plt.plot(trajectory[:, 1], trajectory[:, 0], label='x(t)')\n",
    "plt.xlabel('x')\n",
    "plt.ylabel('t')\n",
    "plt.axis('equal')\n",
    "plt.legend()\n",
    "plt.show()"
   ]
  },
  {
   "cell_type": "markdown",
   "id": "68d0fc44",
   "metadata": {},
   "source": [
    "Above is a plot of the trajectory of the harmonic oscillator with the initial condition $x=-2$, $\\dot{x}=0$. As you can see, it oscillates back and forth between $x=-2$ and $x=2$, just like we said it should ealier when we studied the relationship between potential and force."
   ]
  },
  {
   "cell_type": "markdown",
   "id": "2e59e738",
   "metadata": {},
   "source": [
    "What happens to the energy of this simulation over time? Let's tweak the simulation a little bit to find out. We know the equations for kinetic and potential energy. To find the total energy of this system, we just add kinetic and potential energy together."
   ]
  },
  {
   "cell_type": "code",
   "execution_count": 4,
   "id": "63c77cc5",
   "metadata": {},
   "outputs": [
    {
     "data": {
      "image/png": "[encoded data removed]",
      "text/plain": [
       "<Figure size 640x480 with 1 Axes>"
      ]
     },
     "metadata": {},
     "output_type": "display_data"
    }
   ],
   "source": [
    "class HarmonicOscillatorEnergy(HarmonicOscillator):\n",
    "    def state(self):\n",
    "        kinetic = 0.5 * self.m * self.v**2\n",
    "        potential = 0.5 * self.k * self.x**2\n",
    "        total = kinetic + potential\n",
    "        return [self.t, kinetic, potential, total]\n",
    "\n",
    "trajectory = physics_sims.SimRunner().run_headless(\n",
    "    HarmonicOscillatorEnergy(),\n",
    "    run_time=6)\n",
    "\n",
    "plt.plot(trajectory[:, 1], trajectory[:, 0], label='kinetic')\n",
    "plt.plot(trajectory[:, 2], trajectory[:, 0], label='potential')\n",
    "plt.plot(trajectory[:, 3], trajectory[:, 0], label='total')\n",
    "plt.xlabel('energy')\n",
    "plt.ylabel('t')\n",
    "plt.axis('equal')\n",
    "plt.legend()\n",
    "plt.show()"
   ]
  },
  {
   "cell_type": "markdown",
   "id": "c946db58",
   "metadata": {},
   "source": [
    "If you refer back at the plot of $x(t)$, you'll see that the potential energy is at its maximum any time either $x=-2$ or $x=2$, and kinetic energy is at its maximum any time $x=0$. The kinetic and potential smoothly interchange back and forth. All the while, the total energy stays the same."
   ]
  },
  {
   "cell_type": "markdown",
   "id": "adf761bd",
   "metadata": {},
   "source": [
    "# Hamiltonian mechanics\n",
    "\n",
    "Now we'll look at a different way of doing mechanics called Hamiltonian mechanics. It solves essentially the same problem as Lagrangian mechanics, but it has a different set of advantages.\n",
    "\n",
    "Just like Lagrangian mechanics, Hamiltonian mechanics is also based on the quantity $L$, the Lagrangian of a system. It's also mathematically equivalent--it makes the same exact predictions in all cases. But the generalized equations of motion are of a different form. \n",
    "\n",
    "We'll continue to use the generalized position coordinates $q_i$. But we'll add a slightly new kind of state variable called $p_i$, which keeps track of the momenta associated with the position $q_i$."
   ]
  },
  {
   "cell_type": "markdown",
   "id": "660f29a4",
   "metadata": {},
   "source": [
    "### Momentum\n",
    "\n",
    "Momentum is defined as:\n",
    "\n",
    "$$ p_i = \\frac{\\partial L}{\\partial \\dot{q_i}} $$"
   ]
  },
  {
   "cell_type": "markdown",
   "id": "1d83fff9",
   "metadata": {},
   "source": [
    "Remember that we've seen $\\frac{\\partial L}{ \\partial \\dot{q_i}} $ before, in the Euler-Lagrange equation. We're now just puting a name on it: \"momentum\".\n",
    "\n",
    "This is a more general definition of momentum than the $p = mv$ definition that probably more people are familliar with. But we can show that that is indeed the equation that comes out if we look at an example Lagrangian of a classical non-relativistic system of particles. For instance:"
   ]
  },
  {
   "cell_type": "markdown",
   "id": "4fc3d5a6",
   "metadata": {},
   "source": [
    "$$ L = \\sum_j{\\frac{1}{2}m_j \\dot{x_j}^2} - V(\\textbf{x}, t) $$"
   ]
  },
  {
   "cell_type": "markdown",
   "id": "74d43ec7",
   "metadata": {},
   "source": [
    "In this example, $j$ ranges over multiple dimensions and multiple particles. There is a momentum term in each dimension for each particle."
   ]
  },
  {
   "cell_type": "markdown",
   "id": "c7fb1364",
   "metadata": {},
   "source": [
    "$$ p_i = \\frac{\\partial L}{\\partial \\dot{x_i}} $$"
   ]
  },
  {
   "cell_type": "markdown",
   "id": "0e31fa92",
   "metadata": {},
   "source": [
    "$$ p_i = \\frac{\\partial}{\\partial \\dot{x_i}} (\\sum_j{\\frac{1}{2}m_j \\dot{x_j}^2} - V(\\textbf{x}, t)) $$"
   ]
  },
  {
   "cell_type": "markdown",
   "id": "62a8168f",
   "metadata": {},
   "source": [
    "$$ p_i = \\frac{\\partial}{\\partial \\dot{x_i}}(\\frac{1}{2}m_i \\dot{x_i}^2)"
   ]
  },
  {
   "cell_type": "markdown",
   "id": "0714c18e",
   "metadata": {},
   "source": [
    "$$ p_i = m_i \\dot{x_i} $$"
   ]
  },
  {
   "cell_type": "markdown",
   "id": "4b8a69ed",
   "metadata": {},
   "source": [
    "There, that's the familiar equation. But in other systems, this could be different. For instance, in special relativity, the momentum is a more complicated term."
   ]
  },
  {
   "cell_type": "markdown",
   "id": "e1f91230",
   "metadata": {},
   "source": [
    "### Hamiltonian\n",
    "\n",
    "Hamiltonian mechanics defines another quantity called the Hamiltonian, or $H$, which is:"
   ]
  },
  {
   "cell_type": "markdown",
   "id": "913ae9da",
   "metadata": {},
   "source": [
    "$$ H = \\sum_i{\\dot{q_i}p_i} - L $$"
   ]
  },
  {
   "cell_type": "markdown",
   "id": "c1342587",
   "metadata": {},
   "source": [
    "For the classical case, we have:"
   ]
  },
  {
   "cell_type": "markdown",
   "id": "f5c2f909",
   "metadata": {},
   "source": [
    "$$ \\dot{x_i}p_i = m_i \\dot{x_i}^2$$"
   ]
  },
  {
   "cell_type": "markdown",
   "id": "d104aa77",
   "metadata": {},
   "source": [
    "$$ H = \\sum_i{m_i \\dot{x_i}^2} - \\sum_i{\\frac{1}{2}m_i \\dot{x_i}^2} + V(\\textbf{x}, t)$$"
   ]
  },
  {
   "cell_type": "markdown",
   "id": "c199a75a",
   "metadata": {},
   "source": [
    "$$ H = \\frac{1}{2}\\sum_i{m_i \\dot{x_i}^2} + V(\\textbf{x}, t)$$"
   ]
  },
  {
   "cell_type": "markdown",
   "id": "b269d73f",
   "metadata": {},
   "source": [
    "And what do you know, in the classical case, $H = T + V$, the sum of the kinetic and potential energies. $H$ can be thought of as the total energy of the system in a particular state. Again, it will have a different form in other types of systems, like in special relativity."
   ]
  },
  {
   "cell_type": "markdown",
   "id": "608b0aff",
   "metadata": {},
   "source": [
    "### Hamilton's equations of motion\n",
    "\n",
    "Now we have enough stuff defined to be able to look at the Hamiltonian equations of motion, which are really quite simple and beautiful."
   ]
  },
  {
   "cell_type": "markdown",
   "id": "9090e5ce",
   "metadata": {},
   "source": [
    "$$ \\dot{q_i} = \\frac{\\partial H}{\\partial p_i} $$\n",
    "$$ \\dot{p_i} = -\\frac{\\partial H}{\\partial q_i} $$"
   ]
  },
  {
   "cell_type": "markdown",
   "id": "0299e02d",
   "metadata": {},
   "source": [
    "### Harmonic oscillator Hamiltonian mechanics\n",
    "\n",
    "Let's bring back the old harmonic oscillator and see what the Hamiltonian equations of motion for the system are."
   ]
  },
  {
   "cell_type": "markdown",
   "id": "24f39802",
   "metadata": {},
   "source": [
    "$$ L = \\frac{1}{2}m \\dot{x}^2 - \\frac{1}{2}k x^2 $$"
   ]
  },
  {
   "cell_type": "markdown",
   "id": "9987fd67",
   "metadata": {},
   "source": [
    "First we have to find $p$."
   ]
  },
  {
   "cell_type": "markdown",
   "id": "e74ad08d",
   "metadata": {},
   "source": [
    "$$ p = \\frac{\\partial L}{\\partial \\dot{x}} $$\n",
    "$$ p = \\frac{\\partial}{\\partial \\dot{x}}(\\frac{1}{2}m\\dot{x}^2) $$\n",
    "$$ p = m \\dot{x} $$"
   ]
  },
  {
   "cell_type": "markdown",
   "id": "6788da44",
   "metadata": {},
   "source": [
    "No surprise there. Now for $H$."
   ]
  },
  {
   "cell_type": "markdown",
   "id": "14fac1d5",
   "metadata": {},
   "source": [
    "$$ H = \\dot{x}p - L $$"
   ]
  },
  {
   "cell_type": "markdown",
   "id": "bf5a1016",
   "metadata": {},
   "source": [
    "$$ H = m\\dot{x}^2 - \\frac{1}{2}m\\dot{x}^2 + \\frac{1}{2}kx^2 $$"
   ]
  },
  {
   "cell_type": "markdown",
   "id": "82992c3e",
   "metadata": {},
   "source": [
    "$$ H = \\frac{1}{2}m\\dot{x}^2 + \\frac{1}{2}kx^2 $$"
   ]
  },
  {
   "cell_type": "markdown",
   "id": "a734a4a8",
   "metadata": {},
   "source": [
    "And like I said earlier, this is just the total energy, kinetic plus potential. Now in order to get the Hamiltonian equations of motion, we need to replace the $\\dot{x}$ with $p$."
   ]
  },
  {
   "cell_type": "markdown",
   "id": "32493a4a",
   "metadata": {},
   "source": [
    "$$ \\dot{x} = \\frac{p}{m} $$"
   ]
  },
  {
   "cell_type": "markdown",
   "id": "8574afe1",
   "metadata": {},
   "source": [
    "$$ H = \\frac{1}{2}m \\frac{p^2}{m^2} + \\frac{1}{2}k x^2 $$"
   ]
  },
  {
   "cell_type": "markdown",
   "id": "c72afe51",
   "metadata": {},
   "source": [
    "$$ H = \\frac{1}{2m}p^2 + \\frac{1}{2}k x^2 $$"
   ]
  },
  {
   "cell_type": "markdown",
   "id": "d42ea254",
   "metadata": {},
   "source": [
    "Now we're ready to find the equations of motion."
   ]
  },
  {
   "cell_type": "markdown",
   "id": "f2460cf7",
   "metadata": {},
   "source": [
    "$$ \\dot{x} = \\frac{\\partial H}{\\partial p} $$\n",
    "$$ \\dot{x} = \\frac{\\partial}{\\partial p}(\\frac{1}{2m}p^2) $$\n",
    "$$ \\dot{x} = \\frac{1}{m}p $$"
   ]
  },
  {
   "cell_type": "markdown",
   "id": "40fb12b5",
   "metadata": {},
   "source": [
    "$$ \\dot{p} = -\\frac{\\partial H}{\\partial x} $$\n",
    "$$ \\dot{p} = -\\frac{\\partial}{\\partial x} (\\frac{1}{2}k x^2) $$\n",
    "$$ \\dot{p} = -kx $$"
   ]
  },
  {
   "cell_type": "markdown",
   "id": "4cfcd4ba",
   "metadata": {},
   "source": [
    "There we go, now we have a system of two first order differential equations that describe the harmonic oscillator's motion. Remember that the E-L equation that we got from using Lagrangian mechanics was a single second order differential equation. That is one of the the key differences between Lagrangian and Hamiltonian mechanics.\n",
    "\n",
    "Let's simulate this system."
   ]
  },
  {
   "cell_type": "code",
   "execution_count": 5,
   "id": "5b46e7e3",
   "metadata": {},
   "outputs": [],
   "source": [
    "import physics_sims\n",
    "\n",
    "class HarmonicOscillatorHamiltonian(physics_sims.Sim):\n",
    "    def __init__(self):\n",
    "        self.t = 0\n",
    "        self.x = -2\n",
    "        self.xd = 0\n",
    "\n",
    "        self.m = 0.25\n",
    "        self.k = 1\n",
    "\n",
    "        self.p = self.m * self.xd\n",
    "    \n",
    "    def update(self, _, dt):\n",
    "        self.xd = self.p / self.m\n",
    "        self.pd = -self.k * self.x\n",
    "\n",
    "        self.x = self.x + self.xd * dt\n",
    "        self.p = self.p + self.pd * dt\n",
    "\n",
    "        self.t = self.t + dt\n",
    "    \n",
    "    def state(self):\n",
    "        return [self.t, self.x]\n",
    "\n",
    "trajectory_ham = physics_sims.SimRunner().run_headless(\n",
    "    HarmonicOscillatorHamiltonian(),\n",
    "    run_time=6)\n",
    "\n",
    "trajectory_lag = physics_sims.SimRunner().run_headless(\n",
    "    HarmonicOscillator(),\n",
    "    run_time=6)"
   ]
  },
  {
   "cell_type": "code",
   "execution_count": 6,
   "id": "9282fca7",
   "metadata": {},
   "outputs": [
    {
     "data": {
      "image/png": "[encoded data removed]",
      "text/plain": [
       "<Figure size 640x480 with 1 Axes>"
      ]
     },
     "metadata": {},
     "output_type": "display_data"
    }
   ],
   "source": [
    "plt.plot(trajectory_lag[:, 1], trajectory_lag[:, 0], label='x(t) Lagrangian', marker='.')\n",
    "plt.plot(trajectory_ham[:, 1], trajectory_ham[:, 0], label='x(t) Hamiltonian')\n",
    "plt.xlabel('x')\n",
    "plt.ylabel('t')\n",
    "plt.axis('equal')\n",
    "plt.legend()\n",
    "plt.show()"
   ]
  },
  {
   "cell_type": "markdown",
   "id": "087c195f",
   "metadata": {},
   "source": [
    "As we can see, the Hamiltonian equations give basically the same trajectory as the E-L equations."
   ]
  }
 ],
 "metadata": {
  "kernelspec": {
   "display_name": "Python 3 (ipykernel)",
   "language": "python",
   "name": "python3"
  },
  "language_info": {
   "codemirror_mode": {
    "name": "ipython",
    "version": 3
   },
   "file_extension": ".py",
   "mimetype": "text/x-python",
   "name": "python",
   "nbconvert_exporter": "python",
   "pygments_lexer": "ipython3",
   "version": "3.11.3"
  }
 },
 "nbformat": 4,
 "nbformat_minor": 5
}
