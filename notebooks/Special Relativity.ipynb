{
 "cells": [
  {
   "cell_type": "markdown",
   "metadata": {},
   "source": [
    "# Special Relativity\n",
    "\n",
    "Einstein's special relativity theory is built on top of the principle of Galilean relativity. I wrote some notes about [Galilean relativity here](Galilean%20Relativity.ipynb) which I recommend reading before this, because we'll reuse many of the same concepts here.\n",
    "\n",
    "Einstein of course knew about Galilean relativity. He also knew about Maxwell's equations of electromagnetism, which were much newer than Galilean relativity. I won't go into the details, but one of the striking consequences of Maxwell's equations is that they seemed to be saying that a ray of light always travels at the same speed in all inertial frames of reference.\n",
    "\n",
    "This result directly contradicts Galilean relativity, which has the consequence that all objects will have a different velocity in different frames of reference.\n",
    "\n",
    "Einstein saw this contradiction and thought that the premises of Galilean relativity needed to be modified. Remember from the notes on Galilean relativity that there were two premises: the laws of physics are the same in all inertial frames and the time coordinate is universal. Einstein decided to throw out the universal time premise and replace it with the constant speed of light premise. So the two main premises of his new relativity theory were:\n",
    "\n",
    "* The laws of physics are the same for all inertial observers.\n",
    "\n",
    "* The speed of a ray of light is always the same for all inertial observers.\n",
    "\n",
    "Einstein thought about what the consequences of these two postulates were, and he found that they end up giving different equations for reference frame transformation than those given by Galilean relativity. He also found that he could make testable predictions that differed from pre-existing theories of physics, and those predictions turned out to be correct.\n",
    "\n",
    "Our goal in these notes is to derive the special relativity transformation and see some of the astounding predictions that special relativity can show us."
   ]
  },
  {
   "cell_type": "markdown",
   "metadata": {},
   "source": [
    "### Thought experiment: Motion perpendicular to a laser clock\n",
    "\n",
    "In order to derive the special relativity transformation, we'll need to construct a thought experiment that demonstrates some of the properties of the transformation.\n",
    "\n",
    "We need to make sure the experiment involves both of the postulates. That means that we'll need to do something that involves a light ray, so that we can make use of the constant speed of light postulate. We'll also need to look at the scenario from two or more frames of reference and compare what happens in them, in order to make use of the postulate that the laws of motion are the same in all frames.\n",
    "\n",
    "Since we threw out the universal time posutulate from Galilean relativity, the amount of time between two events could potentially be different if we measure it in two different frames. So it would make sense to construct a scenario that uses a clock to measure the time between the events. We'll can create a kind of clock using a laser beam and a mirror.\n",
    "\n",
    "I'll stand still holding a laser some known distance $r$ away from a stationary mirror. At time $t=0$, I'll pulse the laser by quickly turning it on and off again. After some period of time the laser pulse will hit the mirror and get reflected. After another period of time, the laser pulse will arrive back at my position. Since we know the distance that the pulse travels and its speed, we can calculate the round trip time. In this sense we've created a clock.\n",
    "\n",
    "We could (but won't) set up a detector at the tip of the laser so that it sends out a new pulse each time the previous pulse comes back. That would create an actual clock signal with a fixed known frequency. But in this experiment, we'll only need to look at the time period of one pulse.\n",
    "\n",
    "You will start at my position at time $t=0$, but you'll be travelling at a constant speed $v$ in a direction perpendicular to the laser pulses's motion.\n",
    "\n",
    "Below is a picture of the experiment in my frame. In the coordinate system I've chosen, you move along the x-axis and the laser pulse moves along the y-axis."
   ]
  },
  {
   "cell_type": "markdown",
   "metadata": {},
   "source": [
    "<!-- Google Drawings link: https://docs.google.com/drawings/d/1LUg1gYk1u_zBU-nD_ya5nn7_Dv8uB0201KyqQIvx9qU/edit?usp=sharing -->\n",
    "<img src=\"images/laser-clock-stationary-frame.png\" />"
   ]
  },
  {
   "cell_type": "markdown",
   "metadata": {},
   "source": [
    "The laser and I are fixed at the position $x=0, y=0$. The mirror is stationary at $x=0, y=r$.\n",
    "\n",
    "In my frame, the round trip distance of the laser pulse is $2r$, and it travels at a speed of $c$, so we can use the formula $\\text{time} = \\frac{\\text{distance}}{\\text{speed}}$ to see that the pulse arrives back at my position after a time of $t_B = 2r/c$."
   ]
  },
  {
   "cell_type": "markdown",
   "metadata": {},
   "source": [
    "Now let's look at the situation in your frame of reference. Since you are moving by $\\dot{x} = v$ in my frame, and the mirror and I are stationary in my frame, the mirror and I are moving in your frame by $\\dot{x}'= -v$. Because of that, the laser pulse will also move in the x-dimension by $\\dot{x}'=-v$.\n",
    "\n",
    "Below is a drawing of the positions of the mirror and the laser at three different times with the path of the laser pulse drawn between them. At $t'=0$ I send out the laser pulse. At $t'=t'_A$, the laser pulse reaches the mirror. At $t'=t'_B$, the laser pulse arrives back at the laser."
   ]
  },
  {
   "cell_type": "markdown",
   "metadata": {},
   "source": [
    "<!-- Google Drawings link: https://docs.google.com/drawings/d/1UgqB2FzPf6zWITimqU1SsZmwI5A-1E7ob2yNC0jB5QA/edit?usp=sharing -->\n",
    "<img src=\"images/laser-clock-moving-frame.png\" />"
   ]
  },
  {
   "cell_type": "markdown",
   "metadata": {},
   "source": [
    "You are not travelling in the y-dimension with respect to me, so the distance between the mirror and the laser at any particular time remains $r$ in your frame, since that displacement is along the y-dimension.\n",
    "\n",
    "Remember that the constant speed of light postulate says that the laser pulse's speed is $c$ in both your frame and my frame. But in your frame, the laser pulse's velocity has both an $x'$- and a $y'$-component. In order to find the time $t'_B$, we need to know the total two-dimensional distance that the laser pulse travels.\n",
    "\n",
    "In the $x'$ dimension, the pulse travels at velocity $\\dot{x}'=-v$ over a time of $t'_B$. So that is a distance of $vt'_B$.\n",
    "\n",
    "In the $y'$ dimension, we know that the pulse travels from $y'=0$ to $y'=r$ and then back to $y'=0$. That is a distance of $2r$.\n",
    "\n",
    "To calculate the total two dimensional distance that the pulse travels, we just use the Pythagorean theorem."
   ]
  },
  {
   "cell_type": "markdown",
   "metadata": {},
   "source": [
    "$$ d = \\sqrt{(vt'_B)^2 + (2r)^2} $$"
   ]
  },
  {
   "cell_type": "markdown",
   "metadata": {},
   "source": [
    "The laser travels the total path distance $d$ by speed $c$ for time $t'_B$."
   ]
  },
  {
   "cell_type": "markdown",
   "metadata": {},
   "source": [
    "$$ d = c t'_B $$"
   ]
  },
  {
   "cell_type": "markdown",
   "metadata": {},
   "source": [
    "Now we can just set these two equations equal to each other and solve for $t'_B$."
   ]
  },
  {
   "cell_type": "markdown",
   "metadata": {},
   "source": [
    "$$ c t'_B = \\sqrt{(v t'_B)^2 + (2r)^2} $$\n",
    "$$ (c t'_B)^2 = (v t'_B)^2 + (2r)^2 $$\n",
    "$$ c^2 {t'_B}^2 = v^2 {t'_B}^2 + 4 r^2 $$\n",
    "$$ (c^2 - v^2) {t'_B}^2 = 4 r^2 $$\n",
    "$$ {t'_B}^2 = \\frac{4 r^2}{c^2 - v^2} $$\n",
    "$$ t'_B = \\frac{2 r}{\\sqrt{c^2 - v^2}} $$\n",
    "$$ t'_B = \\frac{2 r/c}{\\sqrt{c^2 - v^2}/c} $$\n",
    "$$ t'_B = \\frac{2 r/c}{\\sqrt{1 - (v/c)^2}} $$"
   ]
  },
  {
   "cell_type": "markdown",
   "metadata": {},
   "source": [
    "Remember that earlier we found $t_B = 2r/c$, so we can substitute that in here to find the relationship between $t_B$ and $t'_B$."
   ]
  },
  {
   "cell_type": "markdown",
   "metadata": {},
   "source": [
    "$$ t'_B = \\frac{t_B}{\\sqrt{1 - (v/c)^2}} $$\n",
    "$$ \\frac{t'_B}{t_B} = \\frac{1}{\\sqrt{1 - (v/c)^2}} $$"
   ]
  },
  {
   "cell_type": "markdown",
   "metadata": {},
   "source": [
    "Let's take a minute here to think about this equation. If $v=0$, you are not moving with respect to me, and $\\frac{t'_B}{t_B}=1$, so the laser clock ticks at the same rate in both our frames, since we are both in the same frame. But if $0 < |v| < c$, then $\\frac{t'_B}{t_B} > 1$, which means that $t'_B > t_B$. If you are moving with respect to me, the time between the ticks for a clock moving along with me will be longer in your frame than in my frame.\n",
    "\n",
    "In other words, if a clock is moving in a frame, it will tick more slowly than it would if it were stationary in that frame. This effect is called time dilation, and it is one of the crazy results that we get from the special relativity postulates.\n",
    "\n",
    "This is completely different than Galilean relativity, which postulated that the time coordinate is universal. We threw out that assumption and now we see that the time coordinate is indeed not universal given the special relativity postulates."
   ]
  },
  {
   "cell_type": "markdown",
   "metadata": {},
   "source": [
    "### Time dilation\n",
    "\n",
    "I'll write the time dilation relationship in a more general form. We have two events with coordinate 4-vectors $A$ and $B$ at the same position but different times in frame $S$. $A^i = B^i$ where $i$ ranges over the spatial dimensions, and $A^t \\neq B^t $. In another frame $S'$ moving at a velocity of magnitude $v$ in any direction with respect to $S$, the same events are described by 4-vectors $A'$ and $B'$. Time dilation says that:"
   ]
  },
  {
   "cell_type": "markdown",
   "metadata": {},
   "source": [
    "$$ \\frac{A'^t - B'^t}{A^t - B^t} = \\frac{1}{\\sqrt{1 - (v/c)^2}} $$"
   ]
  },
  {
   "cell_type": "markdown",
   "metadata": {},
   "source": [
    "### Thought experiment: Motion parallel to laser clock\n",
    "\n",
    "Let's continue looking at the laser clock thought experiment. Almost everything is the same except that now your motion is parallel with the orientation of the laser beam."
   ]
  },
  {
   "cell_type": "markdown",
   "metadata": {},
   "source": [
    "<!-- Google Drawings link: https://docs.google.com/drawings/d/1AokRVr9UqO8HpRYH9GtqldcYaDnARwv00OEPGpZEJ6U/edit?usp=sharing -->\n",
    "<img src=\"images/laser-clock-parallel-stationary-frame.png\" />"
   ]
  },
  {
   "cell_type": "markdown",
   "metadata": {},
   "source": [
    "Now we only need to pay attention to one spatial dimension. Let's make a spacetime diagram of the system in my frame."
   ]
  },
  {
   "cell_type": "markdown",
   "metadata": {},
   "source": [
    "<!-- Google Drawings link: https://docs.google.com/drawings/d/1ZRShvw3M1cuebxtk6fWEm72AbjIFr0wi32pcLbC7QRA/edit?usp=sharing -->\n",
    "<img src=\"images/laser-clock-parallel-graph-my-frame.png\" />"
   ]
  },
  {
   "cell_type": "markdown",
   "metadata": {},
   "source": [
    "We already found the coordinates of B before:"
   ]
  },
  {
   "cell_type": "markdown",
   "metadata": {},
   "source": [
    "$$ B = (t: \\frac{2r}{c}, x: 0) $$"
   ]
  },
  {
   "cell_type": "markdown",
   "metadata": {},
   "source": [
    "The coordinates of $A$ are simple to find. Since $A$ is halfway through the laser pulse's journey to event $B$, it must be at time $t_A=\\frac{1}{2}t_B$. We also know its position to be the position of the mirror, $x_A=r$."
   ]
  },
  {
   "cell_type": "markdown",
   "metadata": {},
   "source": [
    "$$ A = (t: \\frac{r}{c}, x:r) $$"
   ]
  },
  {
   "cell_type": "markdown",
   "metadata": {},
   "source": [
    "Now let's draw a diagram of your frame."
   ]
  },
  {
   "cell_type": "markdown",
   "metadata": {},
   "source": [
    "<!-- Google Drawings link: https://docs.google.com/drawings/d/1trVS77rK-ZFbcTA-Of33clTDS73Nl_mpkW3iovDOkcA/edit?usp=sharing -->\n",
    "<img src=\"images/laser-clock-parallel-graph-your-frame.png\" />"
   ]
  },
  {
   "cell_type": "markdown",
   "metadata": {},
   "source": [
    "Since you are moving with velocity $\\dot{x}=v$ in my frame, then I am moving with the equal and opposite velocity $\\dot{x}'=-v$ in your frame. The mirror is also moving with velocity $\\dot{x}'=-v$ in your frame since it is stationary with respect to my position.\n",
    "\n",
    "I intersect with the origin, so my motion is described by $x'=-vt'$.\n",
    "\n",
    "As for the mirror's motion, you might be inclined to assume that the mirror's position is $x'=r$ at time $t=0$ and so its motion follows $x'=-vt'+r$. However, if we did make that assumption, it would actually produce a contradiction down the line. So we won't make that assumption. We'll use a stand-in position for the mirror $x'=r'$ at time $t=0$, so it follows the equation $x'=-vt'+r'$.\n",
    "\n",
    "The first leg of the laser pulse's path intersects with the origin and has the velocity $\\dot{x}'=c$, so it follows $x'=ct'$.\n",
    "\n",
    "Let's find $A'$ and $B'$. $B'$ is easier. We can use the time dilation relationship. We already found the time dilation relationship between $t_B$ and $t'_B$. It is worth noting that we've changed the direction of your velocity, but remember that the time dilation relationship that we wrote down earlier doesn't depend on the direction of the velocity, just the magnitude $v$."
   ]
  },
  {
   "cell_type": "markdown",
   "metadata": {},
   "source": [
    "$$ t'_B = \\frac{t_B}{\\sqrt{1 - (v/c)^2}} $$\n",
    "$$ t'_B = \\frac{2r/c}{\\sqrt{1 - (v/c)^2}} $$"
   ]
  },
  {
   "cell_type": "markdown",
   "metadata": {},
   "source": [
    "My path intersects with event $B$, so to find $x'_B$, we can just plug $t'_B$ into my equation of motion."
   ]
  },
  {
   "cell_type": "markdown",
   "metadata": {},
   "source": [
    "$$ x'_B = -v t'_B $$\n",
    "$$ x'_B = \\frac{-2 v r / c}{\\sqrt{1 - (v/c)^2}} $$"
   ]
  },
  {
   "cell_type": "markdown",
   "metadata": {},
   "source": [
    "Now let's find $A'$. It's located at the intersection of the mirror and the outward path of the laser pulse."
   ]
  },
  {
   "cell_type": "markdown",
   "metadata": {},
   "source": [
    "$$ x' = -vt' + r' = ct' $$\n",
    "$$ (c + v) t' = r' $$\n",
    "$$ t' = \\frac{r'}{c + v} $$\n",
    "$$ t'_A = \\frac{r'}{c + v} $$\n",
    "$$ x'_A = c t'_A = \\frac{cr'}{c + v} $$"
   ]
  },
  {
   "cell_type": "markdown",
   "metadata": {},
   "source": [
    "We have expressions for the coordinates of $A'$, but they depend on $r'$. Now we need to find some definite expression for $r'$. How do we do that?\n",
    "\n",
    "\n",
    "Well there is another thing that we haven't derived an equation for--the path the laser pulse takes between event A and B in your frame. If we find that, we should be able to plug the coordinates of $A'$ into it to find an expression for $r'$.\n",
    "\n",
    "The velocity of the pulse along this segment is $\\dot{x}'=-c$. So its equation of motion will be like the line $x'=-ct'$, except that it will be translated in the x-dimension by the components of either $A'$ or $B'$, since it intersects with those points. Let's use $B'$ since we have a definite expression for its components that doesn't involve $r'$."
   ]
  },
  {
   "cell_type": "markdown",
   "metadata": {},
   "source": [
    "$$ x' - x'_B = -c (t' - t'_B) $$\n",
    "$$ x' + v t'_B = -c t' + c t'_B $$\n",
    "$$ x' = -c t' + (c - v) t'_B $$\n",
    "$$ x' = -c t' + (c - v) \\frac{2r/c}{\\sqrt{1 - (v/c)^2}} $$"
   ]
  },
  {
   "cell_type": "markdown",
   "metadata": {},
   "source": [
    "Now let's plug in $x'_A$ and $t'_A$."
   ]
  },
  {
   "cell_type": "markdown",
   "metadata": {},
   "source": [
    "$$ x'_A = -c t'_A + (c - v) t'_B $$\n",
    "$$ c t'_A = -c t'_A + (c - v) t'_B $$\n",
    "$$ 2 c t'_A = (c - v) t'_B $$\n",
    "$$ 2 c \\frac{r'}{c + v} = (c - v) \\frac{2r/c}{\\sqrt{1 - (v/c)^2}} $$\n",
    "$$ \\frac{r'}{r} = \\frac{(c - v)(c + v)}{c^2\\sqrt{1 - (v/c)^2}} $$\n",
    "$$ \\frac{r'}{r} = \\frac{c^2 - v^2}{c^2\\sqrt{1 - (v/c)^2}} $$\n",
    "$$ \\frac{r'}{r} = \\frac{1 - (v/c)^2}{\\sqrt{1 - (v/c)^2}} $$\n",
    "$$ \\frac{r'}{r} = \\sqrt{1 - (v/c)^2} $$"
   ]
  },
  {
   "cell_type": "markdown",
   "metadata": {},
   "source": [
    "We need to think about what this equation means. Remember that in your frame at time $t'=0$, I am at position $x'=0$ and the mirror is at $x'=r'$. As time goes on, both the mirror and I move at the same velocity, maintaining a separation of length $r'$. If you weren't moving with respect to me, $v=0$, then $r' = r$. But if $0 < v < c$, then $r' < r$.\n",
    "\n",
    "Imagine for a second that in my frame I placed a rod of length $r$ between the laser and the mirror. In your frame, that same rod has the length $r'$, shorter than it is in my frame. As your velocity with respect to me, $v$, approaches $c$, the rod's length in your frame approaches 0.\n",
    "\n",
    "This effect is called length contraction, and it's another crazy result of the special relativity postulates."
   ]
  },
  {
   "cell_type": "markdown",
   "metadata": {},
   "source": [
    "### Length contraction\n",
    "\n",
    "I'll write the length contraction relationship in a more general form. We have two objects at rest in frame $S$ with a distance of $r$ between them. In a different frame $S'$ that is moving with speed $v$ with respect to $S'$ along the axis of separation between the two objects, the separation between them is $r'$, where:\n",
    "\n",
    "$$ \\frac{r'}{r} = \\sqrt{1 - (v/c)^2} $$"
   ]
  },
  {
   "cell_type": "markdown",
   "metadata": {},
   "source": [
    "### Deriving the transformation equations\n",
    "\n",
    "Let's now derive the transformation equations.\n",
    "\n",
    "To restate the problem more explicitly: we want to find a set of equations which calculates the coordinates $t'$ and $x'$ of an event in frame $S'$, given the coordinates $t$ and $x$ of that same event in frame $S$ and also given the velocity $v$ of frame $S'$ with respect to frame $S$."
   ]
  },
  {
   "cell_type": "markdown",
   "metadata": {},
   "source": [
    "$$ t' = f(v, t, x) $$\n",
    "$$ x' = g(v, t, x) $$"
   ]
  },
  {
   "cell_type": "markdown",
   "metadata": {},
   "source": [
    "These equations will not only be able to transform the coordinates of single events, they will also transform entire functions. For instance, if we want to transform the equation $x=h(t)$ that describes the position of some object parameterized by time, we can do that like so:"
   ]
  },
  {
   "cell_type": "markdown",
   "metadata": {},
   "source": [
    "$$ t' = f(v, t, h(t)) $$\n",
    "$$ x' = g(v, t, h(t)) $$"
   ]
  },
  {
   "cell_type": "markdown",
   "metadata": {},
   "source": [
    "A function like $x=h(t)$ is often called a worldline, by the way.\n",
    "\n",
    "I'm going to use an argument from here to find $f$ and $g$: [link](https://personal.math.ubc.ca/~cass/courses/m309-01a/cook/lorentz1.html)\n",
    "\n",
    "We have already seen a few examples of how worldlines transform. For instance, we saw in both of the thought experiments earlier that the outward motion of the laser pulse can be described by $x=ct$ in frame $S$ and $x'=ct'$ in frame $S'$. We can write these equations a slightly different way:"
   ]
  },
  {
   "cell_type": "markdown",
   "metadata": {},
   "source": [
    "$$ x - ct = 0 $$\n",
    "$$ x' - ct' = 0 $$"
   ]
  },
  {
   "cell_type": "markdown",
   "metadata": {},
   "source": [
    "Since these two quantities are both equal to 0 we can relate them to each other by some constant factor $L$."
   ]
  },
  {
   "cell_type": "markdown",
   "metadata": {},
   "source": [
    "$$ x' - ct' = L(x - ct) $$"
   ]
  },
  {
   "cell_type": "markdown",
   "metadata": {},
   "source": [
    "If the laser pulse was travelling in the opposite direction, the relationship could have a different constant $M$."
   ]
  },
  {
   "cell_type": "markdown",
   "metadata": {},
   "source": [
    "$$ x' + ct' = M(x + ct) $$"
   ]
  },
  {
   "cell_type": "markdown",
   "metadata": {},
   "source": [
    "We can add these to previous equations together to cancel out the $ct'$ terms and obtain an expression for $x' = g(v, t, x)$."
   ]
  },
  {
   "cell_type": "markdown",
   "metadata": {},
   "source": [
    "$$ 2x' = M (x + c t) + L (x - c t) $$\n",
    "$$ 2x' = M x + L x + M c t  - L c t $$\n",
    "$$ x' = \\frac{1}{2} (M + L) x + \\frac{1}{2} (M - L) c t$$"
   ]
  },
  {
   "cell_type": "markdown",
   "metadata": {},
   "source": [
    "We can also subtract one of the equations from the other to cancel out the $x'$ term and obtain an expression for $t'=f(v,t,x)$."
   ]
  },
  {
   "cell_type": "markdown",
   "metadata": {},
   "source": [
    "$$ 2 c t' = M(x + ct) - L(x - ct) $$\n",
    "$$ 2 c t' = Mx - Lx + Mct + Lct $$\n",
    "$$ t' = \\frac{1}{2c}(M - L)x + \\frac{1}{2}(M + L) t $$"
   ]
  },
  {
   "cell_type": "markdown",
   "metadata": {},
   "source": [
    "We can simplify these two equations by replacing $M$ and $L$. We don't know what $M$ and $L$ are anyway. We'll set $\\frac{1}{2}(M+L) = a$ and $\\frac{1}{2}(M - L) = b$."
   ]
  },
  {
   "cell_type": "markdown",
   "metadata": {},
   "source": [
    "$$ x' = a x + c b t $$\n",
    "$$ t' = \\frac{1}{c}bx + a t $$"
   ]
  },
  {
   "cell_type": "markdown",
   "metadata": {},
   "source": [
    "We're getting somewhere. Now it's just a question of finding $a$ and $b$. To do that, we can plug in the known coordinates of an event in both frames. Let's do it with event B from the previous experiment."
   ]
  },
  {
   "cell_type": "markdown",
   "metadata": {},
   "source": [
    "$$ t_B = 2r/c $$\n",
    "$$ t'_B = \\frac{2r/c}{\\sqrt{1 - (v/c)^2}} $$\n",
    "$$ x_B = 0 $$\n",
    "$$ x'_B = \\frac{-2 v r / c}{\\sqrt{1 - (v/c)^2}} $$"
   ]
  },
  {
   "cell_type": "markdown",
   "metadata": {},
   "source": [
    "Let's plug them in."
   ]
  },
  {
   "cell_type": "markdown",
   "metadata": {},
   "source": [
    "$$ x'_B = a x_B + c b t_B$$\n",
    "$$ \\frac{-2 v r / c}{\\sqrt{1 - (v/c)^2}} = c b 2r/c $$\n",
    "$$ b = \\frac{- v / c }{\\sqrt{1 - (v/c)^2}} $$\n",
    "\n",
    "$$ t'_B = \\frac{1}{c}bx_B + a t_B $$\n",
    "$$ \\frac{2r/c}{\\sqrt{1 - (v/c)^2}}  = a 2r/c $$\n",
    "$$ a = \\frac{1}{\\sqrt{1 - (v/c)^2}} $$"
   ]
  },
  {
   "cell_type": "markdown",
   "metadata": {},
   "source": [
    "Finally, we can plug these expressions for $a$ and $b$ into the transformation equations to get:"
   ]
  },
  {
   "cell_type": "markdown",
   "metadata": {},
   "source": [
    "$$ x' = \\frac{x - vt}{\\sqrt{1 - (v/c)^2}} $$\n",
    "$$ t' = \\frac{t - vx/c^2}{\\sqrt{1 - (v/c)^2}} $$"
   ]
  },
  {
   "cell_type": "markdown",
   "metadata": {},
   "source": [
    "This transformation is called the Lorentz transformation."
   ]
  },
  {
   "cell_type": "markdown",
   "metadata": {},
   "source": [
    "### 3D Lorentz transformation\n",
    "\n",
    "Like the Galilean transformation, the Lorentz transformation only affects spatial coordinates along the dimension that is parallel to the transformation velocity. Coordinates along the other two spatial dimensions will remain equal."
   ]
  },
  {
   "cell_type": "markdown",
   "metadata": {},
   "source": [
    "$$ t' = \\frac{t - vx/c^2}{\\sqrt{1 - (v/c)^2}} $$\n",
    "$$ x' = \\frac{x - vt}{\\sqrt{1 - (v/c)^2}} $$\n",
    "$$ y' = y $$\n",
    "$$ z' = z $$\n"
   ]
  },
  {
   "cell_type": "markdown",
   "metadata": {},
   "source": [
    "These equations can be combined into a multiplication between a matrix and a 4-vector, just as we saw with the Galilean transformation."
   ]
  },
  {
   "cell_type": "markdown",
   "metadata": {},
   "source": [
    "$$ \\textbf{X}' = B_x(v) \\textbf{X} $$\n",
    "\n",
    "$$ B_x(v) = \n",
    "\n",
    "\\begin{pmatrix}\n",
    "\\dfrac{1}{\\sqrt{1 - (v/c)^2}} & -\\dfrac{v/c^2}{\\sqrt{1 - (v/c)^2}} & 0 & 0 \\\\\n",
    "\\\\\n",
    "-\\dfrac{v}{\\sqrt{1 - (v/c)^2}} & \\dfrac{1}{\\sqrt{1 - (v/c)^2}} & 0 & 0 \\\\\n",
    "\\\\\n",
    "0 & 0 & 1 & 0 \\\\\n",
    "\\\\\n",
    "0 & 0 & 0 & 1 \\\\\n",
    "\\end{pmatrix}\n",
    "\n",
    "$$"
   ]
  },
  {
   "cell_type": "markdown",
   "metadata": {},
   "source": [
    "In indexed notation:"
   ]
  },
  {
   "cell_type": "markdown",
   "metadata": {},
   "source": [
    "$$ {X'}^\\mu = (B_x(v))^\\mu_\\nu X^\\nu $$"
   ]
  },
  {
   "cell_type": "markdown",
   "metadata": {},
   "source": [
    "### Transforming an entire region of spacetime\n",
    "\n",
    "Let's try transforming a large set of events between two frames of reference.\n",
    "\n",
    "First I'm going to create plot of events that are all laid out like a grid in the $xt$-plane of frame $S$. The plot will also contain a few lines, including the axes of the $S$ frame, which are $x=0$ and $t=0$. It will also contain the line $x=tv$, which is the line that frame $S'$ will move along. I'll also plot another line $t=vx$--for the moment I won't explain why I'm plotting this line, it will become clear when we transform the plot of frame $S$ into $S'$.\n",
    "\n",
    "In this example, I'll use $c=1$ and $v=0.8$, with units of light-seconds per second. Time is in units of seconds, and the units of distance are light-seconds--the distance light travels in a second. It's perfectly valid to use these kinds of units, where the distance unit is defined in terms of the time unit. Doing so makes the numbers simpler."
   ]
  },
  {
   "cell_type": "code",
   "execution_count": 1,
   "metadata": {},
   "outputs": [
    {
     "data": {
      "image/png": "[encoded data removed]",
      "text/plain": [
       "<Figure size 640x480 with 1 Axes>"
      ]
     },
     "metadata": {},
     "output_type": "display_data"
    }
   ],
   "source": [
    "import numpy as np\n",
    "import matplotlib.pyplot as plt\n",
    "\n",
    "c = 1\n",
    "v = 0.5\n",
    "\n",
    "r = np.arange(-2, 3, 1)\n",
    "\n",
    "events = np.stack(np.meshgrid(r, r)).T.reshape(-1, 2)\n",
    "\n",
    "def plot_events(events, annotate_coords=False):\n",
    "    plt.scatter(events.T[1], events.T[0], marker='.')\n",
    "    for idx, event in enumerate(events):\n",
    "        label = chr(ord('A') + idx)\n",
    "        if annotate_coords:\n",
    "            label += f':({round(event[0], 2)}, {round(event[1], 2)})'\n",
    "        plt.annotate(label, event[[1, 0]]+[0, 0.1])\n",
    "\n",
    "plot_events(events)\n",
    "\n",
    "t = np.linspace(-10, 10)\n",
    "\n",
    "x_eq_0 = np.stack([t, 0*t]).T\n",
    "plt.plot(x_eq_0.T[1], x_eq_0.T[0], label=\"x=0\")\n",
    "\n",
    "x = np.linspace(-10, 10)\n",
    "\n",
    "t_eq_0 = np.stack([0*x, x]).T\n",
    "plt.plot(t_eq_0.T[1], t_eq_0.T[0], label=\"t=0\", linestyle='dashed')\n",
    "\n",
    "x_eq_vt = np.stack([t, v*t]).T\n",
    "plt.plot(x_eq_vt.T[1], x_eq_vt.T[0], label=\"x=vt\", linestyle='dashdot')\n",
    "\n",
    "t_eq_vx = np.stack([v*x, x]).T\n",
    "plt.plot(t_eq_vx.T[1], t_eq_vx.T[0], label=\"t=vx\", linestyle='dotted')\n",
    "\n",
    "plt.legend()\n",
    "plt.xlabel('x')\n",
    "plt.ylabel('t')\n",
    "plt.axis('square')\n",
    "plt.xlim(-4, 4)\n",
    "plt.ylim(-4, 4)\n",
    "plt.grid()\n",
    "plt.title('Frame S')\n",
    "plt.show()"
   ]
  },
  {
   "cell_type": "markdown",
   "metadata": {},
   "source": [
    "So we have a 5x5 square grid of events $A$ through $Y$ centered at the origin, evenly spaced by one second along the $t$-axis and one light-second along the $x$-axis.\n",
    "\n",
    "In frame $S$, the events $K$, $L$, $M$, $N$, and $O$ all happen at the same time, $t=0$, so we can call them \"synchronous\" or \"simultaneous\" events in frame $S$. The same goes for the other sets of events that happen at the same time coordinate.\n",
    "\n",
    "Events the events $C$, $H$, $M$, $R$, and $W$ all happen at the same position, $x=0$, so we can call them \"colocal\" events in frame $S$. The same goes for the other sets of events that happen at the same position coordinate. (NOTE: I'm not sure if the term \"colocal\" is very widely used, but it is at least precedented: [link](https://indico.cern.ch/event/914602/contributions/3862166/attachments/2054986/3445645/CAP_2020_Sharp.pdf))\n",
    "\n",
    "One last thing to take note of is that the events $B$, $M$, and $X$ intersect with the line $x=vt$. Since this line represents the position of an object at rest at the spatial origin in frame $S'$, then the events $B$, $M$, and $X$ are going to be colocal at $x'=0$ in the $S'$ frame.\n",
    "\n",
    "Now let's transform all of these events and lines to create a plot of frame $S'$."
   ]
  },
  {
   "cell_type": "code",
   "execution_count": 8,
   "metadata": {},
   "outputs": [
    {
     "data": {
      "image/png": "[encoded data removed]",
      "text/plain": [
       "<Figure size 640x480 with 1 Axes>"
      ]
     },
     "metadata": {},
     "output_type": "display_data"
    }
   ],
   "source": [
    "def B(v, c):\n",
    "    return np.array([\n",
    "        [1, -v/c**2],\n",
    "        [-v, 1],\n",
    "    ]) / (1 - (v / c)**2)**0.5\n",
    "\n",
    "events_prime = np.matmul(events, B(v, c))\n",
    "plot_events(events_prime)\n",
    "\n",
    "x_eq_0_prime = np.matmul(x_eq_0, B(v, c))\n",
    "plt.plot(x_eq_0_prime.T[1], x_eq_0_prime.T[0], label=\"x=0\")\n",
    "\n",
    "t_eq_0_prime = np.matmul(t_eq_0, B(v, c))\n",
    "plt.plot(t_eq_0_prime.T[1], t_eq_0_prime.T[0], label=\"t=0\", linestyle='dashed')\n",
    "\n",
    "x_eq_vt_prime = np.matmul(x_eq_vt, B(v, c))\n",
    "plt.plot(x_eq_vt_prime.T[1], x_eq_vt_prime.T[0], label=\"x=vt\", linestyle='dashdot')\n",
    "\n",
    "t_eq_vt_prime = np.matmul(t_eq_vx, B(v, c))\n",
    "plt.plot(t_eq_vt_prime.T[1], t_eq_vt_prime.T[0], label=\"t=vx\", linestyle='dotted')\n",
    "\n",
    "plt.legend()\n",
    "plt.xlabel(\"x'\")\n",
    "plt.ylabel(\"t'\")\n",
    "plt.axis('square')\n",
    "plt.ylim(-4, 4)\n",
    "plt.xlim(-4, 4)\n",
    "plt.grid()\n",
    "plt.title(\"Frame S'\")\n",
    "plt.show()"
   ]
  },
  {
   "cell_type": "markdown",
   "metadata": {},
   "source": [
    "We confirm that events $B$, $M$, and $X$ are colocal at $x'=0$ in frame $S'$, as expected.\n",
    "\n",
    "We also see that the continuum of events along the line $x=0$ and the specific events which intersect it, $C$, $H$, $M$, $R$, and $W$, which were all colocal in frame $S$ are no longer colocal in frame $S'$--they don't happen at the same $x'$ position. We can show this mathematically as well, by setting $x=0$ in the Lorentz transformation, like so:"
   ]
  },
  {
   "cell_type": "markdown",
   "metadata": {},
   "source": [
    "$$ t' = \\frac{t - vx/c^2}{\\sqrt{1 - (v/c)^2}} = \\frac{t}{\\sqrt{1 - (v/c)^2}} $$\n",
    "$$ t = t' \\sqrt{1 - (v/c)^2} $$\n",
    "$$ x' = \\frac{x - vt}{\\sqrt{1 - (v/c)^2}} = \\frac{-vt}{\\sqrt{1 - (v/c)^2}}$$\n",
    "$$ x' = -vt' $$"
   ]
  },
  {
   "cell_type": "markdown",
   "metadata": {},
   "source": [
    "The fact that the equation $x=0$ transforms to $x' = -v t'$ is no surprise--we relied on that fact in the thought experiments earlier, before we had derived the Lorentz transformations. But it's good to confirm that the Lorentz transformations are consistent with what we said about the thought experiments.\n",
    "\n",
    "Another interesting observation is that the events $K$, $L$, $M$, $N$, and $O$, which are simultaneous at $t=0$ in frame $S$, are not simultaneous in frame $S'$--they all happen at different times $t'$. Furthermore, the events $F$, $M$, $T$, as well as the continuum of events along the line $t=vx$, are simultaneous at $t'=0$ in frame $S'$, and those events were not simultaneous in frame $S$. And now it becomes clear that the line $t = vx$ is the same as $t'=0$, the time axis in frame $S'$.\n",
    "\n",
    "The effect that two events that happen at the same time in one frame may not happen at the same time in another frame is called the \"relativity of simultaneity\", and it is yet another one of the crazy consequences of special relativity."
   ]
  },
  {
   "cell_type": "markdown",
   "metadata": {},
   "source": [
    "We can also see the effects of length contraction. Imagine that the events at $x=-2$ and $x=2$ are the two ends of a rod sitting at rest in frame $S$. At time $t=0$ for instance, the rod's length is 4 light-seconds in frame $S$, the distance between events $K$ and $O$. But in frame $S'$, the rod's length at $t'=0$, is shorter than 4--it's the distance between events $F$ and $T$. The code below shows that the contracted length of the rod is $3.4$ light-seconds, and it also confirms that the length contraction formula gives the same result."
   ]
  },
  {
   "cell_type": "code",
   "execution_count": 3,
   "metadata": {},
   "outputs": [
    {
     "name": "stdout",
     "output_type": "stream",
     "text": [
      "3.4641016151377553\n"
     ]
    }
   ],
   "source": [
    "F_prime = events_prime[ord('F') - ord('A')]\n",
    "T_prime = events_prime[ord('T') - ord('A')]\n",
    "assert F_prime[0] == T_prime[0] == 0\n",
    "length = T_prime[1] - F_prime[1]\n",
    "length_expected =  4 * (1 - (v/c)**2)**0.5\n",
    "assert abs(length - length_expected) < 0.0001\n",
    "print(length)\n"
   ]
  },
  {
   "cell_type": "markdown",
   "metadata": {},
   "source": [
    "And of course we can also see time dilation. The events $C$ and $W$ are colocal at $x=0$ in frame S, and they are separated in time by 4 seconds. But in frame $S'$, those same events $C$ and $W$ are a little more than 4 seconds apart along the $t'$-axis. The code below shows that they are 4.6 seconds apart, and it confirms that the time dilation formula gives the same result."
   ]
  },
  {
   "cell_type": "code",
   "execution_count": 4,
   "metadata": {},
   "outputs": [
    {
     "name": "stdout",
     "output_type": "stream",
     "text": [
      "4.618802153517007\n"
     ]
    }
   ],
   "source": [
    "C_prime = events_prime[ord('C') - ord('A')]\n",
    "W_prime = events_prime[ord('W') - ord('A')]\n",
    "time_delta = W_prime[0] - C_prime[0]\n",
    "time_delta_expected = 4 / (1 - (v/c)**2)**0.5\n",
    "assert abs(time_delta - time_delta_expected) < 0.0001\n",
    "print(time_delta)"
   ]
  },
  {
   "cell_type": "markdown",
   "metadata": {},
   "source": [
    "### Spacetime distance\n",
    "\n",
    "In the Galilean relativity notes, I tried and failed to come up with a formula for a distance between two events in all 4 dimensions of spacetime, which remains invariant under Galilean transformations. Let's try to do that same thing with the Lorentz transformation.\n",
    "\n",
    "We'll try this distance formula: $ds = \\sqrt{\\alpha (dt)^2 + \\beta (dx)^2 + \\beta (dy)^2 + \\beta (dz)^2} $ The spatial dimensions should all be on equal footing, since the choice of spatial axes should be arbitrary in principle, so we're scaling them all by the same number $\\beta$. We'll take the distance between the origin and some event in two different frames and set them equal to each other to find out what $\\alpha$ and $\\beta$ are."
   ]
  },
  {
   "cell_type": "markdown",
   "metadata": {},
   "source": [
    "$$ \\sqrt{\\alpha t^2 + \\beta x^2 + \\beta y^2 + \\beta z^2} = \\sqrt{\\alpha t'^2 + \\beta x'^2 + \\beta y'^2 + \\beta z'^2} $$\n",
    "$$ \\alpha t^2 + \\beta x^2 + \\beta y^2 + \\beta z^2 = \\alpha (\\frac{t - vx/c^2}{\\sqrt{1 - (v/c)^2}})^2 + \\beta (\\frac{x-vt}{\\sqrt{1 - (v/c)^2}})^2 + \\beta y^2 + \\beta z^2 $$\n",
    "$$ \\alpha t^2 + \\beta x^2 = \\frac{\\alpha (t^2 - (2v/c^2)tx + (v^2 / c^4) x^2) + \\beta (x^2 - 2v tx + v^2 t^2)}{1 - v^2/c^2} $$\n",
    "$$ \\alpha (t^2 - (v^2 / c^2) t^2) + \\beta (x^2 - (v^2 / c^2) x^2) = \\alpha (t^2 - (2v/c^2)tx + (v^2 / c^4) x^2) + \\beta (x^2 - 2vtx + v^2 t^2) $$\n",
    "$$ \\alpha (t^2 - (v^2 / c^2) t^2 - t^2 + (2v/c^2)tx - (v^2 / c^4) x^2) = \\beta (x^2 - 2vtx + v^2 t^2 - x^2 + (v^2 / c^2) x^2) $$\n",
    "$$ \\alpha (-(v^2 / c^2) t^2 + (2v/c^2)tx - (v^2 / c^4) x^2) = \\beta (-2vtx + v^2 t^2 + (v^2 / c^2) x^2) $$\n",
    "$$ \\alpha (-v^2  c^2 t^2 + 2vc^2tx - v^2 x^2) = \\beta (-2vc^4tx + v^2c^4 t^2 + v^2  c^2 x^2) $$\n",
    "$$ \\alpha v (-v  c^2 t^2 + 2c^2tx - v x^2) = \\beta v c^2 (-2c^2tx + vc^2 t^2 + v x^2) $$\n",
    "$$ \\alpha (-v  c^2 t^2 + 2c^2tx - v x^2) = \\beta c^2 (vc^2 t^2 - 2c^2tx  + v x^2) $$\n",
    "$$ \\alpha (-v  c^2 t^2 + 2c^2tx - v x^2) = -\\beta c^2 (-vc^2 t^2 + 2c^2tx  - v x^2) $$\n",
    "$$ \\alpha = -\\beta c^2 $$"
   ]
  },
  {
   "cell_type": "markdown",
   "metadata": {},
   "source": [
    "So we've found a distance formula that works in special relativity!\n",
    "\n",
    "There are two different distance formulas that are commonly used in special relativity. One of them sets the scaling factor for the spatial dimensions $\\beta = 1$, which gives $\\alpha = -c^2$. The other sets the scaling factor for the time dimension $\\alpha=1$, which gives $\\beta = -\\frac{1}{c^2}$. Here they are:"
   ]
  },
  {
   "cell_type": "markdown",
   "metadata": {},
   "source": [
    "$$ ds = \\sqrt{-c^2(dt)^2 + (dx)^2 + (dy)^2 + (dz)^2} $$\n",
    "$$ d\\tau = \\sqrt{(dt)^2 - (dx/c)^2 - (dy/c)^2 - (dz/c)^2} $$"
   ]
  },
  {
   "cell_type": "markdown",
   "metadata": {},
   "source": [
    "$ds$ is called the \"proper distance\" between two events, and $d\\tau$ is called the \"proper time\" between two events.\n",
    "\n",
    "In order to see why they have these names, I think it's useful to look at some examples. We'll continue to use $c=1$ for simplicity."
   ]
  },
  {
   "cell_type": "code",
   "execution_count": 5,
   "metadata": {},
   "outputs": [
    {
     "data": {
      "image/png": "[encoded data removed]",
      "text/plain": [
       "<Figure size 640x480 with 1 Axes>"
      ]
     },
     "metadata": {},
     "output_type": "display_data"
    }
   ],
   "source": [
    "events = np.array([\n",
    "    (2, 0),\n",
    "    (0, 2),\n",
    "    (2, 1),\n",
    "    (1, 2),\n",
    "    (2, 2),\n",
    "])\n",
    "\n",
    "x_eq_ct = np.stack((t, c * t)).T\n",
    "x_eq_neg_ct = np.stack((t, -c * t)).T\n",
    "\n",
    "plot_events(events, annotate_coords=True)\n",
    "plt.plot(x_eq_ct.T[1], x_eq_ct.T[0], label='x=ct')\n",
    "plt.plot(x_eq_neg_ct.T[1], x_eq_neg_ct.T[0], label='x=-ct')\n",
    "\n",
    "plt.legend()\n",
    "plt.xlabel('x')\n",
    "plt.ylabel('t')\n",
    "plt.axis('square')\n",
    "plt.xlim(-3, 3)\n",
    "plt.ylim(-3, 3)\n",
    "plt.grid()\n",
    "plt.title('Frame S')\n",
    "plt.show()"
   ]
  },
  {
   "cell_type": "markdown",
   "metadata": {},
   "source": [
    "The proper time between the origin and 4-vector $A$ is $\\tau = \\sqrt{2^2 - 0^2} = 2 $. So it becomes clear that if two 4-vectors have the same position coordinates and different time coordinates, then the proper time between them is just equal to the time displacement between them. The proper distance between the origin and $A$ is $s = \\sqrt{-2^2 + 0^2} = 2i$. So a real proper time is equivalent to an imaginary proper distance of the same magnitude, if $c=1$. When the proper time is a real number, the displacement is often called a \"timelike\" displacement."
   ]
  },
  {
   "cell_type": "markdown",
   "metadata": {},
   "source": [
    "Now for the proper distance between the origin and $B$, we have $s=\\sqrt{-0^2 + 2^2} = 2$. So it's clear that if two 4-vectors have the same time coordinates but different position coordinates, then the proper distance between them is equal to the spatial distance between them. For the proper time, we have $\\tau=\\sqrt{0^2 - 2^2} = 2i$. So a real proper distance is equivalent to an imaginary proper time of the same magnitude, if $c=1$. When the proper distance is a real number, the displacement is often called a \"spacelike\" displacement."
   ]
  },
  {
   "cell_type": "markdown",
   "metadata": {},
   "source": [
    "For $C$, we have $\\tau=\\sqrt{2^2 - 1^2} = \\sqrt{3}$ and $s=\\sqrt{-2^2 + 1^2} = \\sqrt{3}i$.\n",
    "\n",
    "For $D$, we have $\\tau=\\sqrt{1^2 - 2^2} = \\sqrt{3}i$ and $s=\\sqrt{-1^2 + 2^2} = \\sqrt{3}$."
   ]
  },
  {
   "cell_type": "markdown",
   "metadata": {},
   "source": [
    "Now for $E$, we have something pretty interesting, $\\tau=\\sqrt{2^2 - 2^2} = 0$ and $s=\\sqrt{-2^2 + 2^2} = 0$. The spacetime distance between the origin and $E$ is 0, even though the time and space coordinates of $E$ are nonzero. In fact, any two events which can be intersected by a single light ray always have a proper time and proper distance of 0 between them. In that case, the displacement is often called a \"lightlike\" displacement."
   ]
  },
  {
   "cell_type": "markdown",
   "metadata": {},
   "source": [
    "Now I'm going to transform to a frame $S'$ moving along $x=vt$. This line intersects with event $C$, so we will expect $C'$ to be at position $x'=0$ in the new frame."
   ]
  },
  {
   "cell_type": "code",
   "execution_count": 6,
   "metadata": {},
   "outputs": [
    {
     "data": {
      "image/png": "[encoded data removed]",
      "text/plain": [
       "<Figure size 640x480 with 1 Axes>"
      ]
     },
     "metadata": {},
     "output_type": "display_data"
    }
   ],
   "source": [
    "x_eq_ct = np.stack((t, c * t)).T\n",
    "x_eq_neg_ct = np.stack((t, -c * t)).T\n",
    "\n",
    "v = 0.5\n",
    "b = B(v, c)\n",
    "events_prime = np.matmul(events, b)\n",
    "x_eq_ct_prime = np.matmul(x_eq_ct, b)\n",
    "x_eq_neg_ct_prime = np.matmul(x_eq_neg_ct, b)\n",
    "\n",
    "plot_events(events_prime, annotate_coords=True)\n",
    "plt.plot(x_eq_ct_prime.T[1], x_eq_ct_prime.T[0], label='x=ct')\n",
    "plt.plot(x_eq_neg_ct_prime.T[1], x_eq_neg_ct_prime.T[0], label='x=-ct')\n",
    "\n",
    "plt.legend()\n",
    "plt.xlabel('x')\n",
    "plt.ylabel('t')\n",
    "plt.axis('square')\n",
    "plt.xlim(-3, 3)\n",
    "plt.ylim(-3, 3)\n",
    "plt.grid()\n",
    "plt.title(\"Frame S'\")\n",
    "plt.show()"
   ]
  },
  {
   "cell_type": "markdown",
   "metadata": {},
   "source": [
    "Indeed $C'^x = 0$ as expected.\n",
    "\n",
    "The proper times and distances between the origin and each of the 4-vectors in frame $S'$ should remain the same as they were in frame $S$ (aside from the error introduced by only using 2 decimal places). Let's check it.\n",
    "\n",
    "$A'$: $\\tau = \\sqrt{2.31^2 - (-1.15)^2} = 2$.\n",
    "\n",
    "$A'$: $\\tau = \\sqrt{(-1.15)^2 - 2.31^2} = 2i$.\n",
    "\n",
    "$C'$: $\\tau = \\sqrt{1.73^2 - 0^2} = 1.73 = \\sqrt{3}$.\n",
    "\n",
    "$D'$: $\\tau = \\sqrt{0 - 1.73^2} = 1.73i = \\sqrt{3}i$.\n",
    "\n",
    "$E'$: $\\tau = \\sqrt{1.15^2 - 1.15^2} = 0$"
   ]
  },
  {
   "cell_type": "markdown",
   "metadata": {},
   "source": [
    "### 4-velocity\n",
    "\n",
    "Just like we did with the Galilean transformation, we can use the Lorentz transformation matrix $B_x(v)$ to transform not just events but also velocity vectors. We have to somehow express a velocity as a 4-vector. The formula for that when doing a Lorentz transformation may be a little different than it was for the the Galilean transformation.\n",
    "\n",
    "Since velocity is the time derivative of position, and an event is a position in spacetime, a 4-vector representing a velocity must be the time derivative of the 4-vector for an event. However, it turns out that if we take the derivative of an event with respect to $t$, that would not end up transforming correctly. Instead, we need to take the derivative with respect to $\\tau$, proper time."
   ]
  },
  {
   "cell_type": "markdown",
   "metadata": {},
   "source": [
    "$$ \\frac{\\partial \\textbf{X}}{\\partial \\tau} =\n",
    "\n",
    "\\begin{pmatrix}\n",
    "\\dfrac{dt}{d\\tau} \\\\\n",
    "\\\\\n",
    "\\dfrac{dx}{d\\tau} \\\\\n",
    "\\\\\n",
    "\\dfrac{dy}{d\\tau} \\\\\n",
    "\\\\\n",
    "\\dfrac{dz}{d\\tau} \\\\\n",
    "\\end{pmatrix}\n",
    "$$"
   ]
  },
  {
   "cell_type": "markdown",
   "metadata": {},
   "source": [
    "We can express this 4-velocity in a different way, without the $\\tau$ symbol. We'll change the proper time formula to find an expression for $\\frac{dt}{d\\tau}$. Once we have that, we can replace $\\dot{\\textbf{X}}^t$ directly. To replace the spatial components, we can use the chain rule to replace $\\frac{dx}{d\\tau} = \\frac{dx}{dt} \\frac{dt}{d\\tau}$. Below I'm going to abbreviate all the spatial components $x$, $y$, and $z$ into the 3-vector $X = (x, y, z)$."
   ]
  },
  {
   "cell_type": "markdown",
   "metadata": {},
   "source": [
    "$$ d\\tau = \\sqrt{(dt)^2 - (dX/c)^2} $$\n",
    "$$ (d\\tau)^2 = (dt)^2 - (dX/c)^2 $$\n",
    "$$ (\\frac{d\\tau}{dt})^2 = 1 - (\\frac{1}{c}\\frac{dX}{dt})^2 $$\n",
    "$$ \\frac{d\\tau}{dt} = \\sqrt{1 - (\\dot{X}/c)^2} $$"
   ]
  },
  {
   "cell_type": "markdown",
   "metadata": {},
   "source": [
    "And then performing all the substitutions:"
   ]
  },
  {
   "cell_type": "markdown",
   "metadata": {},
   "source": [
    "$$ \\frac{\\partial \\textbf{X}}{\\partial \\tau}\n",
    "\n",
    "=\n",
    "\\begin{pmatrix}\n",
    "\\dfrac{dt}{d\\tau} \\\\\n",
    "\\\\\n",
    "\\dfrac{dx}{d\\tau} \\\\\n",
    "\\\\\n",
    "\\dfrac{dy}{d\\tau} \\\\\n",
    "\\\\\n",
    "\\dfrac{dz}{d\\tau} \\\\\n",
    "\\end{pmatrix}\n",
    "\n",
    "=\n",
    "\\begin{pmatrix}\n",
    "\\dfrac{dt}{d\\tau} \\\\\n",
    "\\\\\n",
    "\\dfrac{dx}{dt}\\dfrac{dt}{d\\tau} \\\\\n",
    "\\\\\n",
    "\\dfrac{dy}{dt}\\dfrac{dt}{d\\tau} \\\\\n",
    "\\\\\n",
    "\\dfrac{dz}{dt}\\dfrac{dt}{d\\tau} \\\\\n",
    "\\end{pmatrix}\n",
    "\n",
    "=\n",
    "\\dfrac{dt}{d\\tau}\n",
    "\\begin{pmatrix}\n",
    "1 \\\\\n",
    "\\dot{x} \\\\\n",
    "\\dot{y} \\\\\n",
    "\\dot{z} \\\\\n",
    "\\end{pmatrix}\n",
    "\n",
    "=\n",
    "\n",
    "\\frac{1}{\\sqrt{1 - (\\dot{X}/c)^2}}\n",
    "\\begin{pmatrix}\n",
    "1 \\\\\n",
    "\\dot{x} \\\\\n",
    "\\dot{y} \\\\\n",
    "\\dot{z} \\\\\n",
    "\\end{pmatrix}\n",
    "$$"
   ]
  },
  {
   "cell_type": "markdown",
   "metadata": {},
   "source": [
    "Just to be clear, we're taking $\\dot X$ to be the 3-velocity, so $(\\dot X / c)^2 = (\\dot{x}^2 + \\dot{y}^2 + \\dot{z}^2)/c^2$.\n",
    "\n",
    "Notice that if $c$ approaches infinity, the above 4-velocity becomes equal to the Galilean 4-velocity."
   ]
  },
  {
   "cell_type": "markdown",
   "metadata": {},
   "source": [
    "### Transforming velocities"
   ]
  },
  {
   "cell_type": "markdown",
   "metadata": {},
   "source": [
    "Since $\\dfrac{\\partial \\textbf{X}}{\\partial \\tau}$ is a 4-vector, we can transform it just like any other 4-vector."
   ]
  },
  {
   "cell_type": "markdown",
   "metadata": {},
   "source": [
    "$$ \\frac{\\partial \\textbf{X}'}{\\partial \\tau} = B_x(v)\\frac{\\partial \\textbf{X}'}{\\partial \\tau} $$"
   ]
  },
  {
   "cell_type": "markdown",
   "metadata": {},
   "source": [
    "For example, if the 3-velocity only has a component in the $x$-dimension, this becomes:"
   ]
  },
  {
   "cell_type": "markdown",
   "metadata": {},
   "source": [
    "$$\n",
    "\\frac{\\partial \\textbf{X}'}{\\partial \\tau}\n",
    "=\n",
    "B_x(v)\n",
    "\\frac{1}{\\sqrt{1 - (\\dot{x}/c)^2}}\n",
    "\\begin{pmatrix}\n",
    "1 \\\\\n",
    "\\dot{x} \\\\\n",
    "\\end{pmatrix}\n",
    "$$\n"
   ]
  },
  {
   "cell_type": "markdown",
   "metadata": {},
   "source": [
    "\n",
    "$$\n",
    "\\frac{1}{\\sqrt{1 - (\\dot{x}'/c)^2}}\n",
    "\\begin{pmatrix}\n",
    "1 \\\\\n",
    "\\dot{x}' \\\\\n",
    "\\end{pmatrix}\n",
    "=\n",
    "\\frac{1}{\\sqrt{1 - (v/c)^2}}\n",
    "\\begin{pmatrix}\n",
    "1 & -v/c^2 \\\\\n",
    "-v & 1\n",
    "\\end{pmatrix}\n",
    "\n",
    "\\frac{1}{\\sqrt{1 - (\\dot{x}/c)^2}}\n",
    "\\begin{pmatrix}\n",
    "1 \\\\\n",
    "\\dot{x} \\\\\n",
    "\\end{pmatrix}\n",
    "$$"
   ]
  },
  {
   "cell_type": "markdown",
   "metadata": {},
   "source": [
    "\n",
    "$$\n",
    "\\frac{1}{\\sqrt{1 - (\\dot{x}'/c)^2}}\n",
    "\\begin{pmatrix}\n",
    "1 \\\\\n",
    "\\dot{x}' \\\\\n",
    "\\end{pmatrix}\n",
    "=\n",
    "\\frac{1}{\\sqrt{1 - (v/c)^2}}\n",
    "\\frac{1}{\\sqrt{1 - (\\dot{x}/c)^2}}\n",
    "\\begin{pmatrix}\n",
    "1  -v\\dot{x}/c^2 \\\\\n",
    "-v + \\dot{x}\n",
    "\\end{pmatrix}\n",
    "$$"
   ]
  },
  {
   "cell_type": "markdown",
   "metadata": {},
   "source": [
    "So we have two equations that show a relationship between $\\dot{x}$ and $\\dot{x}'$. But since the time component of a 4-velocity is completely dependent on the spatial dimensions, we should be able to choose either one of these equations, solve it for $\\dot{x}'$, and get the same result. I won't show all the steps, but the answer is:"
   ]
  },
  {
   "cell_type": "markdown",
   "metadata": {},
   "source": [
    "$$ \\dot{x}' = \\frac{\\dot{x} - v}{1 - v\\dot{x}/c^2} $$"
   ]
  },
  {
   "cell_type": "markdown",
   "metadata": {},
   "source": []
  }
 ],
 "metadata": {
  "kernelspec": {
   "display_name": "Python 3 (ipykernel)",
   "language": "python",
   "name": "python3"
  },
  "language_info": {
   "codemirror_mode": {
    "name": "ipython",
    "version": 3
   },
   "file_extension": ".py",
   "mimetype": "text/x-python",
   "name": "python",
   "nbconvert_exporter": "python",
   "pygments_lexer": "ipython3",
   "version": "3.11.3"
  }
 },
 "nbformat": 4,
 "nbformat_minor": 2
}
